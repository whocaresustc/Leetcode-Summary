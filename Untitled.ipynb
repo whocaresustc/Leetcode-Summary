{
 "cells": [
  {
   "cell_type": "code",
   "execution_count": null,
   "metadata": {
    "collapsed": true
   },
   "outputs": [],
   "source": [
    "path = \"NESWW\""
   ]
  },
  {
   "cell_type": "code",
   "execution_count": 1,
   "metadata": {
    "collapsed": true
   },
   "outputs": [],
   "source": [
    "class Solution:\n",
    "    def isPathCrossing(self, path: str) -> bool:\n",
    "        visited = set((0, 0))\n",
    "        directions = {'N':(0, 1), 'S':(0, -1), 'E':(1, 0), 'W':(-1, 0)}\n",
    "        cur_x, cur_y = 0, 0\n",
    "        next_x, next_y = 0, 0\n",
    "        for direction in path:\n",
    "            dx, dy = directions[direction]\n",
    "            next_x, next_y = cur_x + dx, cur_y + dy\n",
    "            if (next_x, next_y) in visited:\n",
    "                return True\n",
    "            visited.add((next_x, next_y))\n",
    "            cur_x, cur_y = next_x, next_y\n",
    "        return False"
   ]
  },
  {
   "cell_type": "code",
   "execution_count": null,
   "metadata": {
    "collapsed": true
   },
   "outputs": [],
   "source": []
  }
 ],
 "metadata": {
  "kernelspec": {
   "display_name": "Python 3",
   "language": "python",
   "name": "python3"
  },
  "language_info": {
   "codemirror_mode": {
    "name": "ipython",
    "version": 3
   },
   "file_extension": ".py",
   "mimetype": "text/x-python",
   "name": "python",
   "nbconvert_exporter": "python",
   "pygments_lexer": "ipython3",
   "version": "3.6.10"
  }
 },
 "nbformat": 4,
 "nbformat_minor": 2
}
