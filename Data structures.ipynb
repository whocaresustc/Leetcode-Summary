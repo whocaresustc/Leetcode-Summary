{
 "cells": [
  {
   "cell_type": "markdown",
   "metadata": {},
   "source": [
    "# [Data structure time complexity](http://java-questions.com/ds-time-complexity.html)"
   ]
  },
  {
   "cell_type": "markdown",
   "metadata": {},
   "source": [
    "## Linked List:\n",
    "A linked list is a linear data structure where each element is a separate object.\n",
    "Linked list elements are not stored at contiguous location; the elements are linked using pointers.\n",
    "\n",
    "Each node of a list is made up of two items - the data and a reference to the next node. The last node has a reference to null. The entry point into a linked list is called the head of the list. It should be noted that head is not a separate node, but the reference to the first node. If the list is empty then the head is a null reference.\n",
    "\n",
    "Arrays Vs Linked Lists\n",
    "Arrays and Linked Lists both are linear data structures, but they both have some advantages and disadvantages over each other.\n",
    "\n",
    "One advantage of the linked list is that elements can be added to it indefinitely, while an array will eventually get filled or have to be resized (a costly operation that isn't always possible). \n",
    "\n",
    "Elements are also easily removed from a linked list whereas removing elements from an array leaves empty spaces that are a waste of computer memory.\n",
    "\n",
    "- Inserting: O(1), if done at the head, O(n) if anywhere else since we have to reach that position by traveseing the linkedlist linearly.\n",
    "- Deleting: O(1), if done at the head, O(n) if anywhere else since we have to reach that position by traveseing the linkedlist linearly.\n",
    "- Searching: O(n)\n",
    "\n",
    "\n",
    "#Linked list example in Python\n",
    "#Node class\n",
    "\n",
    "\n",
    "class Node:\n",
    "    # Function to initialize the node object\n",
    "    def __init__(self, v):\n",
    "        self.val = v  # Assign value\n",
    "        self.next = None  # Initialize next as null\n",
    "  \n",
    "#Linked List class\n",
    "\n",
    "\n",
    "class ListNode:\n",
    "    # Function to initialize the Linked List\n",
    "    def __init__(self): \n",
    "        self.head = None"
   ]
  },
  {
   "cell_type": "markdown",
   "metadata": {},
   "source": [
    "## Heap/PriorityQueue (min/max): \n",
    "\n",
    "In computer science, a heap is a specialized tree-based data structure which is essentially an almost complete[1] tree that satisfies the heap property: in a max heap, for any given node C, if P is a parent node of C, then the key (the value) of P is greater than or equal to the key of C. In a min heap, the key of P is less than or equal to the key of C.[2] The node at the \"top\" of the heap (with no parents) is called the root node.\n",
    "\n",
    "The heap is one maximally efficient implementation of an abstract data type called a priority queue, and in fact, priority queues are often referred to as \"heaps\", regardless of how they may be implemented.\n",
    "\n",
    "    \n",
    "- Find Min/Find Max: O(1)   To access the smallest item without popping it, use heap[0]\n",
    "- Insert(heappush): O(log n)\n",
    "- Delete Min/Delete Max(heappop): O(log n)\n",
    "- Extract Min/Extract Max: O(log n)\n",
    "- Lookup, Delete (if at all provided): O(n), we will have to scan all the elements as they are not ordered like BST\n",
    "- heapq.heapify(x) : O(n) Transform list x into a heap, in-place, in linear time."
   ]
  },
  {
   "cell_type": "markdown",
   "metadata": {},
   "source": [
    "\n"
   ]
  },
  {
   "cell_type": "markdown",
   "metadata": {},
   "source": [
    "## Hashtable(Hashmap) (dictionary in python):\n",
    "\n",
    "In computing, a hash table (hash map) is a data structure that implements an associative array abstract data type, a structure that can map keys to values. A hash table uses a hash function to compute an index, also called a hash code, into an array of buckets or slots, from which the desired value can be found.\n",
    "\n",
    "Algorithm\tAverage\tWorst case\n",
    "Space\t\tO(n)[1]\tO(n)\n",
    "Search\t\tO(1)\tO(n)\n",
    "Insert\t\tO(1)\tO(n)\n",
    "Delete\t\tO(1)\tO(n)\n",
    "\n",
    "In Python, the Dictionary data types represent the implementation of hash tables.\n",
    "\n",
    "## Hashset (set in python)\n",
    "Ideally, the hash function will assign each key to a unique bucket, but most hash table designs employ an imperfect hash function, which might cause hash collisions where the hash function generates the same index for more than one key. Such collisions are always accommodated in some way."
   ]
  },
  {
   "cell_type": "markdown",
   "metadata": {},
   "source": [
    "## [Array](https://dbader.org/blog/python-arrays)\n",
    "Python includes several array-like data structures in its standard library that each have slightly different characteristics. If you’re wondering how to declare an array in Python, this list will help pick the right data structure.\n",
    "\n",
    "- list – Mutable Dynamic Arrays\n",
    "Lists are a part of the core Python language. Despite their name, Python’s lists are implemented as dynamic arrays behind the scenes. This means lists allow elements to be added or removed and they will automatically adjust the backing store that holds these elements by allocating or releasing memory.\n",
    "\n",
    "Python lists can hold arbitrary elements—“everything” is an object in Python, including functions. Therefore you can mix and match different kinds of data types and store them all in a single list.\n",
    "\n",
    "This can be a powerful feature, but the downside is that supporting multiple data types at the same time means that data is generally less tightly packed and the whole structure takes up more space as a result.\n",
    "\n",
    "- tuple – Immutable Containers\n",
    "\n",
    "\n",
    "## Tree (Tree, Binary Tree, Binary Search Tree, Red-Black Tree, etc.)\n",
    "\n",
    "\n",
    "## [Stack (LIFO)](https://en.wikipedia.org/wiki/Stack_(abstract_data_type)):\n",
    "In computer science, a stack is an abstract data type that serves as a collection of elements, with two principal operations:\n",
    "\n",
    "- push, which adds an element to the collection, and\n",
    "- pop, which removes the most recently added element that was not yet removed.\n",
    "\n",
    "This data structure makes it possible to implement a stack as a singly linked list and a pointer to the top element. A stack may be implemented to have a bounded capacity. If the stack is full and does not contain enough space to accept an entity to be pushed, the stack is then considered to be in an overflow state. The pop operation removes an item from the top of the stack.\n",
    "\n",
    "- [The list Built-in](https://www.edureka.co/blog/stack-in-python/):\n",
    "Python’s built-in list type makes a decent stack data structure as it supports push and pop operations in amortized O(1) time. (If you do an operation say a million times, you don't really care about the worst-case or the best-case of that operation - what you care about is how much time is taken in total when you repeat the operation a million times.)\n",
    "\n",
    "Python’s lists are implemented as dynamic arrays internally which means they occasionally need to resize the storage space for elements stored in them whenever they are added or removed. The storage space is allocated more than required, so that not every push or pop requires resizing and you get an amortized O(1) time complexity for these operations.\n",
    "\n",
    "Although this makes their performance less consistent than the stable O(1) inserts and deletes provided by a linked list-based implementation. On the other hand, lists provide fast O(1) time random access to elements on the stack which can be an added benefit.\n",
    "\n",
    "- The collections.deque Class:\n",
    "\n",
    "The deque class implements a double-ended queue which supports addition and removal of elements from either end in O(1) time (non-amortized).\n",
    "\n",
    "Because deques support adding and removing elements from both ends equally well, they can serve both as queues and as stacks.\n",
    "\n",
    "Python’s deque objects are implemented as doubly-linked lists which gives them proper and consistent performance insertion and deletion of elements, but poor O(n) performance as they randomly access elements in the middle of the stack.\n",
    "\n",
    "collections.deque is a favourable choice if you’re looking for a stack data structure in Python’s standard library with the performance characteristics of a linked-list implementation.\n",
    "\n",
    "## [Queue](https://www.geeksforgeeks.org/queue-in-python/):\n",
    "- Insert: O(1)\n",
    "- Remove: O(1)\n",
    "- Size: O(1)\n",
    "\n",
    "A Queue is a linear data structure that stores a collection of elements. The queue operates on first in first out (FIFO) algorithm.\n",
    "\n",
    "- List is a Python’s built-in data structure that can be used as a queue. Instead of enqueue() and dequeue(), append() and pop() function is used. However, lists are quite slow for this purpose because inserting or deleting an element at the beginning requires shifting all of the other elements by one, requiring O(n) time.\n",
    "\n",
    "- Implementation using collections.deque\n",
    "\n",
    "\n",
    "Queue in Python can be implemented using deque class from the collections module. Deque is preferred over list in the cases where we need quicker append and pop operations from both the ends of container, as deque provides an O(1) time complexity for append and pop operations as compared to list which provides O(n) time complexity. Instead of enqueue and deque, append() and popleft() functions are used.\n",
    "\n",
    "\n",
    "\n",
    "## Trie\n",
    "In computer science, a trie, also called digital tree or prefix tree, is a kind of search tree—an ordered tree data structure used to store a dynamic set or associative array where the keys are usually strings. \n",
    "\n",
    "All the descendants of a node have a common prefix of the string associated with that node, and the root is associated with the empty string.\n"
   ]
  },
  {
   "cell_type": "code",
   "execution_count": null,
   "metadata": {
    "collapsed": true
   },
   "outputs": [],
   "source": []
  }
 ],
 "metadata": {
  "kernelspec": {
   "display_name": "Python 3",
   "language": "python",
   "name": "python3"
  },
  "language_info": {
   "codemirror_mode": {
    "name": "ipython",
    "version": 3
   },
   "file_extension": ".py",
   "mimetype": "text/x-python",
   "name": "python",
   "nbconvert_exporter": "python",
   "pygments_lexer": "ipython3",
   "version": "3.6.10"
  }
 },
 "nbformat": 4,
 "nbformat_minor": 2
}
