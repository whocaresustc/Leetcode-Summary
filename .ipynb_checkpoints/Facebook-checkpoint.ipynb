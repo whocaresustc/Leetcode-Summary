{
 "cells": [
  {
   "cell_type": "code",
   "execution_count": null,
   "metadata": {
    "collapsed": true
   },
   "outputs": [],
   "source": []
  },
  {
   "cell_type": "markdown",
   "metadata": {},
   "source": [
    "# Distributed System design\n",
    "for example URL shortening \n",
    "\n",
    "- Ask clarifying questions\n",
    "- Drive and lead the discussion\n",
    "\n",
    "\n",
    "* Ask the interviewers use cases and the DAU\n",
    "\n",
    "* Go through the use cases\n",
    "\n",
    "* Database schema\n",
    "\n",
    "* Read-heavy \n",
    "\n",
    " push vs pull models:\n",
    " \n",
    " clear flow steps:\n",
    " step 1: download sever query the follow table => UserIDs\n",
    " step 2: UserIDs query image metadata => ImageIDs\n",
    " step 3: ImagesIDs query image file system => Images\n",
    " \n",
    " \n",
    " \n",
    " consitent hashing\n",
    " \n",
    " share the screen\n",
    " \n",
    "\n",
    "86400 ~= 10^5"
   ]
  },
  {
   "cell_type": "markdown",
   "metadata": {},
   "source": [
    "# ML design interview\n",
    "Focus on the overall architecture but also the modelling part\n",
    "\n",
    "No coding needed \n",
    "\n",
    "Pros and cons of algorithm, assumption, alternative algorithms, highlight the scheleton\n",
    "\n",
    "data quality, lable issue, model deployment, monitor and update, debug\n",
    "\n",
    "- Domain focus ML topic? ML infrastruture or ML theory? NLP? News feed ranking\n",
    "- Discuss multiple solutions: pros and cons\n",
    "- Pick some features or products that have ML components, data flow?\n",
    "\n",
    "[Introducing the Facebook Field Guide to Machine Learning video series](https://research.fb.com/blog/2018/05/the-facebook-field-guide-to-machine-learning-video-series/)\n",
    "\n",
    "https://machinelearningmastery.com/category/algorithms-from-scratch/\n"
   ]
  },
  {
   "cell_type": "markdown",
   "metadata": {},
   "source": [
    "# Coding interview"
   ]
  },
  {
   "cell_type": "markdown",
   "metadata": {},
   "source": [
    "### Ask clarify questions: \n",
    "- What is the format of input and output? Sorted?\n",
    "- Corner cases\n",
    "- Remove duplication?\n",
    "- Any time or space complexity?\n",
    "\n",
    "### High-level approach\n",
    "\n",
    "\n",
    "### Check code with an example\n",
    "\n",
    "### Test by edge cases\n",
    "\n",
    "### Anaylze the time and space complexity\n",
    "\n",
    "### Understand the tradeoff between alternative solutions\n",
    "\n",
    "### Prepare questions for the interviewers:\n",
    "- How do you like most working at Facebook?\n",
    "- What is your favorite or proudest project?\n",
    "- What is the culture at Facebook like?"
   ]
  },
  {
   "cell_type": "markdown",
   "metadata": {
    "collapsed": true
   },
   "source": [
    "给大家分享下FB的面经。coding比较常规。\n",
    "1st round: 第一题，986的变种，不一样的地方是，merge的时候求的是并集而不是交集\n",
    "第二题， 463. perimeter of islands\n",
    "2nd round: 297. serialize and deserialize binary tree\n",
    "SD： typeahead\n",
    "ML design: 设计语言检测器，输入是FB posts (text only)，要输出是哪种语言。没有label，问怎么做。经过提示可以用wikipedia上的文本，有label，先train个model。然后可以transfer到FB posts。关键问题是用什么word feature。从wiki上train的model怎么用在FB上，怎么update。\n",
    "Coding in BQ: 278. first bad version"
   ]
  },
  {
   "cell_type": "markdown",
   "metadata": {},
   "source": [
    "# 953. Verifying an Alien Dictionary"
   ]
  },
  {
   "cell_type": "code",
   "execution_count": null,
   "metadata": {
    "collapsed": true
   },
   "outputs": [],
   "source": [
    "# O(M) O(M)\n",
    "class Solution:\n",
    "    def isAlienSorted(self, words: List[str], order: str) -> bool:\n",
    "        m = {c:i for i, c in enumerate(order)}\n",
    "        word = [[m[c] for c in word] for word in words]\n",
    "        return all(word1 <= word2 for word1, word2 in zip(word, word[1:]))\n",
    "\n",
    "# O(M) O(1) M is the total number of characters in words\n",
    "class Solution:\n",
    "    def isAlienSorted(self, word, order):\n",
    "        ind = {c: i for i, c in enumerate(order)}\n",
    "        for word1, word2 in zip(word, word[1:]):\n",
    "            if len(word1) > len(word2) and word1[:len(word2)] == word2: # if word2 is substring of word1\n",
    "                return False\n",
    "            for c1, c2 in zip(word1, word2):\n",
    "                if ind[c1] < ind[c2]: \n",
    "                    break\n",
    "                elif ind[c1] > ind[c2]:\n",
    "                    return False\n",
    "                # else ind[c1] == ind[c2] keep comparision\n",
    "        return True"
   ]
  },
  {
   "cell_type": "markdown",
   "metadata": {},
   "source": [
    "# 1249. Minimum Remove to Make Valid Parentheses"
   ]
  },
  {
   "cell_type": "code",
   "execution_count": null,
   "metadata": {
    "collapsed": true
   },
   "outputs": [],
   "source": [
    "# Similar to 921. Minimum Add to Make Parentheses Valid\n",
    "# O(n) O(n)\n",
    "class Solution:\n",
    "    def minRemoveToMakeValid(self, s: str) -> str:\n",
    "        index_to_remove = set()\n",
    "        stack = []\n",
    "        ans = []\n",
    "        for i,c in enumerate(s):\n",
    "            if c == \"(\":\n",
    "                stack.append(i)\n",
    "            elif c == \")\":\n",
    "                if not stack:\n",
    "                    index_to_remove.add(i)\n",
    "                else:\n",
    "                    stack.pop()\n",
    "                    \n",
    "        index_to_remove = index_to_remove.union(set(stack))\n",
    "        \n",
    "        for i, c in enumerate(s):\n",
    "            if i not in index_to_remove:\n",
    "                ans.append(c) # don't use string concatenation here since it will be O(n + 1)\n",
    "                \n",
    "        return \"\".join(ans)\n",
    "    \n",
    "    \n",
    "# Two pass O(n) O(1)\n",
    "class Solution:\n",
    "    def minRemoveToMakeValid(self, s: str) -> str:\n",
    "        s = self.balanceString(s, \"(\", \")\")\n",
    "        s = self.balanceString(s[::-1], \")\", \"(\")\n",
    "        return s[::-1] # return the reverse\n",
    "    \n",
    "    def balanceString(self, s, open_symbol, close_symbol):\n",
    "        balance = 0\n",
    "        ans = []\n",
    "        for char in s:\n",
    "            if char == open_symbol:\n",
    "                balance += 1\n",
    "            elif char == close_symbol:\n",
    "                if balance == 0:\n",
    "                    continue\n",
    "                balance -= 1\n",
    "            ans.append(char)\n",
    "        return \"\".join(ans)\n"
   ]
  },
  {
   "cell_type": "markdown",
   "metadata": {},
   "source": [
    "# 921. Minimum Add to Make Parentheses Valid"
   ]
  },
  {
   "cell_type": "code",
   "execution_count": null,
   "metadata": {
    "collapsed": true
   },
   "outputs": [],
   "source": [
    "class Solution:\n",
    "    def minAddToMakeValid(self, S: str) -> int:\n",
    "        left, right = 0, 0\n",
    "        for char in S:\n",
    "            if char == \"(\":\n",
    "                left += 1\n",
    "            else:\n",
    "                if left > 0:\n",
    "                    left -= 1\n",
    "                else:\n",
    "                    right += 1\n",
    "        return left + right"
   ]
  },
  {
   "cell_type": "markdown",
   "metadata": {},
   "source": [
    "# 1762. Buildings With an Ocean View"
   ]
  },
  {
   "cell_type": "code",
   "execution_count": null,
   "metadata": {},
   "outputs": [],
   "source": [
    "# Traverse from right to left and maintain a monotonic increasing stack\n",
    "# O(n), O(1)\n",
    "class Solution:\n",
    "    def findBuildings(self, heights: List[int]) -> List[int]:\n",
    "        res = [len(heights) - 1]\n",
    "        for i in range(len(heights) - 2, -1, -1):\n",
    "            if heights[i] > heights[res[-1]]:\n",
    "                res.append(i)\n",
    "        res.reverse()\n",
    "        return res\n",
    "    \n",
    "# O(n) O(1)\n",
    "# Or travese from left to rightr and maintain a monotonic decreasing stack    \n",
    "    def findBuildings(self, heights: List[int]) -> List[int]:\n",
    "        res = []\n",
    "        for i in range(len(heights)):\n",
    "            while res and heights[i] >= heights[res[-1]]:\n",
    "                res.pop()\n",
    "            res.append(i)\n",
    "        return res"
   ]
  },
  {
   "cell_type": "markdown",
   "metadata": {},
   "source": [
    "# 973. K Closest Points to Origin"
   ]
  },
  {
   "cell_type": "code",
   "execution_count": null,
   "metadata": {
    "collapsed": true
   },
   "outputs": [],
   "source": [
    "# O(NlgK)   O(k)\n",
    "from heapq import *\n",
    "class Solution:\n",
    "    def kClosest(self, points: List[List[int]], K: int) -> List[List[int]]:\n",
    "        ans = []\n",
    "        for x, y in points:\n",
    "            dist = - (x**2 + y**2)\n",
    "            heappush(ans, (dist, x, y)) # Nlogk\n",
    "            while len(ans) > K: # Nlogk\n",
    "                heappop(ans)\n",
    "        return [[x, y] for dist, x, y in ans]"
   ]
  },
  {
   "cell_type": "markdown",
   "metadata": {},
   "source": [
    "# 560. Subarray Sum Equals K"
   ]
  },
  {
   "cell_type": "code",
   "execution_count": null,
   "metadata": {
    "collapsed": true
   },
   "outputs": [],
   "source": [
    "# Check 325. Maximum Size Subarray Sum Equals k: store the minimum index of the acc_sum\n",
    "\n",
    "class Solution:\n",
    "    def subarraySum(self, nums: List[int], k: int) -> int:\n",
    "        pre_sum = defaultdict(int)\n",
    "        pre_sum[0] = 1 # the continous subarrays staring from index 0\n",
    "        cur_sum = 0\n",
    "        ans = 0\n",
    "        for num in nums:\n",
    "            cur_sum += num\n",
    "            ans += pre_sum[cur_sum - k]\n",
    "            pre_sum[cur_sum] += 1    # store how many times the cur_sum appears\n",
    "        return ans\n",
    "    \n",
    "# if not use pre_sum[0] = 1   \n",
    "class Solution:\n",
    "    def subarraySum(self, nums: List[int], k: int) -> int:\n",
    "        pre_sum = defaultdict(int)\n",
    "        cur_sum = 0    \n",
    "        ans = 0\n",
    "        for num in nums:\n",
    "            cur_sum += num\n",
    "            if cur_sum == k:\n",
    "                ans += 1\n",
    "            ans += pre_sum[cur_sum - k]\n",
    "            pre_sum[cur_sum] += 1           \n",
    "        return ans\n",
    "    \n",
    "class Solution:\n",
    "    def subarraySum(self, nums: List[int], k: int) -> int:\n",
    "        pre_sum = {}\n",
    "        ans = 0\n",
    "        prefix_sum = 0\n",
    "        \n",
    "        for num in nums:\n",
    "            prefix_sum += num\n",
    "            if prefix_sum == k:\n",
    "                ans += 1\n",
    "            ans += pre_sum.get(prefix_sum - k, 0)  \n",
    "            pre_sum[prefix_sum] = pre_sum.get(prefix_sum, 0) + 1                      \n",
    "        return ans"
   ]
  },
  {
   "cell_type": "markdown",
   "metadata": {},
   "source": [
    "# 325. Maximum Size Subarray Sum Equals k"
   ]
  },
  {
   "cell_type": "code",
   "execution_count": null,
   "metadata": {
    "collapsed": true
   },
   "outputs": [],
   "source": [
    "class Solution:\n",
    "    def maxSubArrayLen(self, nums: List[int], k: int) -> int:\n",
    "        ans = 0\n",
    "        range_sum = {0: -1}\n",
    "        acc_sum = 0\n",
    "        for i, val in enumerate(nums):\n",
    "            acc_sum += val\n",
    "            if acc_sum not in range_sum:  # don't update because we want longest\n",
    "                range_sum[acc_sum] = i\n",
    "\n",
    "            if acc_sum - k in range_sum:\n",
    "                ans = max(ans, i - range_sum[acc_sum - k])\n",
    "        return ans\n",
    "    \n",
    "class Solution:\n",
    "    def maxSubArrayLen(self, nums: List[int], k: int) -> int:\n",
    "        ans = 0\n",
    "        range_sum = {}\n",
    "        acc_sum = 0\n",
    "        for i, val in enumerate(nums):\n",
    "            acc_sum += val\n",
    "            if acc_sum == k:\n",
    "                ans = max(ans, i + 1)\n",
    "                \n",
    "            if acc_sum not in range_sum: # store the min index for acc_sum\n",
    "                range_sum[acc_sum] = i\n",
    "                \n",
    "            if acc_sum - k in range_sum:\n",
    "                ans = max(ans, i - range_sum[acc_sum - k])\n",
    "        return ans"
   ]
  },
  {
   "cell_type": "markdown",
   "metadata": {},
   "source": [
    "# 273 Integer to English Words"
   ]
  },
  {
   "cell_type": "code",
   "execution_count": null,
   "metadata": {
    "collapsed": true
   },
   "outputs": [],
   "source": [
    "class Solution:\n",
    "    def numberToWords(self, num):\n",
    "        to19 = 'One Two Three Four Five Six Seven Eight Nine Ten Eleven Twelve ' \\\n",
    "               'Thirteen Fourteen Fifteen Sixteen Seventeen Eighteen Nineteen'.split()\n",
    "\n",
    "        tens = 'Twenty Thirty Forty Fifty Sixty Seventy Eighty Ninety'.split()\n",
    "\n",
    "        def words(n):\n",
    "            if n < 20:\n",
    "                return to19[n - 1:n]\n",
    "            if n < 100:\n",
    "                return [tens[n // 10 - 2]] + words(n % 10)\n",
    "            if n < 1000:\n",
    "                return [to19[n // 100 - 1]] + ['Hundred'] + words(n % 100)\n",
    "            for p, w in enumerate(('Thousand', 'Million', 'Billion'), 1):  # p start from 1\n",
    "                if n < 1000 ** (p + 1):  # three ranges [Thousand, Million], [Million, Billion], [Billion, infinity]\n",
    "                    return words(n // 1000 ** p) + [w] + words(n % 1000 ** p)\n",
    "                \n",
    "        return ' '.join(words(num)) or 'Zero'"
   ]
  },
  {
   "cell_type": "markdown",
   "metadata": {},
   "source": [
    "# 238 Product of Array Except Self"
   ]
  },
  {
   "cell_type": "code",
   "execution_count": null,
   "metadata": {
    "collapsed": true
   },
   "outputs": [],
   "source": [
    "class Solution:\n",
    "    def productExceptSelf(self, nums: List[int]) -> List[int]:\n",
    "        n = len(nums)\n",
    "        ans = [1] * n\n",
    "        for i in range(1, n): # exclude first num\n",
    "            # product for the left of index 'i'\n",
    "            ans[i] = nums[i-1]*ans[i-1]                        \n",
    "        R = 1\n",
    "        for i in reversed(range(n)): # for i in range(n - 1, -1, -1): exclude last num\n",
    "            ans[i] = ans[i] * R\n",
    "            R *= nums[i]            \n",
    "        return ans   \n",
    "    \n",
    "class Solution:\n",
    "    def productExceptSelf(self, nums):\n",
    "        p = 1\n",
    "        n = len(nums)\n",
    "        output = []\n",
    "        for i in range(0,n):\n",
    "            output.append(p)\n",
    "            p = p * nums[i]\n",
    "        p = 1\n",
    "        for i in range(n-1,-1,-1):\n",
    "            output[i] = output[i] * p\n",
    "            p = p * nums[i]\n",
    "        return output"
   ]
  },
  {
   "cell_type": "markdown",
   "metadata": {},
   "source": [
    "# 67. Add Binary"
   ]
  },
  {
   "cell_type": "code",
   "execution_count": null,
   "metadata": {
    "collapsed": true
   },
   "outputs": [],
   "source": [
    "class Solution:\n",
    "    def addBinary(self, a: str, b: str) -> str:\n",
    "        ans = \"\"\n",
    "        carry = 0\n",
    "        a, b = list(a), list(b)\n",
    "        while a or b or carry:\n",
    "            if a:\n",
    "                carry += int(a.pop())\n",
    "            if b:\n",
    "                carry += int(b.pop())\n",
    "            carry, remain = divmod(carry, 2)\n",
    "            ans += str(remain)\n",
    "        return ans[::-1]"
   ]
  },
  {
   "cell_type": "markdown",
   "metadata": {},
   "source": [
    "# 269. Alien Dictionary"
   ]
  },
  {
   "cell_type": "code",
   "execution_count": null,
   "metadata": {
    "collapsed": true
   },
   "outputs": [],
   "source": [
    "from collections import defaultdict, deque, Counter\n",
    "class Solution:\n",
    "    def alienOrder(self, words: List[str]) -> str:\n",
    "        ans = []\n",
    "        indegree = Counter({c: 0 for word in words for c in word})\n",
    "        neighbors = defaultdict(set)\n",
    "        for word1, word2 in zip(words, words[1:]):\n",
    "            for c, d in zip(word1, word2):\n",
    "                if c != d:\n",
    "                    if d not in neighbors[c]:\n",
    "                        neighbors[c].add(d)\n",
    "                        indegree[d] += 1\n",
    "                    break # this break is important\n",
    "                    \n",
    "            if c == d and len(word1) > len(word2): # this judgement is important\n",
    "                return \"\"\n",
    "            \n",
    "        # Topological sort\n",
    "        queue = deque([c for c in indegree if indegree[c] == 0])\n",
    "        \n",
    "        while queue:\n",
    "            c = queue.popleft()\n",
    "            ans.append(c)\n",
    "            for nei in neighbors[c]:\n",
    "                indegree[nei] -= 1 # Don't forget this step\n",
    "                if indegree[nei] == 0:\n",
    "                    queue.append(nei)\n",
    "                    \n",
    "        return \"\".join(ans) if len(ans) == len(indegree) else \"\""
   ]
  },
  {
   "cell_type": "markdown",
   "metadata": {},
   "source": [
    "# 415. Add Strings"
   ]
  },
  {
   "cell_type": "code",
   "execution_count": null,
   "metadata": {
    "collapsed": true
   },
   "outputs": [],
   "source": [
    "# Similar to 67. Add Binary\n",
    "\n",
    "class Solution:\n",
    "    def addStrings(self, num1, num2):\n",
    "        nums1 = list(num1)\n",
    "        nums2 = list(num2)\n",
    "        res, carry = \"\", 0\n",
    "        \n",
    "        while nums1 or nums2 or carry:\n",
    "            if nums1: carry += ord(nums1.pop()) - ord('0')\n",
    "            if nums2: carry += ord(nums2.pop()) - ord('0')\n",
    "                \n",
    "            carry, remain = divmod(carry, 10)\n",
    "            res += str(remain)           \n",
    "        return res[::-1]\n",
    "    \n",
    "    \n",
    "class Solution:\n",
    "    def addStrings(self, num1: str, num2: str) -> str:\n",
    "        res = []\n",
    "        carry = 0\n",
    "        p1 = len(num1) - 1\n",
    "        p2 = len(num2) - 1\n",
    "        while p1 >= 0 or p2 >= 0:\n",
    "            x1 = ord(num1[p1]) - ord('0') if p1 >= 0 else 0\n",
    "            x2 = ord(num2[p2]) - ord('0') if p2 >= 0 else 0\n",
    "            value = (x1 + x2 + carry) % 10\n",
    "            carry = (x1 + x2 + carry) // 10\n",
    "            res.append(value)\n",
    "            p1 -= 1\n",
    "            p2 -= 1\n",
    "        \n",
    "        if carry:\n",
    "            res.append(carry)\n",
    "        \n",
    "        return ''.join(str(x) for x in res[::-1])"
   ]
  },
  {
   "cell_type": "markdown",
   "metadata": {},
   "source": [
    "# 301. Remove Invalid Parentheses"
   ]
  },
  {
   "cell_type": "code",
   "execution_count": null,
   "metadata": {
    "collapsed": true
   },
   "outputs": [],
   "source": [
    "# Brute Force: O(2**N) O(N)\n",
    "class Solution:\n",
    "    def removeInvalidParentheses(self, s: str) -> List[str]:\n",
    "        self.ans = set()\n",
    "        self.min_removed = float(\"inf\")\n",
    "        def dfs(depth, left, right, removed, cur):\n",
    "            if depth == len(s):\n",
    "                if left == right:\n",
    "                    if removed < self.min_removed:\n",
    "                        self.min_removed = removed\n",
    "                        self.ans = {cur}\n",
    "                    elif removed == self.min_removed:\n",
    "                        self.ans.add(cur)\n",
    "            else: \n",
    "                if s[depth] not in [\"(\", \")\"]: # keep searching the next possible solution\n",
    "                    dfs(depth + 1, left, right, removed, cur + s[depth])\n",
    "                else:\n",
    "                    dfs(depth + 1, left, right, removed + 1, cur) # delete it\n",
    "                    if s[depth] == \"(\":\n",
    "                        dfs(depth + 1, left + 1, right, removed, cur + \"(\")\n",
    "                    elif s[depth] == \")\" and right < left: # pruning the dfs\n",
    "                        dfs(depth + 1, left, right + 1, removed, cur + \")\")\n",
    "                        \n",
    "        dfs(0, 0, 0, 0, \"\")\n",
    "        return list(self.ans)\n",
    "    \n",
    "# Optimized DFS: better than O(2**N) O(N)\n",
    "# Check 1249. Minimum Remove to Make Valid Parentheses\n",
    "\n",
    "class Solution:\n",
    "    def removeInvalidParentheses(self, s: str) -> List[str]:\n",
    "        self.ans = set()\n",
    "        self.min_removed = self.minAddToMakeValid(s)\n",
    "        \n",
    "        def dfs(depth, balanced, removed, cur):\n",
    "            if depth == len(s):\n",
    "                if balanced == 0 and removed == self.min_removed:\n",
    "                    self.ans.add(cur)\n",
    "            else: \n",
    "                if removed <= self.min_removed: # early pruning\n",
    "                    if s[depth] not in [\"(\", \")\"]: # not parentheses\n",
    "                        dfs(depth + 1, balanced, removed, cur + s[depth])\n",
    "                    else: \n",
    "                        dfs(depth + 1, balanced, removed + 1, cur) # delete it\n",
    "                        if s[depth] == \"(\":\n",
    "                            dfs(depth + 1, balanced + 1, removed, cur + \"(\") # add it\n",
    "                        elif s[depth] == \")\" and balanced > 0: # pruning the dfs\n",
    "                            dfs(depth + 1, balanced - 1, removed, cur + \")\") # add it\n",
    "                        \n",
    "        dfs(0, 0, 0, \"\")\n",
    "        return list(self.ans)\n",
    "    \n",
    "    def minAddToMakeValid(self, S: str) -> int:\n",
    "        left, right = 0, 0\n",
    "        for char in S:\n",
    "            if char == \"(\":\n",
    "                left += 1\n",
    "            elif char == \")\":\n",
    "                if left > 0:\n",
    "                    left -= 1\n",
    "                else:\n",
    "                    right += 1\n",
    "        return left + right\n",
    "\n",
    "    # https://leetcode.com/problems/remove-invalid-parentheses/discuss/165420/Thinking-Process-BFS\n",
    "\n",
    "# https://leetcode.com/problems/remove-invalid-parentheses/discuss/165420/Thinking-Process-BFS\n",
    "\n",
    "class Solution:\n",
    "    def removeInvalidParentheses(self, s: str) -> List[str]:\n",
    "        def isvalid(s):\n",
    "            left, right = 0, 0\n",
    "            for char in s:\n",
    "                if char == \"(\":\n",
    "                    left += 1\n",
    "                elif char == \")\":\n",
    "                    left -= 1\n",
    "                if left < 0:\n",
    "                    return False\n",
    "            return left == 0 and right == 0\n",
    "    \n",
    "        dq = deque([s])\n",
    "        seen, res = set(), []\n",
    "        while dq:\n",
    "            cnt_s = len(dq)\n",
    "            for i in range(cnt_s):\n",
    "                string = dq.popleft()\n",
    "                if isvalid(string):\n",
    "                    res.append(string)\n",
    "                if not res:\n",
    "                    # at current level, we haven't found any valid string yet\n",
    "                    for j in range(len(string)):\n",
    "                        if string[j] == '(' or string[j] == ')':\n",
    "                            next_str = string[:j] + string[j+1:]\n",
    "                            if next_str not in seen:\n",
    "                                seen.add(next_str)\n",
    "                                dq.append(next_str)\n",
    "        return res"
   ]
  },
  {
   "cell_type": "markdown",
   "metadata": {},
   "source": [
    "# 680. Valid Palindrome II"
   ]
  },
  {
   "cell_type": "code",
   "execution_count": null,
   "metadata": {
    "collapsed": true
   },
   "outputs": [],
   "source": [
    "# O(n) O(1)\n",
    "class Solution:\n",
    "    def validPalindrome(self, s: str) -> bool:\n",
    "        if len(s) <= 1:\n",
    "            return True\n",
    "        l, r = 0, len(s) - 1\n",
    "        while l < r:\n",
    "            if s[l] == s[r]: # don't use while here\n",
    "                l += 1\n",
    "                r -= 1\n",
    "            else:\n",
    "                return self.is_Palindrome(s[l + 1:r + 1]) or self.is_Palindrome(s[l:r])\n",
    "\n",
    "        return True # don't forget return True here\n",
    "\n",
    "    def is_Palindrome(self, s):\n",
    "        return s == s[::-1]"
   ]
  },
  {
   "cell_type": "markdown",
   "metadata": {},
   "source": [
    "# 199. Binary Tree Right Side View"
   ]
  },
  {
   "cell_type": "code",
   "execution_count": null,
   "metadata": {
    "collapsed": true
   },
   "outputs": [],
   "source": [
    "# BFS\n",
    "# https://leetcode.com/problems/binary-tree-right-side-view/solution/\n",
    "from collections import deque\n",
    "class Solution:\n",
    "    def rightSideView(self, root: TreeNode) -> List[int]:\n",
    "        if not root:\n",
    "            return []\n",
    "        ans = []\n",
    "        queue = deque([root])\n",
    "        while queue:\n",
    "            for i in range(len(queue)):\n",
    "                node = queue.popleft()\n",
    "                if i == 0:\n",
    "                    ans.append(node.val)\n",
    "                if node.right:\n",
    "                    queue.append(node.right)\n",
    "                if node.left:\n",
    "                    queue.append(node.left)\n",
    "        return ans\n",
    "\n",
    "# DFS\n",
    "class Solution:\n",
    "    def rightSideView(self, root: TreeNode) -> List[int]:\n",
    "        \n",
    "        if not root:\n",
    "            return []\n",
    "        ans = []\n",
    "        stack = [(root, 0)]\n",
    "        while stack:\n",
    "            node, level = stack.pop()\n",
    "            if level == len(ans):\n",
    "                ans.append(node.val)\n",
    "            if node.left:\n",
    "                stack.append((node.left, level + 1))\n",
    "            if node.right:\n",
    "                stack.append((node.right, level + 1))\n",
    "        return ans"
   ]
  },
  {
   "cell_type": "markdown",
   "metadata": {},
   "source": [
    "# 1428. Leftmost Column with at Least a One"
   ]
  },
  {
   "cell_type": "code",
   "execution_count": null,
   "metadata": {
    "collapsed": true
   },
   "outputs": [],
   "source": [
    "# Approach 3: Start at Top Right, Move Only Left and Down\n",
    "\n",
    "class Solution:\n",
    "    def leftMostColumnWithOne(self, binaryMatrix: 'BinaryMatrix') -> int:        \n",
    "        rows, cols = binaryMatrix.dimensions()        \n",
    "        # Set pointers to the top-right corner.\n",
    "        current_row = 0\n",
    "        current_col = cols - 1\n",
    "        \n",
    "        # Repeat the search until it goes off the grid.\n",
    "        while current_row < rows and current_col >= 0:\n",
    "            if binaryMatrix.get(current_row, current_col) == 0:\n",
    "                current_row += 1\n",
    "            else:\n",
    "                current_col -= 1\n",
    "        \n",
    "        # If we never left the last column, it must have been all 0's.\n",
    "        return current_col + 1 if current_col != cols - 1 else -1"
   ]
  },
  {
   "cell_type": "markdown",
   "metadata": {},
   "source": [
    "# 297. Serialize and Deserialize Binary Tree"
   ]
  },
  {
   "cell_type": "code",
   "execution_count": null,
   "metadata": {
    "collapsed": true
   },
   "outputs": [],
   "source": [
    "class Codec:\n",
    "\n",
    "    def serialize(self, root):        \n",
    "        def helper(node):\n",
    "            if not node:\n",
    "                res.append(\"#\")\n",
    "            else: # preorder traversal\n",
    "                res.append(str(node.val))\n",
    "                helper(node.left)\n",
    "                helper(node.right)\n",
    "                \n",
    "        res = [] # global variable for the helper function             \n",
    "        helper(root)\n",
    "        return \",\".join(res) # or \" \".join(res)       \n",
    "\n",
    "    def deserialize(self, data):\n",
    "        def helper(data):\n",
    "            val = next(data)\n",
    "            if val == '#':\n",
    "                return None\n",
    "            else:\n",
    "                root = TreeNode(int(val))\n",
    "                root.left = helper(data)\n",
    "                root.right = helper(data)\n",
    "            return root\n",
    "                \n",
    "        data = iter(data.split(\",\"))\n",
    "        return helper(data)\n",
    "    "
   ]
  },
  {
   "cell_type": "markdown",
   "metadata": {},
   "source": [
    "# 124. Binary Tree Maximum Path Sum"
   ]
  },
  {
   "cell_type": "code",
   "execution_count": null,
   "metadata": {
    "collapsed": true
   },
   "outputs": [],
   "source": [
    "# Check 543. Diameter of Binary Tree\n",
    "\n",
    "class Solution:\n",
    "    def __init__(self):\n",
    "        self.max_sum = float(-inf)\n",
    "        \n",
    "    def maxPathSum(self, root):\n",
    "        def max_gain(node): # return the maximum including the node with only left or right substree\n",
    "            if not node:\n",
    "                return 0\n",
    "            # max sum on the left and right sub-trees of node\n",
    "            left_gain = max(max_gain(node.left), 0)\n",
    "            right_gain = max(max_gain(node.right), 0)\n",
    "            \n",
    "            # the price to start a new path where `node` is a highest node\n",
    "            cur_max = node.val + left_gain + right_gain\n",
    "            \n",
    "            # update max_sum\n",
    "            self.max_sum = max(self.max_sum, cur_max)     \n",
    "            # either left or right because it includes the node itself\n",
    "            return node.val + max(left_gain, right_gain) \n",
    "        \n",
    "        max_gain(root)\n",
    "        return self.max_sum\n",
    "    \n",
    "# Solution 2    \n",
    "class Solution:\n",
    "    def __init__(self):\n",
    "        self.max_sum = float(\"-inf\")\n",
    "        \n",
    "    def maxPathSum(self, root):       \n",
    "        self.max_gain(root)\n",
    "        return self.max_sum\n",
    "    \n",
    "    def max_gain(self, node): # return the maximum including the node and either left or right subpath      \n",
    "        if not node:\n",
    "            return 0\n",
    "        left_gain = max(self.max_gain(node.left), 0)\n",
    "        right_gain = max(self.max_gain(node.right), 0)\n",
    "        cur_max = node.val + left_gain + right_gain\n",
    "        self.max_sum = max(self.max_sum, cur_max)\n",
    "        return node.val + max(left_gain, right_gain)"
   ]
  },
  {
   "cell_type": "markdown",
   "metadata": {},
   "source": [
    "# 23. Merge k Sorted Lists"
   ]
  },
  {
   "cell_type": "code",
   "execution_count": null,
   "metadata": {
    "collapsed": true
   },
   "outputs": [],
   "source": [
    "class Solution:\n",
    "    def mergeKLists(self, lists: List[ListNode]) -> ListNode:\n",
    "        if not lists:\n",
    "            return None\n",
    "        step = 1\n",
    "        while step < len(lists):\n",
    "            for i in range(0, len(lists) - step, step*2): # skip 2*step for the next merge\n",
    "                lists[i] = self.mergeTwoLists(lists[i], lists[i + step]) # step: the distance between two merged lists\n",
    "            step *= 2 # step is out of the for loop           \n",
    "        return lists[0]\n",
    "                      \n",
    "    def mergeTwoLists(self, l1: ListNode, l2: ListNode) -> ListNode:\n",
    "        dummy = head = ListNode(-1)\n",
    "        while l1 and l2:\n",
    "            if l1.val < l2.val:\n",
    "                head.next = l1\n",
    "                l1 = l1.next\n",
    "            else:\n",
    "                head.next = l2\n",
    "                l2 = l2.next\n",
    "            head = head.next          \n",
    "        head.next = l1 if l1 else l2       \n",
    "        return dummy.next\n",
    "    \n",
    "\n",
    "# time: Nlogk N is total number of nodes, k is the number of linked list\n",
    "# space: O(k)\n",
    "from heapq import *\n",
    "\n",
    "class Solution:\n",
    "    def mergeKLists(self, lists: List[ListNode]) -> ListNode:\n",
    "        head = dummy = ListNode(-1)\n",
    "        queue = []\n",
    "        count = 0\n",
    "        \n",
    "        # push the head of each list\n",
    "        for l in lists:\n",
    "            if l:\n",
    "                heappush(queue, (l.val, count, l))\n",
    "                count += 1 # to avoid same value\n",
    "                \n",
    "        while queue:\n",
    "            _, _, node = heappop(queue)\n",
    "            head.next = node # node not val\n",
    "            head = head.next\n",
    "            \n",
    "            if node.next:\n",
    "                heappush(queue, (node.next.val, count, node.next))\n",
    "                count += 1\n",
    "                \n",
    "        return dummy.next"
   ]
  },
  {
   "cell_type": "markdown",
   "metadata": {},
   "source": [
    "# 125. Valid Palindrome (easy bugs: manually run test cases)"
   ]
  },
  {
   "cell_type": "code",
   "execution_count": null,
   "metadata": {
    "collapsed": true
   },
   "outputs": [],
   "source": [
    "class Solution:\n",
    "    def isPalindrome(self, s: str) -> bool:\n",
    "        l, r = 0, len(s) - 1\n",
    "        while l < r:\n",
    "            while l < r and not s[l].isalnum():\n",
    "                l += 1\n",
    "            while l < r and not s[r].isalnum():\n",
    "                r -= 1\n",
    "            if s[l].lower() != s[r].lower():\n",
    "                return False\n",
    "            l += 1\n",
    "            r -= 1\n",
    "        return True"
   ]
  },
  {
   "cell_type": "markdown",
   "metadata": {},
   "source": [
    "# 986. Interval List Intersections"
   ]
  },
  {
   "cell_type": "code",
   "execution_count": null,
   "metadata": {
    "collapsed": true
   },
   "outputs": [],
   "source": [
    "class Solution:\n",
    "    def intervalIntersection(self, A: List[List[int]], B: List[List[int]]) -> List[List[int]]:\n",
    "        ans = []\n",
    "        i = j = 0\n",
    "        while i < len(A) and j < len(B):\n",
    "            lo = max(A[i][0], B[j][0])\n",
    "            hi = min(A[i][1], B[j][1])\n",
    "            if lo <= hi:\n",
    "                ans.append([lo, hi])\n",
    "            if A[i][1] < B[j][1]:\n",
    "                i += 1\n",
    "            else:\n",
    "                j += 1\n",
    "        return ans"
   ]
  },
  {
   "cell_type": "markdown",
   "metadata": {},
   "source": [
    "# 523. Continuous Subarray Sum"
   ]
  },
  {
   "cell_type": "code",
   "execution_count": null,
   "metadata": {
    "collapsed": true
   },
   "outputs": [],
   "source": [
    "# k >= 1\n",
    "# check out 560 subarray sum equals K\n",
    "#   (n2 - n1)% k = 0 -> n2%k == n1%k\n",
    "\n",
    "class Solution(object):\n",
    "    def checkSubarraySum(self, nums, k): # non-negative integers        \n",
    "        mods, cum_sum_mod_k = {0: -1}, 0\n",
    "        \n",
    "        for i, n in enumerate(nums):\n",
    "            cum_sum_mod_k = (cum_sum_mod_k + n) % k # add the current num and then modulized it\n",
    "            if cum_sum_mod_k in mods and i - mods[cum_sum_mod_k] > 1: # not k - cur_sum_mod_k\n",
    "                return True\n",
    "            if cum_sum_mod_k not in mods: # keep the smallest index\n",
    "                mods[cum_sum_mod_k] = i\n",
    "        return False\n",
    "    \n",
    "class Solution:\n",
    "    def checkSubarraySum(self, nums: List[int], k: int) -> bool:      \n",
    "        prefix_sum = {}\n",
    "        cur_sum = 0\n",
    "        for i, num in enumerate(nums):\n",
    "            cur_sum = (cur_sum + num) % k\n",
    "            if cur_sum == 0 and i >= 1:\n",
    "                return True\n",
    "            if cur_sum in prefix_sum and i - prefix_sum[cur_sum] > 1:\n",
    "                return True\n",
    "            if cur_sum not in prefix_sum:\n",
    "                prefix_sum[cur_sum] = i\n",
    "        return False"
   ]
  },
  {
   "cell_type": "markdown",
   "metadata": {},
   "source": [
    "# 211. Add and Search Word - Data structure design"
   ]
  },
  {
   "cell_type": "code",
   "execution_count": null,
   "metadata": {
    "collapsed": true
   },
   "outputs": [],
   "source": [
    "class WordDictionary:\n",
    "\n",
    "    def __init__(self):\n",
    "        \"\"\"\n",
    "        Initialize your data structure here.\n",
    "        \"\"\"\n",
    "        self.trie = {}\n",
    "        \n",
    "\n",
    "    def addWord(self, word: str) -> None:\n",
    "        \"\"\"\n",
    "        Adds a word into the data structure.\n",
    "        \"\"\"\n",
    "        t = self.trie\n",
    "        for w in word:\n",
    "            if w not in t:\n",
    "                t[w] = {}\n",
    "            t = t[w]\n",
    "        t['#'] = True\n",
    "        \n",
    "    def search(self, word: str) -> bool:\n",
    "        \"\"\"\n",
    "        Returns if the word is in the data structure. A word could contain the dot character '.' to represent any one letter.\n",
    "        \"\"\"\n",
    "        return self.searchnode(word, self.trie)\n",
    "    \n",
    "    def searchnode(self, word, node):\n",
    "        \n",
    "        for i, w in enumerate(word):\n",
    "            if w == '.':\n",
    "                return any(self.searchnode(word[i+1:], node[c]) for c in node if c!='#')\n",
    "            if w not in node:\n",
    "                return False\n",
    "            node = node[w]\n",
    "        return '#' in node"
   ]
  },
  {
   "cell_type": "markdown",
   "metadata": {},
   "source": [
    "# 311. Sparse Matrix Multiplication"
   ]
  },
  {
   "cell_type": "code",
   "execution_count": null,
   "metadata": {
    "collapsed": true
   },
   "outputs": [],
   "source": [
    "class Solution:\n",
    "    def multiply(self, A: List[List[int]], B: List[List[int]]) -> List[List[int]]:\n",
    "        m, n, k = len(A), len(A[0]), len(B[0])\n",
    "            \n",
    "        ans = [[0]*k for i in range(m)] # m * k\n",
    "        \n",
    "        # ans[i][j] = A[i][l] * B[l][j]\n",
    "        for i, row in enumerate(A):\n",
    "            for l, _ in enumerate(row):\n",
    "                if A[i][l]:\n",
    "                    for j in range(k):\n",
    "                        if B[l][j]:\n",
    "                            ans[i][j] += A[i][l] * B[l][j]\n",
    "        return ans"
   ]
  },
  {
   "cell_type": "markdown",
   "metadata": {},
   "source": [
    "# 827. Making A Large Island"
   ]
  },
  {
   "cell_type": "code",
   "execution_count": null,
   "metadata": {},
   "outputs": [],
   "source": [
    "# https://leetcode.com/problems/making-a-large-island/discuss/127032/C%2B%2BJavaPython-Straight-Forward-O(N2)-with-Explanations\n",
    "\n",
    "class Solution:\n",
    "    def largestIsland(self, grid):\n",
    "        N = len(grid)\n",
    "\n",
    "        def move(x, y):\n",
    "            for i, j in ((1, 0), (-1, 0), (0, 1), (0, -1)):\n",
    "                if 0 <= x + i < N and 0 <= y + j < N:\n",
    "                    yield x + i, y + j\n",
    "\n",
    "        def dfs(x, y, index):\n",
    "            res = 0\n",
    "            grid[x][y] = index\n",
    "            for i, j in move(x, y):\n",
    "                if grid[i][j] == 1:\n",
    "                    res += dfs(i, j, index)\n",
    "            return res + 1\n",
    "\n",
    "        # DFS every island and give it an index of island\n",
    "        index = 2\n",
    "        areas = {0: 0}\n",
    "        for x in range(N):\n",
    "            for y in range(N):\n",
    "                if grid[x][y] == 1:\n",
    "                    areas[index] = dfs(x, y, index)\n",
    "                    index += 1\n",
    "\n",
    "        # traverse every 0 cell and count biggest island it can conntect\n",
    "        res = max(areas.values())\n",
    "        for x in range(N):\n",
    "            for y in range(N):\n",
    "                if grid[x][y] == 0:\n",
    "                    possible = set(grid[i][j] for i, j in move(x, y)) # use the set to remove duplicates\n",
    "                    res = max(res, sum(areas[index] for index in possible) + 1)\n",
    "        return res"
   ]
  },
  {
   "cell_type": "markdown",
   "metadata": {},
   "source": [
    "# 282. Expression Add Operators"
   ]
  },
  {
   "cell_type": "code",
   "execution_count": null,
   "metadata": {
    "collapsed": true
   },
   "outputs": [],
   "source": [
    "# https://www.youtube.com/watch?v=v05R1OIIg08\n",
    "\n",
    "class Solution:\n",
    "    def addOperators(self, num: str, target: int) -> List[str]:\n",
    "        def backtracking(index, prefix, cur_value, prev):\n",
    "            if index == len(num) and cur_value == target:\n",
    "                res.append(prefix)\n",
    "                return # don't forget this return\n",
    "            \n",
    "            for j in range(index + 1, len(num) + 1): # pay attention to the range\n",
    "                next_part = num[index:j]\n",
    "                n = int(next_part)\n",
    "                if next_part != '0' and num[index] == '0': # prevent \"0*\" as a number, but 0 + 0, 0 - 0, 0 * 0 are allowed\n",
    "                    continue\n",
    "                    \n",
    "                if index == 0: # if there is no prev\n",
    "                    backtracking(j, next_part, n, n)\n",
    "                else:\n",
    "                    backtracking(j, prefix + '+' + next_part, cur_value + n, n)\n",
    "                    backtracking(j, prefix + '-' + next_part, cur_value - n, -n)\n",
    "                    backtracking(j, prefix + '*' + next_part, cur_value - prev + prev * n, prev * n)\n",
    "\n",
    "        res = []\n",
    "        backtracking(0, \"\", 0, 0)\n",
    "        return res"
   ]
  },
  {
   "cell_type": "markdown",
   "metadata": {},
   "source": [
    "# 227. Basic Calculator II"
   ]
  },
  {
   "cell_type": "code",
   "execution_count": null,
   "metadata": {
    "collapsed": true
   },
   "outputs": [],
   "source": [
    "class Solution:\n",
    "    def calculate(self, s):\n",
    "        num, stack, sign = 0, [], \"+\"\n",
    "        for i in range(len(s)):\n",
    "            if s[i].isdigit():\n",
    "                num = num * 10 + int(s[i])\n",
    "            if s[i] in \"+-*/\" or i == len(s) - 1: # operator or reach the end of the string\n",
    "                if sign == \"+\":\n",
    "                    stack.append(num)\n",
    "                elif sign == \"-\":\n",
    "                    stack.append(-num)\n",
    "                elif sign == \"*\":\n",
    "                    stack.append(stack.pop()*num)\n",
    "                else:\n",
    "                    stack.append(int(stack.pop()/num))\n",
    "                num = 0 # reset to zero\n",
    "                sign = s[i]\n",
    "        return sum(stack)"
   ]
  },
  {
   "cell_type": "markdown",
   "metadata": {},
   "source": [
    "# 689. Maximum Sum of 3 Non-Overlapping Subarrays"
   ]
  },
  {
   "cell_type": "code",
   "execution_count": null,
   "metadata": {
    "collapsed": true
   },
   "outputs": [],
   "source": [
    "class Solution(object):\n",
    "    def maxSumOfThreeSubarrays(self,nums, k):\n",
    "        w1,w2,w3=sum(nums[:k]),sum(nums[k:2*k]),sum(nums[2*k:3*k])\n",
    "        mw1,mw2,mw3=w1,w1+w2,w1+w2+w3\n",
    "        mw1index,mw2index,mw3index=[0],[0,k],[0,k,2*k]#mw1,mw2,mw3's index.\n",
    "        for i in range(1,len(nums)-3*k+1):#last index for w1 window will be n-3k\n",
    "            w1+=nums[i-1+k]-nums[i-1]\n",
    "            w2+=nums[i-1+2*k]-nums[i-1+k]\n",
    "            w3+=nums[i-1+3*k]-nums[i-1+2*k]\n",
    "            if w1>mw1:\n",
    "                mw1,mw1index=w1,[i]\n",
    "            if mw1+w2>mw2:\n",
    "                mw2,mw2index=mw1+w2,mw1index+[i+k]\n",
    "            if mw2+w3>mw3:\n",
    "                mw3,mw3index=mw2+w3,mw2index+[i+2*k]\n",
    "        return mw3index"
   ]
  },
  {
   "cell_type": "markdown",
   "metadata": {},
   "source": [
    "# 621. Task Scheduler"
   ]
  },
  {
   "cell_type": "code",
   "execution_count": null,
   "metadata": {
    "collapsed": true
   },
   "outputs": [],
   "source": [
    "from collections import Counter\n",
    "class Solution:\n",
    "    def leastInterval(self, tasks: List[str], n: int) -> int:\n",
    "        count = list(Counter(tasks).values())\n",
    "        max_count = max(count)\n",
    "        max_count_num = count.count(max_count)\n",
    "        return max(len(tasks), (n+1)*(max_count - 1) + max_count_num)"
   ]
  },
  {
   "cell_type": "markdown",
   "metadata": {},
   "source": [
    "# 340. Longest Substring with At Most K Distinct Characters"
   ]
  },
  {
   "cell_type": "code",
   "execution_count": null,
   "metadata": {
    "collapsed": true
   },
   "outputs": [],
   "source": [
    "# O(n) O(n)\n",
    "\n",
    "class Solution(object):\n",
    "    def lengthOfLongestSubstringKDistinct(self, s, k):\n",
    "        \"\"\"\n",
    "        :type s: str\n",
    "        :type k: int\n",
    "        :rtype: int\n",
    "        \"\"\"\n",
    "        if not s:\n",
    "            return 0\n",
    "        start = 0\n",
    "        visited = {}\n",
    "        ans = 0\n",
    "        for end in range(len(s)):\n",
    "            visited[s[end]] = visited.get(s[end],0) + 1\n",
    "            while start <= end and len(visited) > k:\n",
    "                visited[s[start]] -= 1\n",
    "                if visited[s[start]] == 0:\n",
    "                    del visited[s[start]]\n",
    "                start += 1 \n",
    "            # ans is keep updating for those <= k solutions\n",
    "            ans = max(ans, end - start + 1)\n",
    "        return ans"
   ]
  },
  {
   "cell_type": "markdown",
   "metadata": {},
   "source": [
    "# 173. Binary Search Tree Iterator"
   ]
  },
  {
   "cell_type": "code",
   "execution_count": null,
   "metadata": {
    "collapsed": true
   },
   "outputs": [],
   "source": [
    "class BSTIterator:\n",
    "    def __init__(self, root: TreeNode):\n",
    "        self.stack = []\n",
    "        self.inorderTraversal(root)\n",
    "        \n",
    "    def next(self) -> int:\n",
    "        tempNode = self.stack.pop()\n",
    "        self.inorderTraversal(tempNode.right)\n",
    "        return tempNode.val # return val not node\n",
    "        \n",
    "    def hasNext(self) -> bool:        \n",
    "        return self.stack \n",
    "    \n",
    "    def inorderTraversal(self, root: TreeNode) -> List[int]:        \n",
    "        while root:            \n",
    "            self.stack.append(root)\n",
    "            root = root.left"
   ]
  },
  {
   "cell_type": "markdown",
   "metadata": {},
   "source": [
    "# 938. Range Sum of BST"
   ]
  },
  {
   "cell_type": "code",
   "execution_count": null,
   "metadata": {
    "collapsed": true
   },
   "outputs": [],
   "source": [
    "# O(N) O(N)\n",
    "class Solution(object):\n",
    "    def rangeSumBST(self, root, L, R):\n",
    "        def dfs(node):\n",
    "            if node:\n",
    "                if L <= node.val <= R:\n",
    "                    ans += node.val\n",
    "                    dfs(node.left)\n",
    "                    dfs(node.right)\n",
    "                elif node.val < L:\n",
    "                    dfs(node.right)\n",
    "                else:\n",
    "                    dfs(node.left)\n",
    "                    \n",
    "        dfs(root)\n",
    "        return ans\n",
    "\n",
    "    \n",
    "class Solution:\n",
    "    def rangeSumBST(self, root: TreeNode, L: int, R: int) -> int:\n",
    "        stack = [root]\n",
    "        ans = 0\n",
    "        while stack:\n",
    "            node = stack.pop()\n",
    "            if L <= node.val <= R:\n",
    "                ans += node.val\n",
    "            if node.right and node.val < R: # three ifs are independent\n",
    "                stack.append(node.right)\n",
    "            if node.left and node.val > L:\n",
    "                stack.append(node.left)\n",
    "        return ans"
   ]
  },
  {
   "cell_type": "markdown",
   "metadata": {},
   "source": [
    "# 215. Kth Largest Element in an Array"
   ]
  },
  {
   "cell_type": "code",
   "execution_count": null,
   "metadata": {
    "collapsed": true
   },
   "outputs": [],
   "source": [
    "# O(Nlogk) O(k)\n",
    "from heapq import *\n",
    "class Solution:\n",
    "    def findKthLargest(self, nums: List[int], k: int) -> int:\n",
    "        minHeap = []\n",
    "        for i in range(len(nums)):\n",
    "            heappush(minHeap, nums[i])\n",
    "            if len(minHeap) > k:\n",
    "                heappop(minHeap)            \n",
    "        return heappop(minHeap)\n",
    "\n",
    "    \n",
    "class Solution:\n",
    "    def findKthLargest(self, nums, k):\n",
    "        if not nums: return\n",
    "        pivot = random.choice(nums)\n",
    "        left =  [x for x in nums if x > pivot]\n",
    "        mid  =  [x for x in nums if x == pivot]\n",
    "        right = [x for x in nums if x < pivot]\n",
    "        \n",
    "        L, M = len(left), len(mid)\n",
    "        \n",
    "        if k <= L:\n",
    "            return self.findKthLargest(left, k)\n",
    "        elif k > L + M:\n",
    "            return self.findKthLargest(right, k - L - M)\n",
    "        else:\n",
    "            return mid[0]"
   ]
  },
  {
   "cell_type": "markdown",
   "metadata": {},
   "source": [
    "### Quick select algorithm  O(N) O(1)\n",
    "\n",
    "- Choose a random pivot.\n",
    "\n",
    "- Use a partition algorithm to place the pivot into its perfect position pos in the sorted array, move smaller elements to the left of pivot, and larger or equal ones - to the right.\n",
    "\n",
    "- Compare pos and N - k to choose the side of array to proceed recursively."
   ]
  },
  {
   "cell_type": "markdown",
   "metadata": {},
   "source": [
    "# 34. Find First and Last Position of Element in Sorted Array"
   ]
  },
  {
   "cell_type": "code",
   "execution_count": null,
   "metadata": {
    "collapsed": true
   },
   "outputs": [],
   "source": [
    "# method 2: use binary search twice to search, time O(log(n))\n",
    "# time O(log(n)) space O(1)\n",
    "class Solution(object):\n",
    "    def searchRange(self, nums, target):\n",
    "        \"\"\"\n",
    "        :type nums: List[int]\n",
    "        :type target: int\n",
    "        :rtype: List[int]\n",
    "        \"\"\"\n",
    "        left = self.findLast(nums, target-1)\n",
    "        right = self.findLast(nums, target)\n",
    "        if left+1 > right:\n",
    "            return [-1, -1]\n",
    "        return [left+1, right]\n",
    "    \n",
    "    def findLast(self, arr, target):\n",
    "        # find the index of the last element <= target\n",
    "        if not arr:\n",
    "            return -1\n",
    "        left, right = 0, len(arr)-1\n",
    "        while left + 1 < right:\n",
    "            mid = left + (right-left)//2\n",
    "            if arr[mid] <= target:\n",
    "                left = mid\n",
    "            else:\n",
    "                right = mid\n",
    "        if arr[right] <= target:\n",
    "            return right\n",
    "        elif arr[left] <= target:\n",
    "            return left\n",
    "        else:\n",
    "            return -1"
   ]
  },
  {
   "cell_type": "markdown",
   "metadata": {},
   "source": [
    "# 721. Accounts Merge"
   ]
  },
  {
   "cell_type": "code",
   "execution_count": null,
   "metadata": {
    "collapsed": true
   },
   "outputs": [],
   "source": [
    "# https://leetcode.com/problems/accounts-merge/discuss/109161/Python-Simple-DFS-with-explanation!!!\n",
    "# Connect each account by using email\n",
    "\n",
    "class Solution(object):\n",
    "    def accountsMerge(self, accounts):\n",
    "        from collections import defaultdict\n",
    "        visited_accounts = [False] * len(accounts)\n",
    "        emails_accounts_map = defaultdict(list)\n",
    "        res = []\n",
    "        \n",
    "        # Build up the graph.\n",
    "        for i, account in enumerate(accounts):\n",
    "            for email in account[1:]:\n",
    "                emails_accounts_map[email].append(i)\n",
    "                \n",
    "        # DFS code for traversing accounts.\n",
    "        def dfs(i, emails):\n",
    "            if visited_accounts[i]:\n",
    "                return\n",
    "            visited_accounts[i] = True\n",
    "            for j in range(1, len(accounts[i])):\n",
    "                email = accounts[i][j]\n",
    "                emails.add(email)\n",
    "                for neighbor in emails_accounts_map[email]:\n",
    "                    dfs(neighbor, emails)\n",
    "                    \n",
    "        # Perform DFS for accounts and add to results.\n",
    "        for i, account in enumerate(accounts):\n",
    "            if visited_accounts[i]:\n",
    "                continue\n",
    "            name, emails = account[0], set()\n",
    "            dfs(i, emails)\n",
    "            res.append([name] + sorted(emails))\n",
    "        return res"
   ]
  },
  {
   "cell_type": "markdown",
   "metadata": {},
   "source": [
    "# 31. Next Permutation"
   ]
  },
  {
   "cell_type": "code",
   "execution_count": null,
   "metadata": {
    "collapsed": true
   },
   "outputs": [],
   "source": [
    "class Solution:\n",
    "    def nextPermutation(self, nums: List[int]) -> None:\n",
    "        \"\"\"\n",
    "        Do not return anything, modify nums in-place instead.\n",
    "        \"\"\"\n",
    "        i = j = len(nums) - 1\n",
    "        while i > 0 and nums[i - 1] >= nums[i]:  # find the first descending number\n",
    "            i -= 1\n",
    "        if i == 0:  # nums are in descending order\n",
    "            nums.reverse()\n",
    "            return\n",
    "\n",
    "        k = i - 1  # find the number that is just larger than nums[k]\n",
    "        while nums[j] <= nums[k]:\n",
    "            j -= 1\n",
    "\n",
    "        # Swap\n",
    "        nums[k], nums[j] = nums[j], nums[k]\n",
    "        l, r = k + 1, len(nums) - 1  # reverse the second part\n",
    "\n",
    "        while l < r:\n",
    "            nums[l], nums[r] = nums[r], nums[l]\n",
    "            l += 1;\n",
    "            r -= 1"
   ]
  },
  {
   "cell_type": "markdown",
   "metadata": {},
   "source": [
    "# 56. Merge Intervals"
   ]
  },
  {
   "cell_type": "code",
   "execution_count": null,
   "metadata": {
    "collapsed": true
   },
   "outputs": [],
   "source": [
    "class Solution:\n",
    "    def merge(self, intervals):\n",
    "        intervals.sort(key=lambda x: x[0])\n",
    "\n",
    "        merged = []\n",
    "        for interval in intervals:\n",
    "            if not merged or merged[-1][1] < interval[0]:\n",
    "                merged.append(interval)\n",
    "            else:\n",
    "                merged[-1][1] = max(merged[-1][1], interval[1])\n",
    "        return merged"
   ]
  },
  {
   "cell_type": "markdown",
   "metadata": {},
   "source": [
    "# 270. Closest Binary Search Tree Value"
   ]
  },
  {
   "cell_type": "code",
   "execution_count": null,
   "metadata": {
    "collapsed": true
   },
   "outputs": [],
   "source": [
    "class Solution:\n",
    "    def closestValue(self, root: TreeNode, target: float) -> int:\n",
    "        closest_val = root.val\n",
    "        while root:\n",
    "            if abs(root.val - target) < abs(closest_val - target):\n",
    "                closest_val = root.val\n",
    "                \n",
    "            if root.val == target:\n",
    "                return root.val                           \n",
    "            elif root.val < target:\n",
    "                root = root.right\n",
    "            else:\n",
    "                root = root.left\n",
    "                \n",
    "        return closest_val"
   ]
  },
  {
   "cell_type": "markdown",
   "metadata": {},
   "source": [
    "### 1047. Remove All Adjacent Duplicates In String"
   ]
  },
  {
   "cell_type": "code",
   "execution_count": null,
   "metadata": {},
   "outputs": [],
   "source": [
    "class Solution:\n",
    "    def removeDuplicates(self, s: str) -> str:\n",
    "        stack = []\n",
    "        for i, c in enumerate(s):\n",
    "            if stack and stack[-1] == c:\n",
    "                stack.pop()\n",
    "            else:\n",
    "                stack.append(c)\n",
    "                \n",
    "        return \"\".join(stack)"
   ]
  },
  {
   "cell_type": "markdown",
   "metadata": {},
   "source": [
    "# 670. Maximum Swap"
   ]
  },
  {
   "cell_type": "code",
   "execution_count": null,
   "metadata": {
    "collapsed": true
   },
   "outputs": [],
   "source": [
    "class Solution:\n",
    "    def maximumSwap(self, num: int) -> int:\n",
    "        A = list(str(num)) # convert into a list for swap convenience, duplicate because in the end we may need to return the original num\n",
    "        last = {int(val): i for i, val in enumerate(A)}\n",
    "        \n",
    "        for i, val in enumerate(A):\n",
    "            for j in range(9, int(val), -1): # the maximum number that is larger than int(val)\n",
    "                if last.get(j, 0) > i: # larger than i\n",
    "                    A[i], A[last[j]] = A[last[j]], A[i] # swap last[j] not j itself\n",
    "                    return int(\"\".join(A)) # return imediately\n",
    "        return num"
   ]
  },
  {
   "cell_type": "markdown",
   "metadata": {},
   "source": [
    "# 339. Nested List Weight Sum"
   ]
  },
  {
   "cell_type": "code",
   "execution_count": null,
   "metadata": {
    "collapsed": true
   },
   "outputs": [],
   "source": [
    "class Solution:\n",
    "    def depthSum(self, nestedList):\n",
    "        \"\"\"\n",
    "        :type nestedList: List[NestedInteger]\n",
    "        :rtype: int\n",
    "        \"\"\"\n",
    "        depth, ret = 1, 0\n",
    "        while nestedList:\n",
    "            ret += depth * sum([x.getInteger() for x in nestedList if x.isInteger()]) # don't forget multiply by depth\n",
    "            nestedList = sum([x.getList() for x in nestedList if not x.isInteger()], [])\n",
    "            depth += 1 # don't forget to update depth\n",
    "        return ret"
   ]
  },
  {
   "cell_type": "markdown",
   "metadata": {},
   "source": [
    "# 785. Is Graph Bipartite?"
   ]
  },
  {
   "cell_type": "code",
   "execution_count": null,
   "metadata": {
    "collapsed": true
   },
   "outputs": [],
   "source": [
    "# nodes for each edge in two different colors\n",
    "# DFS\n",
    "class Solution:\n",
    "    def isBipartite(self, graph: List[List[int]]) -> bool:\n",
    "        color = {}\n",
    "        for node in range(len(graph)):\n",
    "            if node not in color:\n",
    "                stack = [node]\n",
    "                color[node] = 0\n",
    "                while stack:\n",
    "                    node = stack.pop()\n",
    "                    for nei in graph[node]:\n",
    "                        if nei not in color:\n",
    "                            stack.append(nei)\n",
    "                            color[nei] = color[node] ^ 1\n",
    "                        elif color[nei] == color[node]:\n",
    "                            return False\n",
    "        return True\n",
    "\n",
    "    \n",
    "# BFS    \n",
    "from collections import deque\n",
    "\n",
    "class Solution:\n",
    "    def isBipartite(self, graph: List[List[int]]) -> bool:\n",
    "        color = {}      \n",
    "        for node in range(len(graph)):\n",
    "            if node not in color:\n",
    "                queue = deque([node])\n",
    "                color[node] = 0\n",
    "                while queue:\n",
    "                    node = queue.popleft()\n",
    "                    for nei in graph[node]:\n",
    "                        if nei not in color:\n",
    "                            color[nei] = color[node] ^ 1\n",
    "                            queue.append(nei)\n",
    "                        elif color[nei] == color[node]:\n",
    "                            return False\n",
    "        return True"
   ]
  },
  {
   "cell_type": "markdown",
   "metadata": {},
   "source": [
    "# 528. Random Pick with Weight"
   ]
  },
  {
   "cell_type": "code",
   "execution_count": null,
   "metadata": {
    "collapsed": true
   },
   "outputs": [],
   "source": [
    "# https://www.cnblogs.com/grandyang/p/9784690.html\n",
    "\n",
    "class Solution:\n",
    "    def __init__(self, w: List[int]):\n",
    "        self.pre_sum = []\n",
    "        pre_sum = 0\n",
    "        for weight in w:\n",
    "            pre_sum += weight\n",
    "            self.pre_sum.append(pre_sum)\n",
    "        self.total_sum = pre_sum\n",
    "\n",
    "    def pickIndex(self) -> int: # find the first one larger than or equal to target\n",
    "        target = random.randint(1, self.total_sum)\n",
    "        lo, hi = 0, len(self.pre_sum)\n",
    "        while lo < hi - 1:\n",
    "            mid = lo + (hi - lo)//2\n",
    "            if self.pre_sum[mid] < target:\n",
    "                lo = mid\n",
    "            else:\n",
    "                hi = mid\n",
    "        if self.pre_sum[lo] >= target:\n",
    "            return lo\n",
    "        else:\n",
    "            return hi"
   ]
  },
  {
   "cell_type": "code",
   "execution_count": null,
   "metadata": {
    "collapsed": true
   },
   "outputs": [],
   "source": []
  },
  {
   "cell_type": "markdown",
   "metadata": {},
   "source": [
    "# 29. Divide Two Integers"
   ]
  },
  {
   "cell_type": "code",
   "execution_count": null,
   "metadata": {
    "collapsed": true
   },
   "outputs": [],
   "source": [
    "# i = 1, minus 1*divisor; i = 2, minus 2*divisor\n",
    "\n",
    "class Solution(object):\n",
    "    def divide(self, dividend, divisor):\n",
    "        sig = (dividend < 0) == (divisor < 0)\n",
    "        dividend, divisor = abs(dividend), abs(divisor)\n",
    "        res = 0\n",
    "        while dividend >= divisor: # >=\n",
    "            temp, i = divisor, 1 # reset if dividened < temp\n",
    "            while dividend >= temp: # >=\n",
    "                dividend -= temp\n",
    "                res += i\n",
    "                i *= 2\n",
    "                temp *= 2 \n",
    "                \n",
    "        return min(res if sig else -res, 2147483647)"
   ]
  },
  {
   "cell_type": "markdown",
   "metadata": {},
   "source": [
    "# 314. Binary Tree Vertical Order Traversal"
   ]
  },
  {
   "cell_type": "code",
   "execution_count": null,
   "metadata": {},
   "outputs": [],
   "source": [
    "from collections import deque, defaultdict\n",
    "class Solution:\n",
    "    def verticalOrder(self, root: Optional[TreeNode]) -> List[List[int]]:\n",
    "        if not root:\n",
    "            return []\n",
    "        queue = deque([(root, 0)])\n",
    "        mapping = defaultdict(list)\n",
    "        min_col, max_col = 0, 0\n",
    "        while queue:\n",
    "            node, col = queue.popleft()\n",
    "            min_col = min(min_col, col)\n",
    "            max_col = max(max_col, col)\n",
    "            mapping[col].append(node.val)\n",
    "            if node.left:\n",
    "                queue.append((node.left, col - 1))\n",
    "            if node.right:\n",
    "                queue.append((node.right, col + 1))\n",
    "        return [mapping[col] for col in range(min_col, max_col + 1)]"
   ]
  },
  {
   "cell_type": "markdown",
   "metadata": {},
   "source": [
    "# 1123. Lowest Common Ancestor of Deepest Leaves"
   ]
  },
  {
   "cell_type": "code",
   "execution_count": null,
   "metadata": {
    "collapsed": true
   },
   "outputs": [],
   "source": [
    "# 865. Smallest Subtree with all the Deepest Nodes\n",
    "class Solution:\n",
    "    def lcaDeepestLeaves(self, root: TreeNode) -> TreeNode:        \n",
    "        def helper(root):\n",
    "            if not root: return 0, None\n",
    "            h1, lca1 = helper(root.left)\n",
    "            h2, lca2 = helper(root.right)\n",
    "            if h1 > h2: \n",
    "                return h1 + 1, lca1\n",
    "            elif h1 < h2: \n",
    "                return h2 + 1, lca2\n",
    "            else:\n",
    "                return h1 + 1, root\n",
    "        \n",
    "        return helper(root)[1]"
   ]
  },
  {
   "cell_type": "markdown",
   "metadata": {},
   "source": [
    "# 987. Vertical Order Traversal of a Binary Tree"
   ]
  },
  {
   "cell_type": "code",
   "execution_count": null,
   "metadata": {
    "collapsed": true
   },
   "outputs": [],
   "source": [
    "# Time: O(N + K* N/K *log(N/K))  Space: O(N)\n",
    "\n",
    "class Solution(object):\n",
    "        def verticalTraversal(self, root):\n",
    "            \"\"\"\n",
    "            :type root: TreeNode\n",
    "            :rtype: List[List[int]]\n",
    "            \"\"\"\n",
    "            mapping = collections.defaultdict(list)\n",
    "            queue = collections.deque([(root, 0, 0)]) # pay attention to the format\n",
    "            res = []\n",
    "            x_min = x_max = 0\n",
    "            while queue:\n",
    "                node, x, y = queue.popleft()\n",
    "                mapping[x].append((y, node.val))\n",
    "                x_min, x_max = min(x_min, x), max(x_max, x)\n",
    "                if node.left:\n",
    "                    queue.append((node.left, x - 1, y + 1)) # double parenses\n",
    "                if node.right:\n",
    "                    queue.append((node.right, x + 1, y + 1))\n",
    "\n",
    "            for i in range(x_min, x_max + 1):\n",
    "                res.append([val for col, val in sorted(mapping[i])])\n",
    "\n",
    "            return res"
   ]
  },
  {
   "cell_type": "markdown",
   "metadata": {},
   "source": [
    "# 426. Convert Binary Search Tree to Sorted Doubly Linked List"
   ]
  },
  {
   "cell_type": "code",
   "execution_count": null,
   "metadata": {
    "collapsed": true
   },
   "outputs": [],
   "source": [
    "# Inorder traversal O(N) O(h)\n",
    "\n",
    "# the left pointer of the tree node should point to its predecessor, and the right pointer should point to its successor.\n",
    "\n",
    "class Solution:\n",
    "    def treeToDoublyList(self, root):\n",
    "        if not root: \n",
    "            return\n",
    "        dummy = Node(0, None, None)\n",
    "        prev = dummy\n",
    "        stack, node = [], root\n",
    "        while stack or node:\n",
    "            while node:\n",
    "                stack.append(node)\n",
    "                node = node.left\n",
    "            node = stack.pop()\n",
    "            node.left, prev.right, prev = prev, node, node # upate prev to the current node\n",
    "            node = node.right\n",
    "            \n",
    "        # link the first node(dummy.right is the first node) and last node(prev)\n",
    "        dummy.right.left, prev.right = prev, dummy.right # treat dummy.right as a virtual node\n",
    "        return dummy.right        "
   ]
  },
  {
   "cell_type": "markdown",
   "metadata": {},
   "source": [
    "# 109. Convert Sorted List to Binary Search Tree"
   ]
  },
  {
   "cell_type": "code",
   "execution_count": null,
   "metadata": {
    "collapsed": true
   },
   "outputs": [],
   "source": [
    "# Convert the linked list into an array, then reduces to problem 108\n",
    "\n",
    "class Solution:\n",
    "    def sortedListToBST(self, head: ListNode) -> TreeNode:\n",
    "        nodes = []\n",
    "        while head:\n",
    "            nodes.append(head.val)\n",
    "            head = head.next\n",
    "        return self.helper(nodes)\n",
    "            \n",
    "    def helper(self, nodes):   \n",
    "        if not nodes:\n",
    "            return None\n",
    "        mid = len(nodes)//2\n",
    "        root = TreeNode(nodes[mid])\n",
    "        root.left = self.helper(nodes[:mid])\n",
    "        root.right = self.helper(nodes[mid + 1:])\n",
    "        return root"
   ]
  },
  {
   "cell_type": "markdown",
   "metadata": {},
   "source": [
    "# 708. Insert into a Sorted Circular Linked List"
   ]
  },
  {
   "cell_type": "code",
   "execution_count": null,
   "metadata": {
    "collapsed": true
   },
   "outputs": [],
   "source": [
    "class Solution:\n",
    "    def insert(self, head, val):\n",
    "        \"\"\"\n",
    "        :type head: Node\n",
    "        :type insertVal: int\n",
    "        :rtype: Node\n",
    "        \"\"\"\n",
    "        node = Node(val, None)\n",
    "        node.next = node\n",
    "        if not head:            \n",
    "            return node \n",
    "        prev, cur = head, head.next\n",
    "        while True:\n",
    "            if prev.val <= val <= cur.val:\n",
    "                break # jump out of the while loop\n",
    "            elif prev.val > cur.val and (val<cur.val or val>prev.val):\n",
    "                break\n",
    "            prev, cur = prev.next, cur.next\n",
    "            if prev == head: # for the case that all the nodes are the same\n",
    "                break \n",
    "        prev.next = node\n",
    "        node.next = cur \n",
    "        return head"
   ]
  },
  {
   "cell_type": "markdown",
   "metadata": {},
   "source": [
    "# 140. Word Break II"
   ]
  },
  {
   "cell_type": "code",
   "execution_count": null,
   "metadata": {
    "collapsed": true
   },
   "outputs": [],
   "source": [
    "class Solution:\n",
    "    def wordBreak(self, s: str, wordDict: List[str]) -> List[str]:\n",
    "        return self.dfs(s, wordDict, {})\n",
    "    \n",
    "    def dfs(self, s, wordDict, memo):\n",
    "        partitions = []\n",
    "        if s in memo:\n",
    "            return memo[s]\n",
    "        if not s:\n",
    "            return        \n",
    "        if s in wordDict:\n",
    "            partitions.append(s)\n",
    "            \n",
    "        for i in range(1, len(s)):\n",
    "            prefix = s[:i]\n",
    "            if prefix not in wordDict:\n",
    "                continue\n",
    "            subpartitions = self.dfs(s[i:], wordDict, memo)\n",
    "            for subpartition in subpartitions:\n",
    "                partitions.append(prefix + \" \" + subpartition)\n",
    "            \n",
    "        memo[s] = partitions\n",
    "        return partitions\n",
    " \n",
    "\n",
    " class Solution:\n",
    "    def wordBreak(self, s: str, wordDict: List[str]) -> List[str]:\n",
    "        return self.dfs(s, wordDict, {})\n",
    "    \n",
    "    def dfs(self, s, wordDict, memo):\n",
    "        if s in memo: \n",
    "            return memo[s]\n",
    "        if not s: \n",
    "            return []\n",
    "\n",
    "        res = []\n",
    "        for word in wordDict: # iterate in the wordDict\n",
    "            if not s.startswith(word):\n",
    "                continue\n",
    "            if len(word) == len(s):\n",
    "                res.append(word)\n",
    "            else:\n",
    "                resultOfTheRest = self.dfs(s[len(word):], wordDict, memo)\n",
    "                for item in resultOfTheRest:\n",
    "                    item = word + ' ' + item\n",
    "                    res.append(item)\n",
    "        memo[s] = res\n",
    "        return res       "
   ]
  },
  {
   "cell_type": "markdown",
   "metadata": {},
   "source": [
    "# 398. Random Pick Index"
   ]
  },
  {
   "cell_type": "code",
   "execution_count": null,
   "metadata": {
    "collapsed": true
   },
   "outputs": [],
   "source": [
    "# Reserviar sampling O(n) O(1)\n",
    "class Solution:\n",
    "    def __init__(self, nums):\n",
    "        self.nums = nums\n",
    "\n",
    "    def pick(self, target):\n",
    "        res = None\n",
    "        count = 0\n",
    "        for i, x in enumerate(self.nums):\n",
    "            if x == target:\n",
    "                count += 1\n",
    "                chance = random.randint(1, count)\n",
    "                if chance == 1: #initialized to the first index but could be updated later\n",
    "                    res = i\n",
    "        return res\n",
    "\n",
    "# O(n) O(n)    \n",
    "from collections import defaultdict\n",
    "class Solution:\n",
    "    def __init__(self, nums: List[int]):\n",
    "        self.store = defaultdict(list)\n",
    "        for i, num in enumerate(nums):\n",
    "            self.store[num].append(i)\n",
    "            \n",
    "        \n",
    "    def pick(self, target: int) -> int:\n",
    "        n = len(self.store[target])\n",
    "        return self.store[target][randint(0, n - 1)]"
   ]
  },
  {
   "cell_type": "markdown",
   "metadata": {},
   "source": [
    "# 139. Word Break"
   ]
  },
  {
   "cell_type": "code",
   "execution_count": null,
   "metadata": {
    "collapsed": true
   },
   "outputs": [],
   "source": [
    "class Solution:\n",
    "\n",
    "    def wordBreak(self, s, wordDict):\n",
    "        n = len(s)\n",
    "        dp = [True] + [False] * n  \n",
    "        \n",
    "        for i in range(1,n+1): # dp[i] the first i characters could be broken or not\n",
    "            for w in wordDict:\n",
    "                if dp[i-len(w)] and s[i-len(w):i] == w:\n",
    "                    dp[i]=True\n",
    "        return dp[-1]"
   ]
  },
  {
   "cell_type": "markdown",
   "metadata": {},
   "source": [
    "# 236. Lowest Common Ancestor of a Binary Tree"
   ]
  },
  {
   "cell_type": "code",
   "execution_count": null,
   "metadata": {
    "collapsed": true
   },
   "outputs": [],
   "source": [
    "# Recursion\n",
    "# O(H) O(H)\n",
    "class Solution:\n",
    "    def lowestCommonAncestor(self, root: 'TreeNode', p: 'TreeNode', q: 'TreeNode') -> 'TreeNode':\n",
    "        if not root:\n",
    "            return None\n",
    "        if root.val == p.val or root.val == q.val:\n",
    "            return root\n",
    "        left = self.lowestCommonAncestor(root.left, p, q)\n",
    "        right = self.lowestCommonAncestor(root.right, p, q)\n",
    "        if left and right: # on both sides\n",
    "            return root\n",
    "        elif left: # on left side\n",
    "            return left\n",
    "        else: # on right side\n",
    "            return right"
   ]
  },
  {
   "cell_type": "markdown",
   "metadata": {},
   "source": [
    "# 1650. Lowest Common Ancestor of a Binary Tree III"
   ]
  },
  {
   "cell_type": "code",
   "execution_count": null,
   "metadata": {},
   "outputs": [],
   "source": [
    "# The idea is this say p to root is path length is a + c and q to root path length is b + c where c is the length of the common path to root after they meet. Then we are just making them both travel the same distance a + b +c by this swapping when root trick. So they exactly meet at that common merging point which is the LCA.    \n",
    "# there is no root information, a linked list problem\n",
    "# a + c + b == b + c + a\n",
    "\n",
    "class Solution:\n",
    "    def lowestCommonAncestor(self, p: 'Node', q: 'Node') -> 'Node':\n",
    "        p1, p2 = p, q\n",
    "        while p1 != p2:\n",
    "            p1 = p1.parent if p1.parent else q\n",
    "            p2 = p2.parent if p2.parent else p\n",
    "            \n",
    "        return p1"
   ]
  },
  {
   "cell_type": "markdown",
   "metadata": {},
   "source": [
    "# 33. Search in Rotated Sorted Array"
   ]
  },
  {
   "cell_type": "code",
   "execution_count": null,
   "metadata": {
    "collapsed": true
   },
   "outputs": [],
   "source": [
    "class Solution:\n",
    "    \"\"\"\n",
    "    @param A: an integer rotated sorted array\n",
    "    @param target: an integer to be searched\n",
    "    @return: an integer\n",
    "    \"\"\"\n",
    "    def search(self, A, target):\n",
    "        # write your code here\n",
    "        if not A:\n",
    "            return -1\n",
    "            \n",
    "        start, end = 0, len(A) - 1 \n",
    "        while start < end - 1:\n",
    "            middle = start + (end-start)//2\n",
    "            if A[middle] >= A[start]:  \n",
    "                if A[start] <= target <= A[middle]:  #  when target is between start and middle, this is easy condition                               \n",
    "                    end = middle\n",
    "                else:  # else takes care of the complex condition\n",
    "                    start = middle\n",
    "            else:\n",
    "                if A[middle] <= target <=A[end]:\n",
    "                    start = middle\n",
    "                else:\n",
    "                    end = middle\n",
    "        \n",
    "        if A[start] == target:\n",
    "            return start\n",
    "        if A[end] == target:\n",
    "            return end\n",
    "        \n",
    "        return -1"
   ]
  },
  {
   "cell_type": "markdown",
   "metadata": {},
   "source": [
    "# 249. Group Shifted Strings"
   ]
  },
  {
   "cell_type": "code",
   "execution_count": null,
   "metadata": {
    "collapsed": true
   },
   "outputs": [],
   "source": [
    "# O(n) O(n)\n",
    "from collections import defaultdict\n",
    "class Solution:\n",
    "    def groupStrings(self, strings: List[str]) -> List[List[str]]:    \n",
    "        hashmap = defaultdict(list)\n",
    "        for s in strings:\n",
    "            key = ()\n",
    "            for i in range(len(s) - 1):\n",
    "                circular_difference = ord(s[i+1]) - ord(s[i])\n",
    "                key += (circular_difference % 26,)\n",
    "            hashmap[key].append(s)\n",
    "        return list(hashmap.values())\n",
    "    \n",
    "# O(n) O(n)\n",
    "from collections import defaultdict\n",
    "class Solution:\n",
    "    def groupStrings(self, strings: List[str]) -> List[List[str]]:    \n",
    "        hashmap = defaultdict(list)\n",
    "        for s in strings:\n",
    "            key = \"\" # can't use list\n",
    "            for i in range(len(s) - 1):\n",
    "                circular_difference = ord(s[i+1]) - ord(s[i]) # ord('a') - ord('y') = -24\n",
    "                key += str(circular_difference % 26)\n",
    "            hashmap[key].append(s)\n",
    "        return list(hashmap.values())"
   ]
  },
  {
   "cell_type": "markdown",
   "metadata": {},
   "source": [
    "# 498. Diagonal Traverse"
   ]
  },
  {
   "cell_type": "code",
   "execution_count": null,
   "metadata": {
    "collapsed": true
   },
   "outputs": [],
   "source": [
    "# O(mn) O(mn)\n",
    "\n",
    "class Solution:   \n",
    "    def findDiagonalOrder(self, matrix):\n",
    "        \"\"\"\n",
    "        :type matrix: List[List[int]]\n",
    "        :rtype: List[int]\n",
    "        \"\"\"\n",
    "        if not matrix or not matrix[0]: \n",
    "            return []\n",
    "        \n",
    "        m, n = len(matrix), len(matrix[0])\n",
    "        \n",
    "        res = []\n",
    "        dd = collections.defaultdict(list)\n",
    "        \n",
    "        for i in range(0, m):\n",
    "            for j in range(0, n):\n",
    "                dd[i+j].append(matrix[i][j])\n",
    "                \n",
    "        for k in range(m + n - 1):\n",
    "            if k%2==0: \n",
    "                dd[k].reverse()\n",
    "                \n",
    "            res += dd[k]\n",
    "            \n",
    "        return res"
   ]
  },
  {
   "cell_type": "markdown",
   "metadata": {},
   "source": [
    "# 767. Reorganize String"
   ]
  },
  {
   "cell_type": "code",
   "execution_count": null,
   "metadata": {
    "collapsed": true
   },
   "outputs": [],
   "source": [
    "# Similar to 621 Task scheduler\n",
    "\n",
    "class Solution:   \n",
    "    def reorganizeString(self, S):       \n",
    "        count = collections.Counter(S)\n",
    "        digit0 = count.most_common(1)[0][0]\n",
    "        max_count = count.most_common(1)[0][1]\n",
    "        \n",
    "        if 2*max_count -1 > len(S): # if there not enough character to fill in\n",
    "            return \"\"\n",
    "\n",
    "        ans = [digit0 for _ in range(max_count)]\n",
    "        \n",
    "        i = 0\n",
    "        for digit in count:\n",
    "            if digit != digit0:\n",
    "                for _ in range(count[digit]):\n",
    "                    ans[i%len(ans)] += digit\n",
    "                    i += 1\n",
    "                    \n",
    "        return ''.join(ans)  \n",
    "\n",
    "    \n",
    "    \n",
    "# Priorityqueue\n",
    "class Solution:   \n",
    "     def reorganizeString(self, S):\n",
    "        res, c = [], Counter(S)\n",
    "        pq = [(-value,key) for key,value in c.items()]\n",
    "        heapq.heapify(pq)\n",
    "        p_a, p_b = 0, ''\n",
    "        while pq:\n",
    "            a, b = heapq.heappop(pq)\n",
    "            res += [b]\n",
    "            if p_a < 0:\n",
    "                heapq.heappush(pq, (p_a, p_b))\n",
    "            a += 1\n",
    "            p_a, p_b = a, b\n",
    "        res = ''.join(res)\n",
    "        \n",
    "        if len(res) != len(S): \n",
    "            return \"\"\n",
    "        return res"
   ]
  },
  {
   "cell_type": "markdown",
   "metadata": {},
   "source": [
    "# 1424. Diagonal Traverse II"
   ]
  },
  {
   "cell_type": "code",
   "execution_count": null,
   "metadata": {
    "collapsed": true
   },
   "outputs": [],
   "source": [
    "# Binary tree idea with BFS\n",
    "\n",
    "class Solution:\n",
    "\n",
    "    def findDiagonalOrder(self, nums: List[List[int]]) -> List[int]:\n",
    "        ans = []\n",
    "        m = len(nums)\n",
    "      \n",
    "        \n",
    "        queue = collections.deque([(0, 0)])\n",
    "        while queue:\n",
    "            row, col = queue.popleft()\n",
    "            ans.append(nums[row][col])\n",
    "            \n",
    "            # we only add the number at the bottom if we are at column 0\n",
    "            if col == 0 and row + 1 < m:\n",
    "                queue.append((row + 1, col))\n",
    "                \n",
    "            # add the number on the right\n",
    "            if col + 1 < len(nums[row]): # doesn't necessary to be a rectangle\n",
    "                queue.append((row, col + 1))\n",
    "            \n",
    "        return ans"
   ]
  },
  {
   "cell_type": "markdown",
   "metadata": {},
   "source": [
    "# 380. Insert Delete GetRandom O(1)"
   ]
  },
  {
   "cell_type": "code",
   "execution_count": null,
   "metadata": {
    "collapsed": true
   },
   "outputs": [],
   "source": [
    "class RandomizedSet:\n",
    "\n",
    "    def __init__(self):\n",
    "        \"\"\"\n",
    "        Initialize your data structure here.\n",
    "        \"\"\"\n",
    "        self.dict = {}\n",
    "        self.list = []\n",
    "        \n",
    "\n",
    "    def insert(self, val: int) -> bool:\n",
    "        if val in self.dict:\n",
    "            return False\n",
    "        self.dict[val] = len(self.list)  # Add value: index into dictionary\n",
    "        self.list.append(val)\n",
    "        return True\n",
    "        \n",
    "\n",
    "    def remove(self, val: int) -> bool:\n",
    "        \"\"\"\n",
    "        Removes a value from the set. Returns true if the set contained the specified element.\n",
    "        \"\"\"\n",
    "        if val in self.dict:\n",
    "            last, idx = self.list[-1], self.dict[val]           \n",
    "            self.list[idx], self.dict[last] = last, idx # update the value idx to be the last number\n",
    "            self.list.pop() # O(1) instead of removing the val from the list directly O(n)\n",
    "            del self.dict[val]\n",
    "            return True\n",
    "        return False\n",
    "        \n",
    "\n",
    "    def getRandom(self) -> int:\n",
    "        \"\"\"\n",
    "        Get a random element from the set.\n",
    "        \"\"\"\n",
    "        return choice(self.list)"
   ]
  },
  {
   "cell_type": "markdown",
   "metadata": {},
   "source": [
    "# 419. Battleships in a Board"
   ]
  },
  {
   "cell_type": "code",
   "execution_count": null,
   "metadata": {
    "collapsed": true
   },
   "outputs": [],
   "source": [
    "#This is an invalid board that you will not receive\n",
    "# Check left and up: if there is \"X\", flag = 0\n",
    "class Solution:\n",
    "    def countBattleships(self, board):\n",
    "        total = 0\n",
    "        for i in range(len(board)):\n",
    "            for j in range(len(board[0])):\n",
    "                if board[i][j] == 'X':\n",
    "                    flag = 1\n",
    "                    if j > 0 and board[i][j-1] == 'X': flag = 0\n",
    "                    if i > 0 and board[i-1][j] == 'X': flag = 0\n",
    "                    total += flag\n",
    "        return total       "
   ]
  },
  {
   "cell_type": "markdown",
   "metadata": {},
   "source": [
    "# 839. Similar String Groups"
   ]
  },
  {
   "cell_type": "code",
   "execution_count": null,
   "metadata": {
    "collapsed": true
   },
   "outputs": [],
   "source": [
    "class Solution:\n",
    "    def numSimilarGroups(self, a):\n",
    "        n = len(a)\n",
    "        ufind = UnionFind(n)\n",
    "        for i in range(n):\n",
    "            for j in range(i+1, n):\n",
    "                if self.is_similar(a[i], a[j]):\n",
    "                    ufind.union(i, j)\n",
    "        return ufind.get_num_groups()\n",
    "\n",
    "    def is_similar(self, a, b): # only two difference or zero difference\n",
    "        return len(list(filter(lambda i: a[i] != b[i], range(len(a))))) in (0, 2)\n",
    "\n",
    "\n",
    "class UnionFind:\n",
    "    def __init__(self, n):\n",
    "        self.parents = list(range(n))\n",
    "        self.ranks =[1] * n\n",
    "\n",
    "    def find(self, x):\n",
    "        if x == self.parents[x]:\n",
    "            return x\n",
    "        return self.find(self.parents[x])\n",
    "\n",
    "    def union(self, u, v):\n",
    "        root_u, root_v = self.find(u), self.find(v)\n",
    "        if root_u == root_v:\n",
    "            return\n",
    "        if self.ranks[root_u] < self.ranks[root_v]: \n",
    "            root_u, root_v = root_v, root_u\n",
    "        self.parents[root_v] = root_u\n",
    "        self.ranks[root_u] += 1\n",
    "\n",
    "    def get_num_groups(self):\n",
    "        return sum([1 for i in range(len(self.parents)) if i == self.parents[i]])\n",
    "        "
   ]
  },
  {
   "cell_type": "markdown",
   "metadata": {},
   "source": [
    "# 1060. Missing Element in Sorted Array"
   ]
  },
  {
   "cell_type": "code",
   "execution_count": null,
   "metadata": {
    "collapsed": true
   },
   "outputs": [],
   "source": [
    "# O(n) O(1)\n",
    "class Solution:\n",
    "    def missingElement(self, nums: List[int], k: int) -> int:\n",
    "        # Return how many numbers are missing until nums[idx]\n",
    "        missing = lambda idx: nums[idx] - nums[0] - idx\n",
    "                \n",
    "        n = len(nums)\n",
    "        # If kth missing number is larger than \n",
    "        # the last element of the array\n",
    "        if k > missing(n - 1):\n",
    "            return nums[-1] + k - missing(n - 1) \n",
    "\n",
    "        idx = 1\n",
    "        # find idx such that \n",
    "        # missing(idx - 1) < k <= missing(idx)\n",
    "        while missing(idx) < k:\n",
    "            idx += 1\n",
    "\n",
    "        # kth missing number is greater than nums[idx - 1]\n",
    "        # and less than nums[idx]\n",
    "        return nums[idx - 1] + k - missing(idx - 1)\n",
    "\n",
    "\n",
    "# Binary search O(lgn) O(1)\n",
    "class Solution:\n",
    "    def missingElement(self, nums: List[int], k: int) -> int:\n",
    "        if not nums or k == 0:\n",
    "            return 0\n",
    "        \n",
    "        diff = nums[-1] - nums[0] + 1 # complete length\n",
    "        missing = diff - len(nums) # complete length - real length\n",
    "        \n",
    "        if k > missing: # if k is larger than the number of mssing words in sequence\n",
    "            return nums[-1] + k - missing\n",
    "        \n",
    "        left, right = 0, len(nums) - 1\n",
    "        while left + 1 < right:\n",
    "            mid = (left + right) // 2\n",
    "            missing = nums[mid] - nums[left] - (mid - left)\n",
    "            if missing < k:\n",
    "                left = mid\n",
    "                k -= missing # KEY: move left forward, we need to minus the missing words of this range\n",
    "            else:\n",
    "                right = mid\n",
    "                \n",
    "        return nums[left] + k # k should be between left and right index in the end"
   ]
  },
  {
   "cell_type": "markdown",
   "metadata": {},
   "source": [
    "# 616. Add Bold Tag in String"
   ]
  },
  {
   "cell_type": "code",
   "execution_count": null,
   "metadata": {
    "collapsed": true
   },
   "outputs": [],
   "source": [
    "# mark each character in the string if they are in the dict\n",
    "\n",
    "class Solution:\n",
    "    def addBoldTag(self, s: str, dict: List[str]) -> str:\n",
    "        # Initialize a list of booleans for each character in s.\n",
    "        bold = [False for _ in range(len(s))]\n",
    "        \n",
    "        # Iterate through the dictionary, marking words to be bolded as True.\n",
    "        for word in dict:\n",
    "            # Mark every occurrence of the word as True.\n",
    "            start = s.find(word)\n",
    "            while start != -1:\n",
    "                for i in range(start, len(word) + start):\n",
    "                    bold[i] = True\n",
    "                start = s.find(word,start+1)\n",
    "        \n",
    "        # Initialize the output list of strings.\n",
    "        output = []\n",
    "        \n",
    "        # Traverse the input string, building the output list.\n",
    "        i = 0\n",
    "        while i < len(s):\n",
    "            # If the current character is to be bolded...\n",
    "            if bold[i]:\n",
    "                # Insert a bold tag.\n",
    "                output.append(\"<b>\")\n",
    "                # Append characters to be bolded.\n",
    "                while i < len(s) and bold[i]:\n",
    "                    output.append(s[i])\n",
    "                    i += 1\n",
    "                # Insert the end tag.\n",
    "                output.append(\"</b>\")\n",
    "            # Otherwise, just append the character.\n",
    "            else:\n",
    "                output.append(s[i])\n",
    "                i += 1\n",
    "        \n",
    "        # Join the output list and return it.\n",
    "        return \"\".join(output)"
   ]
  },
  {
   "cell_type": "markdown",
   "metadata": {},
   "source": [
    "# 658. Find K Closest Elements"
   ]
  },
  {
   "cell_type": "code",
   "execution_count": null,
   "metadata": {
    "collapsed": true
   },
   "outputs": [],
   "source": [
    "# Binary search the starting index of the returned array\n",
    "class Solution:    \n",
    "    def findClosestElements(self, A, k, x):\n",
    "        left, right = 0, len(A) - k\n",
    "        \n",
    "        while left < right:\n",
    "            mid = (left + right) // 2\n",
    "            if x - A[mid] > A[mid + k] - x:\n",
    "                left = mid + 1\n",
    "            else:\n",
    "                right = mid\n",
    "        return A[left:left + k]"
   ]
  },
  {
   "cell_type": "markdown",
   "metadata": {},
   "source": [
    "# 304. Range Sum Query 2D - Immutable"
   ]
  },
  {
   "cell_type": "code",
   "execution_count": null,
   "metadata": {
    "collapsed": true
   },
   "outputs": [],
   "source": [
    "class NumMatrix(object):\n",
    "      def __init__(self, matrix):\n",
    "            if not matrix or not matrix[0]:\n",
    "                return\n",
    "            m, n = len(matrix), len(matrix[0])\n",
    "            \n",
    "            self.presum = [[0] * (n + 1) for _ in range(m + 1)]\n",
    "            \n",
    "            # presum[i][j] means the presum with ith row and jth col as right down corner\n",
    "            for i in range(1, m+1):\n",
    "                for j in range(1, n+1):\n",
    "                    self.presum[i][j] = matrix[i-1][j-1] + self.presum[i][j-1] + self.presum[i-1][j] - self.presum[i-1][j-1]\n",
    "    \n",
    "\n",
    "      def sumRegion(self, row1, col1, row2, col2):\n",
    "            return self.presum[row2 + 1][col2 + 1] - self.presum[row2+1][col1] - self.presum[row1][col2+1] + self.presum[row1][col1]"
   ]
  },
  {
   "cell_type": "markdown",
   "metadata": {},
   "source": [
    "# 286. Walls and Gates"
   ]
  },
  {
   "cell_type": "code",
   "execution_count": null,
   "metadata": {
    "collapsed": true
   },
   "outputs": [],
   "source": [
    "# O(mn) O(mn)\n",
    "class Solution:\n",
    "    def wallsAndGates(self, rooms: List[List[int]]) -> None:\n",
    "        \"\"\"\n",
    "        Do not return anything, modify rooms in-place instead.\n",
    "        \"\"\"\n",
    "        if not rooms or not rooms[0]:\n",
    "            return\n",
    "        m, n = len(rooms), len(rooms[0])\n",
    "        queue = collections.deque([(i, j) for i in range(m) for j in range(n) if rooms[i][j] == 0])\n",
    "                           \n",
    "        while queue:\n",
    "            x, y = queue.popleft()      \n",
    "            for dx, dy in [(-1, 0), (1, 0), (0, -1), (0, 1)]:\n",
    "                next_x, next_y = x + dx, y + dy\n",
    "                if 0 <= next_x < m and 0 <= next_y < n and rooms[next_x][next_y] > rooms[x][y] + 1:\n",
    "                    queue.append((next_x, next_y))\n",
    "                    rooms[next_x][next_y] = rooms[x][y] + 1"
   ]
  },
  {
   "cell_type": "markdown",
   "metadata": {},
   "source": [
    "# 1026. Maximum Difference Between Node and Ancestor"
   ]
  },
  {
   "cell_type": "code",
   "execution_count": null,
   "metadata": {
    "collapsed": true
   },
   "outputs": [],
   "source": [
    "# Top down: update the max and min DFS\n",
    "\n",
    "class Solution(object):\n",
    "    def maxAncestorDiff(self, root):\n",
    "        \"\"\"\n",
    "        :type root: TreeNode\n",
    "        :rtype: int\n",
    "        \"\"\"\n",
    "        if not root: \n",
    "            return 0\n",
    "        return self.helper(root, root.val, root.val)\n",
    "    \n",
    "    def helper(self, node, high, low):\n",
    "        # if leaf node: return the max difference\n",
    "        if not node:\n",
    "            return high - low\n",
    "        high = max(high, node.val)\n",
    "        low = min(low, node.val)\n",
    "        return max(self.helper(node.left, high, low), self.helper(node.right,high,low))   \n",
    "    \n",
    "    \n",
    "def maxAncDiffIter(root):\n",
    "    if not root:\n",
    "        return 0\n",
    "    \n",
    "    result = -1\n",
    "    # node, vmax, vmin\n",
    "    stack = [(root, root.val, root.val)]\n",
    "    while stack:\n",
    "        curr, vmax, vmin = stack.pop()\n",
    "        vmax = max(curr.val, vmax)\n",
    "        vmin = min(curr.val, vmin)\n",
    "        result = max(vmax - vmin, result)\n",
    "\n",
    "        if curr.left:\n",
    "            stack.append((curr.left, vmax, vmin))\n",
    "        if curr.right:\n",
    "            stack.append((curr.right, vmax, vmin))\n",
    "    return result"
   ]
  },
  {
   "cell_type": "markdown",
   "metadata": {},
   "source": [
    "# 1197. Minimum Knight Moves"
   ]
  },
  {
   "cell_type": "code",
   "execution_count": null,
   "metadata": {
    "collapsed": true
   },
   "outputs": [],
   "source": [
    "from functools import lru_cache\n",
    "class Solution:\n",
    "    def minKnightMoves(self, x: int, y: int) -> int:\n",
    "        @lru_cache(None) \n",
    "        def DP(x,y):\n",
    "            if x + y == 0:\n",
    "                return 0\n",
    "            elif x + y == 2:\n",
    "                return 2\n",
    "            return min(DP(abs(x-1),abs(y-2)),DP(abs(x-2),abs(y-1)))+1\n",
    "        return DP(abs(x),abs(y)) "
   ]
  },
  {
   "cell_type": "markdown",
   "metadata": {},
   "source": [
    "# 246. Strobogrammatic Number"
   ]
  },
  {
   "cell_type": "code",
   "execution_count": null,
   "metadata": {
    "collapsed": true
   },
   "outputs": [],
   "source": [
    "class Solution:\n",
    "    \n",
    "    def isStrobogrammatic(self, num):         \n",
    "        maps = {(\"0\", \"0\"), (\"1\", \"1\"), (\"6\", \"9\"), (\"8\", \"8\"), (\"9\", \"6\")}\n",
    "        i,j = 0, len(num) - 1\n",
    "        while i <= j:\n",
    "            if (num[i], num[j]) not in maps:\n",
    "                return False\n",
    "            i += 1\n",
    "            j -= 1\n",
    "        return True"
   ]
  },
  {
   "cell_type": "markdown",
   "metadata": {},
   "source": [
    "# 93. Restore IP Addresses"
   ]
  },
  {
   "cell_type": "code",
   "execution_count": null,
   "metadata": {
    "collapsed": true
   },
   "outputs": [],
   "source": [
    "class Solution:\n",
    "   \n",
    "    def restoreIpAddresses(self, s):\n",
    "        res = []\n",
    "        self.dfs(s, 0, \"\", res)\n",
    "        return res\n",
    "    \n",
    "    def dfs(self, s, index, path, res):\n",
    "        if index == 4:\n",
    "            if not s:\n",
    "                res.append(path[:-1]) # not include the last \".\" digit\n",
    "            return # backtracking\n",
    "        \n",
    "        for i in range(1, 4):\n",
    "            # the digits we choose should no more than the length of s\n",
    "            if i <= len(s):\n",
    "                #choose one digit\n",
    "                if i == 1: \n",
    "                    self.dfs(s[i:], index+1, path+s[:i]+\".\", res)\n",
    "                #choose two digits, the first one should not be \"0\"\n",
    "                elif i == 2 and s[0] != \"0\": \n",
    "                    self.dfs(s[i:], index+1, path+s[:i]+\".\", res)\n",
    "                #choose three digits, the first one should not be \"0\", and should less than 256\n",
    "                elif i == 3 and s[0] != \"0\" and int(s[:3]) <= 255:\n",
    "                    self.dfs(s[i:], index+1, path+s[:i]+\".\", res)"
   ]
  },
  {
   "cell_type": "markdown",
   "metadata": {},
   "source": [
    "# 247. Strobogrammatic Number II"
   ]
  },
  {
   "cell_type": "code",
   "execution_count": null,
   "metadata": {
    "collapsed": true
   },
   "outputs": [],
   "source": [
    "# https://leetcode.com/problems/strobogrammatic-number-ii/discuss/67376/My-python-solution\n",
    "# DFS\n",
    "class Solution:\n",
    "    def findStrobogrammatic(self, n):\n",
    "        result = []\n",
    "        hash = {'0':'0', '1':'1', '6':'9', '8':'8', '9':'6'}\n",
    "        self.helper(result, [None]*n, 0, n-1, hash)\n",
    "\n",
    "        return result\n",
    "\n",
    "    def helper(self, result, item, start, end, hash):\n",
    "        if start > end:\n",
    "            result.append(''.join(item))\n",
    "            return\n",
    "\n",
    "        for key in hash:\n",
    "            if start == end and key in ('6','9'): # when n is odd, the middel point has to been 0, 1 or 8\n",
    "                continue\n",
    "\n",
    "            if start != end and start == 0 and key == '0': # first digit can't be 0\n",
    "                continue\n",
    "\n",
    "            item[start], item[end] = key, hash[key]\n",
    "            self.helper(result, item, start+1, end-1, hash)"
   ]
  },
  {
   "cell_type": "markdown",
   "metadata": {},
   "source": [
    "# 133. Clone Graph"
   ]
  },
  {
   "cell_type": "code",
   "execution_count": null,
   "metadata": {
    "collapsed": true
   },
   "outputs": [],
   "source": [
    "class Solution(object):\n",
    "\n",
    "    def __init__(self):\n",
    "        # Dictionary to save the visited node and it's respective clone\n",
    "        # as key and value respectively. This helps to avoid cycles.\n",
    "        self.visited = {}\n",
    "\n",
    "    def cloneGraph(self, node):\n",
    "        \"\"\"\n",
    "        :type node: Node\n",
    "        :rtype: Node\n",
    "        \"\"\"\n",
    "        if not node:\n",
    "            return node\n",
    "\n",
    "        if node in self.visited:\n",
    "            return self.visited[node]\n",
    "\n",
    "        clone_node = Node(node.val, [])\n",
    "        self.visited[node] = clone_node # Can't use True as value here\n",
    "\n",
    "        if node.neighbors:\n",
    "            clone_node.neighbors = [self.cloneGraph(n) for n in node.neighbors]\n",
    "\n",
    "        return clone_node"
   ]
  },
  {
   "cell_type": "markdown",
   "metadata": {},
   "source": [
    "# 138. Copy List with Random Pointer"
   ]
  },
  {
   "cell_type": "code",
   "execution_count": null,
   "metadata": {
    "collapsed": true
   },
   "outputs": [],
   "source": [
    "class Solution:\n",
    "    def __init__(self):\n",
    "        self. visited = {}\n",
    "        \n",
    "    def copyRandomList(self, head: 'Node') -> 'Node':\n",
    "        if not head:\n",
    "            return\n",
    "        if head in self.visited:\n",
    "            return self.visited[head]\n",
    "        node = Node(head.val, None, None)\n",
    "        self.visited[head] = node\n",
    "        node.next = self.copyRandomList(head.next)\n",
    "        node.random = self.copyRandomList(head.random)\n",
    "        \n",
    "        return node"
   ]
  },
  {
   "cell_type": "markdown",
   "metadata": {},
   "source": [
    "# 766. Toeplitz Matrix"
   ]
  },
  {
   "cell_type": "code",
   "execution_count": null,
   "metadata": {
    "collapsed": true
   },
   "outputs": [],
   "source": [
    "class Solution(object):\n",
    "    def isToeplitzMatrix(self, matrix):\n",
    "        groups = {}\n",
    "        for r, row in enumerate(matrix):\n",
    "            for c, val in enumerate(row):\n",
    "                if r-c not in groups:\n",
    "                    groups[r-c] = val\n",
    "                elif groups[r-c] != val:\n",
    "                    return False\n",
    "        return True"
   ]
  },
  {
   "cell_type": "markdown",
   "metadata": {},
   "source": [
    "# 348. Design Tic-Tac-Toe"
   ]
  },
  {
   "cell_type": "code",
   "execution_count": null,
   "metadata": {
    "collapsed": true
   },
   "outputs": [],
   "source": [
    "        \n",
    "class TicTacToe(object):\n",
    "\n",
    "    def __init__(self, n):\n",
    "        self.row, self.col, self.diag, self.anti_diag, self.n = [0] * n, [0] * n, 0, 0, n\n",
    "        \n",
    "    def move(self, row, col, player):\n",
    "        offset = player * 2 - 3 # -1 mean player 1, 1 mean player 2\n",
    "        \n",
    "        self.row[row] += offset\n",
    "        self.col[col] += offset\n",
    "        \n",
    "        if row == col:\n",
    "            self.diag += offset\n",
    "        if row + col == self.n - 1:\n",
    "            self.anti_diag += offset\n",
    "            \n",
    "        if self.n in [self.row[row], self.col[col], self.diag, self.anti_diag]:\n",
    "            return 2\n",
    "        \n",
    "        if -self.n in [self.row[row], self.col[col], self.diag, self.anti_diag]:\n",
    "            return 1\n",
    "        return 0"
   ]
  },
  {
   "cell_type": "markdown",
   "metadata": {},
   "source": [
    "# 146. LRU Cache"
   ]
  },
  {
   "cell_type": "code",
   "execution_count": null,
   "metadata": {
    "collapsed": true
   },
   "outputs": [],
   "source": [
    "class LRUCache:\n",
    "\n",
    "    def __init__(self, capacity: int):\n",
    "        self.capacity = capacity\n",
    "        self.dic = collections.OrderedDict()\n",
    "        \n",
    "\n",
    "    def get(self, key: int) -> int:\n",
    "        if key not in self.dic:\n",
    "            return -1\n",
    "        v = self.dic.pop(key)\n",
    "        self.dic[key] = v\n",
    "        return v\n",
    "        \n",
    "\n",
    "    def put(self, key: int, value: int) -> None:\n",
    "        if key in self.dic:\n",
    "            self.dic.pop(key)\n",
    "        else:\n",
    "            if self.capacity > 0:\n",
    "                self.capacity -= 1\n",
    "            else:\n",
    "                self.dic.popitem(last = False) # FIFO\n",
    "        self.dic[key] = value"
   ]
  },
  {
   "cell_type": "markdown",
   "metadata": {},
   "source": [
    "# 921. Minimum Add to Make Parentheses Valid"
   ]
  },
  {
   "cell_type": "code",
   "execution_count": null,
   "metadata": {
    "collapsed": true
   },
   "outputs": [],
   "source": [
    "class Solution:\n",
    "    def minAddToMakeValid(self, S: str) -> int:\n",
    "        left, right = 0, 0\n",
    "        for char in S:\n",
    "            if char == \"(\":\n",
    "                left += 1\n",
    "            else:\n",
    "                if left > 0:\n",
    "                    left -= 1\n",
    "                else:\n",
    "                    right += 1\n",
    "        return left + right                   "
   ]
  },
  {
   "cell_type": "markdown",
   "metadata": {},
   "source": [
    "# 463. Island Perimeter"
   ]
  },
  {
   "cell_type": "code",
   "execution_count": null,
   "metadata": {
    "collapsed": true
   },
   "outputs": [],
   "source": [
    "class Solution(object):\n",
    "    def islandPerimeter(self, grid):\n",
    "        \"\"\"\n",
    "        :type grid: List[List[int]]\n",
    "        :rtype: int\n",
    "        \"\"\"\n",
    "        if not grid:\n",
    "            return 0\n",
    "\n",
    "        def sum_adjacent(i, j):\n",
    "            adjacent = (i + 1, j), (i - 1, j), (i, j + 1), (i, j - 1),\n",
    "            res = 0\n",
    "            for x, y in adjacent:\n",
    "                if x < 0 or y < 0 or x == len(grid) or y == len(grid[0]) or grid[x][y] == 0:\n",
    "                    res += 1\n",
    "            return res\n",
    "\n",
    "        count = 0\n",
    "        for i in range(len(grid)):\n",
    "            for j in range(len(grid[0])):\n",
    "                if grid[i][j] == 1:\n",
    "                    count += sum_adjacent(i, j)\n",
    "        return count"
   ]
  },
  {
   "cell_type": "markdown",
   "metadata": {},
   "source": [
    "# 678. Valid Parenthesis String"
   ]
  },
  {
   "cell_type": "code",
   "execution_count": null,
   "metadata": {
    "collapsed": true
   },
   "outputs": [],
   "source": [
    "# order matters: you can not add anywhere \n",
    "# Also, we can never have less than 0 open left brackets. At the end, we should check that we can have exactly 0 open left brackets.\n",
    "\n",
    "class Solution(object):\n",
    "    def checkValidString(self, s):\n",
    "        lo = hi = 0\n",
    "        for c in s:\n",
    "            lo += 1 if c == '(' else -1\n",
    "            hi += 1 if c != ')' else -1\n",
    "            if hi < 0: \n",
    "                return False\n",
    "            lo = max(lo, 0)\n",
    "\n",
    "        return lo == 0"
   ]
  },
  {
   "cell_type": "markdown",
   "metadata": {},
   "source": [
    "# 253. Meeting Rooms II"
   ]
  },
  {
   "cell_type": "code",
   "execution_count": null,
   "metadata": {
    "collapsed": true
   },
   "outputs": [],
   "source": [
    "class Solution:\n",
    "    def minMeetingRooms(self, intervals: List[List[int]]) -> int:\n",
    "        meetings = []\n",
    "        min_rooms = temp = 0\n",
    "        for interval in intervals:\n",
    "            meetings.append((interval[0], 1))\n",
    "            meetings.append((interval[1], -1))\n",
    "            \n",
    "        for _, delta in sorted(meetings):\n",
    "            temp += delta\n",
    "            min_rooms = max(min_rooms, temp)\n",
    "            \n",
    "        return min_rooms            "
   ]
  },
  {
   "cell_type": "markdown",
   "metadata": {},
   "source": [
    "# 1245. Tree Diameter"
   ]
  },
  {
   "cell_type": "code",
   "execution_count": null,
   "metadata": {
    "collapsed": true
   },
   "outputs": [],
   "source": [
    "\n",
    "\n",
    "class Solution:\n",
    "    def treeDiameter(self, edges: List[List[int]]) -> int:\n",
    "        if not edges: return 0\n",
    "        \n",
    "        # build graph\n",
    "        graph = collections.defaultdict(list)        \n",
    "        for edge in edges:\n",
    "            graph[edge[0]].append(edge[1])\n",
    "            \n",
    "        ans = 0\n",
    "        seen = set()        \n",
    "\n",
    "        def dfs(node):\n",
    "            nonlocal ans\n",
    "            if node in seen:\n",
    "                return 0 \n",
    "            \n",
    "            seen.add(node)\n",
    "            max_val = [0]*2 # keep record of its two maximum subnode length\n",
    "            \n",
    "            for nei in graph[node]:\n",
    "                val = dfs(nei)\n",
    "                if val > min(max_val):\n",
    "                    max_val.remove(min(max_val))\n",
    "                    max_val.append(val)\n",
    "                    \n",
    "            ans = max(ans,sum(max_val)) # update ans\n",
    "            return max(max_val) + 1            \n",
    " \n",
    "        \n",
    "        dfs(0)\n",
    "        return ans      "
   ]
  },
  {
   "cell_type": "markdown",
   "metadata": {},
   "source": [
    "# 158. Read N Characters Given Read4 II - Call multiple times"
   ]
  },
  {
   "cell_type": "code",
   "execution_count": null,
   "metadata": {
    "collapsed": true
   },
   "outputs": [],
   "source": [
    "from collections import deque\n",
    "class Solution:\n",
    "    def __init__(self): # this has to be a global variable for multiple calls\n",
    "        self.queue = deque([])\n",
    "        \n",
    "    def read(self, buf: List[str], n: int) -> int:\n",
    "        i = 0\n",
    "        buf4 = ['']*4\n",
    "        while i < n:\n",
    "            if self.queue:\n",
    "                buf[i] = self.queue.popleft()\n",
    "                i += 1\n",
    "            else:\n",
    "                size = read4(buf4)\n",
    "                if size == 0: # don't forget\n",
    "                    break\n",
    "                self.queue.extend(buf4[:size])\n",
    "        return i        "
   ]
  },
  {
   "cell_type": "markdown",
   "metadata": {},
   "source": [
    "# 636. Exclusive Time of Functions"
   ]
  },
  {
   "cell_type": "code",
   "execution_count": null,
   "metadata": {
    "collapsed": true
   },
   "outputs": [],
   "source": [
    "# Run a test case to check correctiveness\n",
    "\n",
    "class Solution:\n",
    "    def exclusiveTime(self, N, logs):\n",
    "        ans = [0] * N\n",
    "        stack = []\n",
    "        prev_time = 0\n",
    "\n",
    "        for log in logs:\n",
    "            fn, typ, time = log.split(':')\n",
    "            fn, time = int(fn), int(time)\n",
    "\n",
    "            if typ == 'start':\n",
    "                if stack:\n",
    "                    ans[stack[-1]] += time - prev_time # update previous function run time\n",
    "                stack.append(fn) # update the curent function id\n",
    "                prev_time = time # update prev_time\n",
    "            else:\n",
    "                ans[stack.pop()] += time - prev_time + 1 # the current function ends\n",
    "                prev_time = time + 1\n",
    "\n",
    "        return ans\n",
    "    \n",
    "class Solution:\n",
    "    def exclusiveTime(self, n: int, logs: List[str]) -> List[int]:\n",
    "        stack = []\n",
    "        result = [0] * n\n",
    "        for processTime in logs:\n",
    "            processId, eventType, time = processTime.split(':')\n",
    "            processId = int(processId)\n",
    "            time = int(time)\n",
    "\n",
    "            if eventType == \"start\":\n",
    "                stack.append([processId, time])\n",
    "\n",
    "            elif eventType == \"end\": # must has a correspoinding start time\n",
    "                processId, startTime = stack.pop()\n",
    "                timeSpent = int(time) - int(startTime) + 1 # Add 1 cause 0 is included\n",
    "                result[int(processId)] += timeSpent\n",
    "\n",
    "                # Decrement time for next process in the stack\n",
    "                if stack: # not empty\n",
    "                    nextProcessId, timeSpentByNextProcess = stack[-1] #\n",
    "                    result[int(nextProcessId)] -= timeSpent\n",
    "\n",
    "        return result"
   ]
  },
  {
   "cell_type": "markdown",
   "metadata": {},
   "source": [
    "# 1570. Dot Product of Two Sparse Vectors"
   ]
  },
  {
   "cell_type": "code",
   "execution_count": null,
   "metadata": {
    "collapsed": true
   },
   "outputs": [],
   "source": [
    "# Let n be the length of the input array and LL be the number of non-zero elements.\n",
    "# O(n) O(L)\n",
    "class SparseVector:\n",
    "    def __init__(self, nums: List[int]):\n",
    "        self.nonzeros = {}\n",
    "        for i, n in enumerate(nums):\n",
    "            if n != 0:\n",
    "                self.nonzeros[i] = n              \n",
    "\n",
    "    def dotProduct(self, vec: 'SparseVector') -> int:\n",
    "        result = 0\n",
    "        # iterate through each non-zero element in this sparse vector\n",
    "        # update the dot product if the corresponding index has a non-zero value in the other vector\n",
    "        for i, n in self.nonzeros.items():\n",
    "            if i in vec.nonzeros:\n",
    "                result += n * vec.nonzeros[i]\n",
    "        return result"
   ]
  },
  {
   "cell_type": "markdown",
   "metadata": {},
   "source": [
    "# 42 Trapping rain water"
   ]
  },
  {
   "cell_type": "code",
   "execution_count": null,
   "metadata": {
    "collapsed": true
   },
   "outputs": [],
   "source": [
    "# Two pointers\n",
    "# O(n) O(1)\n",
    "class Solution:\n",
    "    def trap(self, height: List[int]) -> int:\n",
    "        n = len(height)\n",
    "        if n <= 2:\n",
    "            return 0\n",
    "\n",
    "        left, right = 0, n - 1\n",
    "        left_max, right_max = height[0], height[n - 1]\n",
    "        ans = 0\n",
    "        while left <= right:\n",
    "            left_max, right_max = max(left_max, height[left]), max(right_max, height[right])\n",
    "            if left_max < right_max:  # move the smaller side\n",
    "                ans += left_max - height[left]\n",
    "                left += 1\n",
    "            else:\n",
    "                ans += right_max - height[right]\n",
    "                right -= 1\n",
    "        return ans"
   ]
  },
  {
   "cell_type": "code",
   "execution_count": null,
   "metadata": {
    "collapsed": true
   },
   "outputs": [],
   "source": [
    "Sliding Window Median"
   ]
  },
  {
   "cell_type": "markdown",
   "metadata": {},
   "source": [
    "# Phone interview"
   ]
  },
  {
   "cell_type": "code",
   "execution_count": null,
   "metadata": {
    "collapsed": true
   },
   "outputs": [],
   "source": [
    "921. Minimum Add to Make Parentheses Valid\n",
    "Q1: Add minimum amount of parentheses to make a string of parentheses balanced\n",
    "- e.g. Input: \"(((\" Output: 3; Input: \")(\" Output: 2\n",
    "time: O(n) Space: O(n)  n = len(input)                                                          \n",
    "class Solution():\n",
    "    def min_pa(self, input):\n",
    "       stack = []\n",
    "       ans = 0\n",
    "       for i, c in enumerate(input):\n",
    "            if c == \"(\":\n",
    "                stack.append(c)\n",
    "            elif c == \")\":\n",
    "                if stack:\n",
    "                    stack.pop()\n",
    "                else:\n",
    "                    ans += 1\n",
    "            else:\n",
    "                return -1\n",
    "     return ans + len(stack)"
   ]
  },
  {
   "cell_type": "code",
   "execution_count": null,
   "metadata": {
    "collapsed": true
   },
   "outputs": [],
   "source": [
    "https://leetcode.com/discuss/interview-question/535473/Facebook-or-Phone-or-Largest-Perimeter-Island\n",
    "                               \n",
    "Q2: Find Maximum Island Perimeter\n",
    "- e.g. (an island's perimeter is every 1 not surrounded by 1's in all 4 directions)\n",
    "    - 1 0 1 1 1\n",
    "    - 1 0 1 1 1\n",
    "    - 0 0 0 1 1\n",
    "    \n",
    "  class Solution():\n",
    "       def max_Peri(self, matrix):\n",
    "        m, n = len(matrix), len(matrix[0])\n",
    "        ans = 0\n",
    "        # queue = collections.deque([ (i, j) \n",
    "        for i in range(m):\n",
    "            for j in range(n):\n",
    "                if matrix[i][j] == 1:\n",
    "                    self.bfs(i, j, matrix)\n",
    "        return ans\n",
    "\n",
    "     def bfs(self, i, j, matrix):\n",
    "        queue = collections.deque([(i, j)]\n",
    "        while queue:\n",
    "            x, y = queue.popleft()\n",
    "            for dx, dy in [(-1, 0), (1, 0), (0, -1), (0, 1)]:\n",
    "                  next_x,next_y = x + dx, y + dy \n",
    "                  if self.is_valid(next_x, next_y, matrix):    "
   ]
  }
 ],
 "metadata": {
  "kernelspec": {
   "display_name": "Python 3",
   "language": "python",
   "name": "python3"
  },
  "language_info": {
   "codemirror_mode": {
    "name": "ipython",
    "version": 3
   },
   "file_extension": ".py",
   "mimetype": "text/x-python",
   "name": "python",
   "nbconvert_exporter": "python",
   "pygments_lexer": "ipython3",
   "version": "3.7.9"
  }
 },
 "nbformat": 4,
 "nbformat_minor": 2
}
