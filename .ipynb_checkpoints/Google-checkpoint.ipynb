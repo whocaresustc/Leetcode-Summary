{
 "cells": [
  {
   "cell_type": "markdown",
   "metadata": {},
   "source": [
    "# 2021 10-12 面经"
   ]
  },
  {
   "cell_type": "code",
   "execution_count": null,
   "metadata": {
    "collapsed": true
   },
   "outputs": [],
   "source": [
    "# 300. Longest Increasing Subsequence\n",
    "class Solution:\n",
    "    def lengthOfLIS(self, nums: List[int]) -> int:\n",
    "        n = len(nums)\n",
    "        ans = 1\n",
    "        dp = [1] * n\n",
    "        for i in range(1, n):\n",
    "            for j in range(i):\n",
    "                if nums[i] > nums[j] and dp[j] + 1 > dp[i]:\n",
    "                    dp[i] = dp[j] + 1\n",
    "            ans = max(ans, dp[i])\n",
    "        return ans\n",
    "    \n",
    "# 833. Find And Replace in String\n",
    "\n",
    "# 305. Number of Islands II\n",
    "\n",
    "# 34. Find First and Last Position of Element in Sorted Array\n",
    "\n",
    "# 767. Reorganize String\n",
    "\n",
    "# 366. Find Leaves of Binary Tree\n",
    "\n",
    "# 417. Pacific Atlantic Water Flow\n",
    "\n",
    "# 542. 01 Matrix\n",
    "\n",
    "# 380. Insert Delete GetRandom O(1)\n",
    "\n",
    "# 695. Max Area of Island\n",
    "\n",
    "# 953. Verifying an Alien Dictionary\n",
    "\n",
    "# 337. House Robber III\n",
    "\n",
    "# 365. Water and Jug Problem\n",
    "\n",
    "# 773. Sliding Puzzle\n",
    "\n",
    "# 900. RLE Iterator\n",
    "\n",
    "# 1027. Longest Arithmetic Subsequence"
   ]
  },
  {
   "cell_type": "code",
   "execution_count": null,
   "metadata": {
    "collapsed": true
   },
   "outputs": [],
   "source": [
    "# substitute/decode string\n",
    "input:\n",
    "\"i am %X%\", X = \"awesome\"\n",
    "output:\n",
    "\"i am awesome\"\n",
    "\n",
    "\"i am %X%\", X = \"awe%Y%\", Y = \"some\"\n",
    "output:\n",
    "\"i am awesome\"\n",
    "\n",
    "# Similar to 394. Decode String\n",
    "#https://leetcode.com/problems/decode-string/discuss/163479/Python-short-and-simple-stack-solution-beats-100-with-explanation\n",
    "class Solution:\n",
    "\n",
    "    def decodeString(self, s):\n",
    "        stack = []\n",
    "        stack.append([\"\", 1])\n",
    "        \n",
    "        num = \"\"\n",
    "        for ch in s:\n",
    "            # the digit is always together with \"[\"\n",
    "            \n",
    "            if ch.isdigit():\n",
    "                num += ch\n",
    "                \n",
    "            elif ch == '[':\n",
    "                stack.append([\"\", int(num)])\n",
    "                num = \"\"\n",
    "                \n",
    "            elif ch == ']':\n",
    "                string, k = stack.pop()\n",
    "                stack[-1][0] += string*k\n",
    "                \n",
    "            else:\n",
    "                stack[-1][0] += ch\n",
    "                \n",
    "        return stack[0][0]"
   ]
  },
  {
   "cell_type": "markdown",
   "metadata": {},
   "source": [
    "# 1499. Max Value of Equation"
   ]
  },
  {
   "cell_type": "code",
   "execution_count": null,
   "metadata": {
    "collapsed": true
   },
   "outputs": [],
   "source": [
    "# Monotonic decreasing deque by y - x \n",
    "# O(N)\n",
    "# O(N)\n",
    "    def findMaxValueOfEquation(self, A, k):\n",
    "        q = collections.deque()\n",
    "        res = -float('inf')\n",
    "        for x, y in A:\n",
    "            while q and q[0][1] < x - k:\n",
    "                q.popleft()\n",
    "            # Just need to compare with the first element\n",
    "            if q: \n",
    "                res = max(res, q[0][0] + y + x) \n",
    "            # before adding the current (y - x), pop the previous elements where y - x is smaller\n",
    "            while q and q[-1][0] <= y - x:\n",
    "                q.pop()\n",
    "            q.append([y - x, x])\n",
    "        return res"
   ]
  },
  {
   "cell_type": "markdown",
   "metadata": {},
   "source": [
    "# 773. Sliding Puzzle"
   ]
  },
  {
   "cell_type": "code",
   "execution_count": null,
   "metadata": {
    "collapsed": true
   },
   "outputs": [],
   "source": [
    "# BFS\n",
    "class Solution:\n",
    "    def slidingPuzzle(self, board: List[List[int]]) -> int:\n",
    "        \n",
    "        s = ''.join(str(d) for row in board for d in row)\n",
    "        \n",
    "        dq, seen = collections.deque(), {s}\n",
    "        zero_index = s.index('0')\n",
    "        dq.append((s, zero_index))\n",
    "        \n",
    "        steps, height, width = 0, len(board), len(board[0]) \n",
    "        \n",
    "        while dq:\n",
    "            for _ in range(len(dq)):\n",
    "                cur, zero_index = dq.popleft()\n",
    "                if cur == '123450':\n",
    "                    return steps\n",
    "                \n",
    "                x, y = divmod(zero_index, width)\n",
    "                \n",
    "                for r, c in (x, y + 1), (x, y - 1), (x + 1, y), (x - 1, y):\n",
    "                    if height > r >= 0 <= c < width:\n",
    "                        ch = [c for c in cur]\n",
    "                        new_zero_index = r * width + c\n",
    "                        ch[zero_index], ch[new_zero_index] = ch[new_zero_index], '0' # swap '0' and its neighbor.\n",
    "                        s = ''.join(ch)\n",
    "                        if s not in seen:\n",
    "                            seen.add(s)\n",
    "                            dq.append((s, new_zero_index)) # \n",
    "            steps += 1              \n",
    "        return -1"
   ]
  },
  {
   "cell_type": "markdown",
   "metadata": {},
   "source": [
    "# 366. Find Leaves of Binary Tree"
   ]
  },
  {
   "cell_type": "code",
   "execution_count": null,
   "metadata": {
    "collapsed": true
   },
   "outputs": [],
   "source": [
    "from collections import defaultdict\n",
    "class Solution:\n",
    "    def findLeaves(self, root: TreeNode) -> List[List[int]]:\n",
    "        res = defaultdict(list)\n",
    "        self.dfs(root, res)\n",
    "        return res.values()\n",
    "        \n",
    "    def dfs(self, node, res): # return the depth of node and add the res\n",
    "        if not node:\n",
    "            return 0\n",
    "        depth = max(self.dfs(node.left, res), self.dfs(node.right, res)) + 1\n",
    "        res[depth - 1].append(node.val)\n",
    "        return depth"
   ]
  },
  {
   "cell_type": "markdown",
   "metadata": {},
   "source": [
    "# 305. Number of Islands II"
   ]
  },
  {
   "cell_type": "code",
   "execution_count": null,
   "metadata": {
    "collapsed": true
   },
   "outputs": [],
   "source": [
    "class UnionFind: \n",
    "    def __init__(self):\n",
    "        self.parent = {}\n",
    "        self.rank = {}\n",
    "        self.count = 0\n",
    "\n",
    "    def add(self, p):\n",
    "        self.parent[p] = p\n",
    "        self.rank[p] = 1\n",
    "        self.count += 1\n",
    "        \n",
    "    def find(self, x):\n",
    "        if self.parent[x] == x:\n",
    "            return x\n",
    "        return self.find(self.parent[x])\n",
    "    \n",
    "    def union(self, a, b):\n",
    "        root_a = self.find(a)\n",
    "        root_b = self.find(b)\n",
    "        if root_a != root_b:\n",
    "            if self.rank[root_a] < self.rank[root_b]:\n",
    "                root_a, root_b = root_b, root_a\n",
    "            self.parent[root_b] = root_a\n",
    "            self.rank[root_a] += 1\n",
    "            self.count -= 1\n",
    "            \n",
    "                         \n",
    "class Solution:\n",
    "    def numIslands2(self, m: int, n: int, positions: List[List[int]]) -> List[int]:   \n",
    "        ans = []\n",
    "        islands = UnionFind()\n",
    "        for p in map(tuple, positions):\n",
    "            if p in islands.parent:\n",
    "                ans += [islands.count]\n",
    "            else:\n",
    "                islands.add(p)# check the surrounding\n",
    "                for dp in (0, 1), (0, -1), (1, 0), (-1, 0):\n",
    "                    q = (p[0] + dp[0], p[1] + dp[1])\n",
    "                    if q in islands.parent:\n",
    "                        islands.union(p, q)\n",
    "                ans += [islands.count]\n",
    "        return ans"
   ]
  },
  {
   "cell_type": "markdown",
   "metadata": {},
   "source": [
    "# 1834 Single-Threaded CPU"
   ]
  },
  {
   "cell_type": "code",
   "execution_count": null,
   "metadata": {
    "collapsed": true
   },
   "outputs": [],
   "source": [
    "#https://leetcode.com/problems/single-threaded-cpu/discuss/1163980/Python-Sort-then-Heap\n",
    "\n",
    "class Solution:\n",
    "    def getOrder(self, tasks: List[List[int]]) -> List[int]:\n",
    "        res = []\n",
    "        tasks = sorted([(t[0], t[1], i) for i, t in enumerate(tasks)]) # sort by start time\n",
    "        i = 0\n",
    "        h = []\n",
    "        time = tasks[0][0] # initiazate with the smallest start time\n",
    "        \n",
    "        while len(res) < len(tasks):\n",
    "            while (i < len(tasks)) and (tasks[i][0] <= time):\n",
    "                heapq.heappush(h, (tasks[i][1], tasks[i][2])) # (processing_time, original_index)\n",
    "                i += 1\n",
    "                \n",
    "            if h: # process the next task\n",
    "                t_diff, original_index = heapq.heappop(h)\n",
    "                time += t_diff\n",
    "                res.append(original_index)\n",
    "            # Remember to check if the heap is empty before trying to pop from it. If it is empty, then let the CPU sit idle.\n",
    "# This just means increase the time to when the next task can be pushed into the heap    \n",
    "            elif i < len(tasks): \n",
    "                time = tasks[i][0]\n",
    "        return res"
   ]
  },
  {
   "cell_type": "markdown",
   "metadata": {},
   "source": [
    "# 954. Array of Doubled Pairs"
   ]
  },
  {
   "cell_type": "code",
   "execution_count": null,
   "metadata": {
    "collapsed": true
   },
   "outputs": [],
   "source": [
    "# https://leetcode.com/problems/array-of-doubled-pairs/discuss/203183/JavaC%2B%2BPython-Match-from-the-Smallest-or-Biggest-100\n",
    "class Solution:\n",
    "    def canReorderDoubled(self, A):\n",
    "        c = collections.Counter(A)\n",
    "        for x in sorted(c, key=abs): # sort by absolute value\n",
    "            if c[x] > c[2 * x]:\n",
    "                return False\n",
    "            c[2 * x] -= c[x]\n",
    "        return True\n",
    "    \n",
    "# 2007. Find Original Array From Doubled Array\n",
    "\n",
    "class Solution:   \n",
    "    def findOriginalArray(self, A):\n",
    "        c = collections.Counter(A)\n",
    "        if c[0] % 2: # if the 0 elements is odd, corner case\n",
    "            return []\n",
    "        for x in sorted(c): # don't sort by absolute value because A >= 0\n",
    "            if c[x] > c[2 * x]:\n",
    "                return []\n",
    "            c[2 * x] -= c[x] if x else c[x] // 2 # check cornercase x == 0\n",
    "        return list(c.elements())"
   ]
  },
  {
   "cell_type": "markdown",
   "metadata": {},
   "source": [
    "# 841. Keys and Rooms"
   ]
  },
  {
   "cell_type": "code",
   "execution_count": null,
   "metadata": {
    "collapsed": true
   },
   "outputs": [],
   "source": [
    "class Solution:\n",
    "    def canVisitAllRooms(self, rooms: List[List[int]]) -> bool:\n",
    "        visited = set()\n",
    "        \n",
    "        def dfs(roomnumber):\n",
    "            if roomnumber not in visited: \n",
    "                visited.add(roomnumber)\n",
    "                for room in rooms[roomnumber]:\n",
    "                    dfs(room)\n",
    "        dfs(0)\n",
    "                    \n",
    "        return len(visited) == len(rooms)"
   ]
  },
  {
   "cell_type": "markdown",
   "metadata": {},
   "source": [
    "# 843. Guess the Word"
   ]
  },
  {
   "cell_type": "code",
   "execution_count": null,
   "metadata": {
    "collapsed": true
   },
   "outputs": [],
   "source": [
    "from collections import defaultdict\n",
    "\n",
    "# Word with least non-overlaps is the same as word with most overlaps. The heuristics of both solutions are essentially the same.\n",
    "# https://leetcode.com/problems/guess-the-word/discuss/160945/Python-O(n)-with-maximum-overlap-heuristic\n",
    "\n",
    "# We choose most overlap, because the choosen word will have zero match with secret, pair_matches(s, w) == 0 is going to filter a lot of words\n",
    "\n",
    "\n",
    "class Solution:\n",
    "    def findSecretWord(self, wordlist, master):\n",
    "        def pair_matches(a, b):         # count the number of matching characters\n",
    "            return sum(c1 == c2 for c1, c2 in zip(a, b))\n",
    "\n",
    "        def most_overlap_word(): # because any two random words have high probability to have zero match\n",
    "            counts = [defaultdict(int) for _ in range(6)]     # counts[i][c] times of character c appearing at index i\n",
    "            for word in candidates:\n",
    "                for i, c in enumerate(word):\n",
    "                    counts[i][c] += 1\n",
    "\n",
    "            best_score = 0\n",
    "            for word in candidates:\n",
    "                score = 0\n",
    "                for i, c in enumerate(word):\n",
    "                    score += counts[i][c]           # number of words with character c at index i\n",
    "                if score > best_score:\n",
    "                    best_score = score\n",
    "                    best_word = word\n",
    "\n",
    "            return best_word\n",
    "\n",
    "        candidates = wordlist[:]        # all remaining candidates, initially all words\n",
    "        while candidates:\n",
    "\n",
    "            s = most_overlap_word()     # guess the word that overlaps with most others\n",
    "            matches = master.guess(s)\n",
    "\n",
    "            if matches == 6:\n",
    "                return\n",
    "\n",
    "            candidates = [w for w in candidates if pair_matches(s, w) == matches]   # filter words with same matches because secret word must be in it\n",
    "        "
   ]
  },
  {
   "cell_type": "markdown",
   "metadata": {},
   "source": [
    "# 1153. String Transforms Into Another String"
   ]
  },
  {
   "cell_type": "code",
   "execution_count": null,
   "metadata": {
    "collapsed": true
   },
   "outputs": [],
   "source": [
    "class Solution:\n",
    "    def canConvert(self, str1: str, str2: str) -> bool:\n",
    "        if str1 == str2:\n",
    "            return True\n",
    "        m =  {} # one-to-one mapping\n",
    "        for i,c in enumerate(str1):\n",
    "            if c not in m:\n",
    "                m[c] = str2[i]\n",
    "            elif m[c] != str2[i]:\n",
    "                    return False\n",
    "        return len(set(str2)) < 26 # extra character to intermediate transform if there is a cycle"
   ]
  },
  {
   "cell_type": "markdown",
   "metadata": {},
   "source": [
    "# 792. Number of Matching Subsequences"
   ]
  },
  {
   "cell_type": "code",
   "execution_count": 1,
   "metadata": {
    "collapsed": true
   },
   "outputs": [],
   "source": [
    "\"https://leetcode.com/problems/number-of-matching-subsequences/discuss/329381/Python-Solution-With-Detailed-Explanation\"\n",
    "# n = len(words) m = len(s)\n",
    "# Time: O()  Space: O()\n",
    "\n",
    "class Solution:\n",
    "    def numMatchingSubseq(self, s: str, words: List[str]) -> int:\n",
    "        word_dict = collections.defaultdict(list)\n",
    "        count = 0\n",
    "        \n",
    "        for word in words:\n",
    "            word_dict[word[0]].append(word)\n",
    "            \n",
    "        for c in s:\n",
    "            if c in word_dict:\n",
    "                cur_words = word_dict.pop(c)\n",
    "                for word in cur_words:\n",
    "                    if len(word) == 1:\n",
    "                        count += 1\n",
    "                    else:\n",
    "                        word_dict[word[1]].append(word[1:])\n",
    "        return count  \n",
    "    \n",
    "# https://leetcode.com/problems/number-of-matching-subsequences/discuss/117578/Simple-Python-solution"
   ]
  },
  {
   "cell_type": "markdown",
   "metadata": {},
   "source": [
    "# 1423. Maximum Points You Can Obtain from Cards"
   ]
  },
  {
   "cell_type": "code",
   "execution_count": null,
   "metadata": {
    "collapsed": true
   },
   "outputs": [],
   "source": [
    "class Solution:\n",
    "    def maxScore(self, cardPoints: List[int], k: int) -> int:\n",
    "        s = sum(cardPoints[:k])\n",
    "        res = s\n",
    "        for i in range(1, k+1):\n",
    "            s += cardPoints[-i] - cardPoints[k-i]\n",
    "            res = max(res, s)\n",
    "        return res"
   ]
  },
  {
   "cell_type": "markdown",
   "metadata": {},
   "source": [
    "# 1525. Number of Good Ways to Split a String"
   ]
  },
  {
   "cell_type": "code",
   "execution_count": null,
   "metadata": {
    "collapsed": true
   },
   "outputs": [],
   "source": [
    "from collections import Counter\n",
    "\n",
    "class Solution:\n",
    "    def numSplits(self, s: str) -> int:\n",
    "        ans = 0\n",
    "        left = Counter()\n",
    "        right = Counter(s)\n",
    "        \n",
    "        for c in s:\n",
    "            left[c] += 1\n",
    "            right[c] -= 1\n",
    "            if right[c] == 0:\n",
    "                del right[c]\n",
    "            if len(left) == len(right):\n",
    "                ans += 1\n",
    "        return ans"
   ]
  },
  {
   "cell_type": "markdown",
   "metadata": {},
   "source": [
    "# 1526. Minimum Number of Increments on Subarrays to Form a Target Array"
   ]
  },
  {
   "cell_type": "code",
   "execution_count": 3,
   "metadata": {
    "collapsed": true
   },
   "outputs": [],
   "source": [
    "class Solution:\n",
    "    def minNumberOperations(self, target):\n",
    "        total_operation = target[0]\n",
    "        for i in range(1, len(target)):\n",
    "            if target[i] > target[i - 1]:\n",
    "                total_operation += target[i] - target[i - 1]\n",
    "        return total_operation"
   ]
  },
  {
   "cell_type": "markdown",
   "metadata": {},
   "source": [
    "# 690. Employee Importance"
   ]
  },
  {
   "cell_type": "code",
   "execution_count": 4,
   "metadata": {
    "collapsed": true
   },
   "outputs": [],
   "source": [
    "class Solution(object):\n",
    "    def getImportance(self, employees, id):\n",
    "        \"\"\"\n",
    "        :type employees: Employee\n",
    "        :type id: int\n",
    "        :rtype: int\n",
    "        \"\"\"\n",
    "        # Time: O(n)\n",
    "        # Space: O(n)\n",
    "        emps = {employee.id: employee for employee in employees}\n",
    "        \n",
    "        def dfs(id):\n",
    "            subordinates_importance = sum(dfs(sub_id) for sub_id in emps[id].subordinates)\n",
    "            return subordinates_importance + emps[id].importance\n",
    "        return dfs(id)"
   ]
  },
  {
   "cell_type": "markdown",
   "metadata": {},
   "source": [
    "# 809. Expressive Words"
   ]
  },
  {
   "cell_type": "code",
   "execution_count": null,
   "metadata": {
    "collapsed": true
   },
   "outputs": [],
   "source": [
    "# S = \"heeellooo\"   \"hello\"\n",
    "class Solution(object):    \n",
    "    def expressiveWords(self, S, words):\n",
    "        return sum(self.check(S, W) for W in words)\n",
    "    \n",
    "    def check(self, S, W):\n",
    "        i, j, i2, j2, n, m = 0, 0, 0, 0, len(S), len(W)\n",
    "        while i < n and j < m:\n",
    "            if S[i] != W[j]: \n",
    "                return False\n",
    "            while i2 < n and S[i2] == S[i]: i2 += 1\n",
    "            while j2 < m and W[j2] == W[j]: j2 += 1\n",
    "            # if the same character lenth is S is shorter than 3 or same char in word is too long\n",
    "            if i2 - i != j2 - j and i2 - i < max(3, j2 - j): \n",
    "                return False\n",
    "            i, j = i2, j2   \n",
    "        return i == n and j == m"
   ]
  },
  {
   "cell_type": "markdown",
   "metadata": {},
   "source": [
    "# 1088. Confusing Number II"
   ]
  },
  {
   "cell_type": "code",
   "execution_count": null,
   "metadata": {
    "collapsed": true
   },
   "outputs": [],
   "source": [
    "# https://leetcode.com/problems/confusing-number-ii/discuss/605791/Python-explanations\n",
    "# Time O(5^N), Space O(1)\n",
    "class Solution:    \n",
    "    def confusingNumberII(self, N: int) -> int:\n",
    "        def dfs(n, rotate, digit):\n",
    "            if n != rotate:\n",
    "                self.res += 1\n",
    "                \n",
    "            for d in confuse:\n",
    "                num = n * 10 + d\n",
    "                if num > N: \n",
    "                    return\n",
    "                dfs(num, confuse[d] * digit + rotate, digit * 10) # dfs(16, 91, 100, res)\n",
    "                \n",
    "        confuse, self.res = {0: 0, 1: 1, 6: 9, 8: 8, 9: 6}, 0\n",
    "        \n",
    "        for d in confuse:\n",
    "            if d != 0:\n",
    "                dfs(d, confuse[d], 10)\n",
    "        return self.res\n",
    "    \n",
    "    \n",
    "\"\"\"definition of confusing number: 16 -> 91 candidates: 0, 1, 6, 8, 9\n",
    "0 is not confusing number\"\"\""
   ]
  },
  {
   "cell_type": "markdown",
   "metadata": {},
   "source": [
    "# 946. Validate Stack Sequences"
   ]
  },
  {
   "cell_type": "code",
   "execution_count": null,
   "metadata": {
    "collapsed": true
   },
   "outputs": [],
   "source": [
    "class Solution:\n",
    "    def validateStackSequences(self, pushed, popped):\n",
    "        stack = []\n",
    "        i = 0\n",
    "        for x in pushed:\n",
    "            stack.append(x)\n",
    "            while stack and stack[-1] == popped[i]:\n",
    "                i += 1\n",
    "                stack.pop()\n",
    "                \n",
    "        return not stack # check stack is empty"
   ]
  },
  {
   "cell_type": "markdown",
   "metadata": {},
   "source": [
    "# 1110. Delete Nodes And Return Forest"
   ]
  },
  {
   "cell_type": "code",
   "execution_count": null,
   "metadata": {
    "collapsed": true
   },
   "outputs": [],
   "source": [
    "class Solution:\n",
    "    def delNodes(self, root, to_delete):\n",
    "        to_delete_set = set(to_delete)\n",
    "        res = []\n",
    "\n",
    "        def helper(root, is_root): # is_root = root_deleted\n",
    "            if not root: \n",
    "                return None   \n",
    "            root_deleted = root.val in to_delete_set\n",
    "            # if root and not to be deleted\n",
    "            if is_root and not root_deleted:\n",
    "                res.append(root)\n",
    "            # if root_deleted is True, then root.left become root, so is_root = root_deleted = True    \n",
    "            root.left = helper(root.left, root_deleted)\n",
    "            root.right = helper(root.right, root_deleted)            \n",
    "            return None if root_deleted else root\n",
    "        \n",
    "        helper(root, True)\n",
    "        return res\n",
    "    \n",
    "# BFS   \n",
    "class Solution:\n",
    "    def delNodes(self, root: TreeNode, to_delete: List[int]) -> List[TreeNode]:\n",
    "        to_delete = set(to_delete)\n",
    "        res = []\n",
    "        queue = collections.deque([(root, False)])\n",
    "        while queue:\n",
    "            node, has_parent = queue.popleft()\n",
    "            is_delete = node.val in to_delete\n",
    "            if not is_delete and not has_parent:\n",
    "                res.append(node)\n",
    "                \n",
    "            if node.left:\n",
    "                queue.append((node.left, not is_delete))\n",
    "                if node.left.val in to_delete:\n",
    "                    node.left = None\n",
    "                    \n",
    "            if node.right:\n",
    "                queue.append((node.right, not is_delete))\n",
    "                if node.right.val in to_delete:\n",
    "                    node.right = None\n",
    "        return res"
   ]
  },
  {
   "cell_type": "markdown",
   "metadata": {},
   "source": [
    "# 659. Split Array into Consecutive Subsequences"
   ]
  },
  {
   "cell_type": "code",
   "execution_count": null,
   "metadata": {
    "collapsed": true
   },
   "outputs": [],
   "source": [
    "# remaining is a hashmap, remaining[i] counts the number of i that I haven't placed yet.\n",
    "# end is a hashmap, end[i] counts the number of consecutive subsequences that ends at number i\n",
    "\n",
    "# O(n) O(n)\n",
    "class Solution:\n",
    "    def isPossible(self, nums):\n",
    "        remaining = collections.Counter(nums)\n",
    "        end = collections.Counter()\n",
    "        for i in nums:\n",
    "            if not remaining[i]: \n",
    "                continue\n",
    "            remaining[i] -= 1\n",
    "            \n",
    "            # Two options:\n",
    "            if end[i - 1] > 0: # add to the previous number\n",
    "                end[i - 1] -= 1\n",
    "                end[i] += 1\n",
    "                \n",
    "            elif remaining[i + 1] and remaining[i + 2]: # no previous number: combine with the next two numbers to have length at least 3\n",
    "                remaining[i + 1] -= 1\n",
    "                remaining[i + 2] -= 1              \n",
    "                end[i + 2] += 1\n",
    "                \n",
    "            else:\n",
    "                return False\n",
    "        return True"
   ]
  },
  {
   "cell_type": "markdown",
   "metadata": {},
   "source": [
    "# 846. Hand of Straights"
   ]
  },
  {
   "cell_type": "code",
   "execution_count": null,
   "metadata": {
    "collapsed": true
   },
   "outputs": [],
   "source": [
    "# 1296. Divide Array in Sets of K Consecutive Numbers\n",
    "\n",
    "# Time O(MlogM + MW), where M is the number of different cards.  O(M)\n",
    "\n",
    "class Solution:\n",
    "    def isNStraightHand(self, hand, W):    \n",
    "        c = collections.Counter(hand)\n",
    "        for i in sorted(c): # O(MlogM)\n",
    "            if c[i] > 0:\n",
    "                for j in range(1, W): # for the next W - 1 consecutive card, decrease by c[i]\n",
    "                    c[i + j] -= c[i]\n",
    "                    if c[i + j] < 0:\n",
    "                        return False\n",
    "        return True"
   ]
  },
  {
   "cell_type": "markdown",
   "metadata": {},
   "source": [
    "# 359. Logger Rate Limiter"
   ]
  },
  {
   "cell_type": "code",
   "execution_count": null,
   "metadata": {
    "collapsed": true
   },
   "outputs": [],
   "source": [
    "    def shouldPrintMessage(self, timestamp: int, message: str) -> bool:\n",
    "        \"\"\"\n",
    "        Returns true if the message should be printed in the given timestamp, otherwise returns false.\n",
    "        If this method returns false, the message will not be printed.\n",
    "        The timestamp is in seconds granularity.\n",
    "        \"\"\"\n",
    "        if message not in self.store:\n",
    "            self.store[message] = timestamp\n",
    "            return True\n",
    "        elif timestamp - self.store[message] >= 10:\n",
    "            self.store[message] = timestamp # update timestamp and print\n",
    "            return True\n",
    "        else:\n",
    "            return False"
   ]
  },
  {
   "cell_type": "markdown",
   "metadata": {},
   "source": [
    "# 735. Asteroid Collision"
   ]
  },
  {
   "cell_type": "code",
   "execution_count": null,
   "metadata": {
    "collapsed": true
   },
   "outputs": [],
   "source": [
    "class Solution:\n",
    "    def asteroidCollision(self, asteroids: List[int]) -> List[int]:\n",
    "        plus = []\n",
    "        minus = []\n",
    "        for a in asteroids:\n",
    "            if a > 0:\n",
    "                plus.append(a)\n",
    "            else:\n",
    "                while plus and plus[-1] < abs(a): # keep poping the last element\n",
    "                    plus.pop()\n",
    "                if not plus:\n",
    "                    minus.append(a)\n",
    "                elif plus[-1] == abs(a): # Only pop once\n",
    "                    plus.pop()\n",
    "                \n",
    "        return minus + plus"
   ]
  },
  {
   "cell_type": "markdown",
   "metadata": {},
   "source": [
    "# 727. Minimum Window Subsequence"
   ]
  },
  {
   "cell_type": "code",
   "execution_count": null,
   "metadata": {
    "collapsed": true
   },
   "outputs": [],
   "source": [
    "# Different with 76. Minimum Window Substring\n",
    "# Substring must occur in order\n",
    "\n",
    "# Two pointers O(S) O(1)\n",
    "\n",
    "from collections import Counter\n",
    "\n",
    "class Solution:\n",
    "    def minWindow(self, S, T):\n",
    "        # Find - Get ending point of subsequence starting after S[s]\n",
    "        def find_subseq(s):\n",
    "            t = 0\n",
    "            while s < len(S) and t < len(T):\n",
    "                if S[s] == T[t]:\n",
    "                    t += 1\n",
    "                    if t == len(T):\n",
    "                        break\n",
    "                s += 1\n",
    "\n",
    "            return s if t == len(T) else None       # Ensure last character of T was found before loop ended\n",
    "\n",
    "        # Improve - Get best starting point of subsequence ending at S[s]\n",
    "        def improve_subseq(s):\n",
    "            t = len(T) - 1 # remaining length of characters to match\n",
    "            while t >= 0:\n",
    "                if S[s] == T[t]:\n",
    "                    t -= 1\n",
    "                s -= 1\n",
    "\n",
    "            return s+1\n",
    "\n",
    "        s, min_len, min_window = 0, float('inf'), ''\n",
    "\n",
    "        while s < len(S):\n",
    "            end = find_subseq(s)            # Find end-point of subsequence\n",
    "            if not end: # if no matching\n",
    "                break\n",
    "\n",
    "            start = improve_subseq(end)     # Improve start-point of subsequence\n",
    "\n",
    "            if end-start+1 < min_len:       # Track min length\n",
    "                min_len = end-start+1\n",
    "                min_window = S[start:end+1]\n",
    "\n",
    "            s = start+1                     # Start next subsequence search\n",
    "\n",
    "        return min_window\n",
    "    \n",
    "    \n",
    "# DFS + memo\n",
    "class Solution:\n",
    "    def minWindow(self, S: str, T: str) -> str:\n",
    "        def dfs(i, j):\n",
    "            if j == len(T): return i\n",
    "            if (i, j) not in memo:\n",
    "                ind = S.find(T[j], i + 1)\n",
    "                memo[(i, j)] = float('inf') if ind == -1 else dfs(ind, j + 1)\n",
    "            return memo[(i, j)]\n",
    "            \n",
    "        l, res, memo = float('inf'), '', {}\n",
    "        for i, s in enumerate(S):\n",
    "            if s == T[0]:\n",
    "                j = dfs(i, 1)\n",
    "                if j - i < l:\n",
    "                    l, res = j - i, S[i:j + 1]\n",
    "        return res"
   ]
  },
  {
   "cell_type": "markdown",
   "metadata": {},
   "source": [
    "# 295. Find Median from Data Stream"
   ]
  },
  {
   "cell_type": "code",
   "execution_count": null,
   "metadata": {
    "collapsed": true
   },
   "outputs": [],
   "source": [
    "import heapq\n",
    "class MedianFinder:\n",
    "    def __init__(self):\n",
    "        self.small = []  # the smaller half of the list, max heap (invert min-heap)\n",
    "        self.large = []  # the larger half of the list, min heap\n",
    "\n",
    "    def addNum(self, num):\n",
    "        if len(self.small) == len(self.large):\n",
    "            heappush(self.large, -heappushpop(self.small, -num))\n",
    "        else:\n",
    "            heappush(self.small, -heappushpop(self.large, num))\n",
    "\n",
    "    def findMedian(self):\n",
    "        if len(self.small) == len(self.large):\n",
    "            return float(self.large[0] - self.small[0]) / 2.0\n",
    "        else:\n",
    "            return float(self.large[0])"
   ]
  },
  {
   "cell_type": "markdown",
   "metadata": {},
   "source": [
    "# 1231. Divide Chocolate"
   ]
  },
  {
   "cell_type": "code",
   "execution_count": null,
   "metadata": {
    "collapsed": true
   },
   "outputs": [],
   "source": [
    "# https://leetcode.com/problems/divide-chocolate/discuss/411661/Python-binary-search-with-inline-explanation\n",
    "# Similar to 410. Split Array Largest Sum\n",
    "\n",
    "# Binary search: O(len(sweetness) * lg(average(sweetness))) O(1)\n",
    "\n",
    "class Solution:\n",
    "    def maximizeSweetness(self, sweetness: List[int], K: int) -> int:\n",
    "        l, r = 1, sum(sweetness) // (K + 1) # since all other k pieces are larger than mine        \n",
    "        while l <= r:\n",
    "            mid = l + (r -  l) // 2\n",
    "            cnt = cur = 0        \n",
    "            if self.countGroups(sweetness, mid) >= K + 1: # meaning that current mid coule be possible solution or too small\n",
    "                l = mid + 1\n",
    "            else:\n",
    "                r = mid - 1\n",
    "                \n",
    "        return r # when l = r -1, mid = l -> then next status: if mid satisfies condition, then l = mid + 1 = r then -> next status: mid = l = r, if mid satisfies condition then return current mid(r); else r = mid - 1, return the previous number (r)\n",
    " \n",
    "\n",
    "    def countGroups(self, sweetness, minsum): # return how many groups are larger or equal to minSum\n",
    "        cur = cnt = 0\n",
    "        for s in sweetness:\n",
    "                cur += s        # continuous \n",
    "                if cur >= minsum: # try to split into K + 1 pieces and ever piece shoud be larger or equal to mid\n",
    "                    cur = 0 # reset to zero and start a new piece\n",
    "                    cnt += 1\n",
    "        return cnt\n",
    "    \n",
    "# sweetness = [1,2,3 | 4,5 | 6,7 |8 | 9], output = 6  max(min(k + 1 pieces))"
   ]
  },
  {
   "cell_type": "markdown",
   "metadata": {},
   "source": [
    "# 642. Design Search Autocomplete System"
   ]
  },
  {
   "cell_type": "code",
   "execution_count": null,
   "metadata": {
    "collapsed": true
   },
   "outputs": [],
   "source": [
    "class TrieNode(object):\n",
    "    def __init__(self):\n",
    "        self.children = {}\n",
    "        self.isEnd = False\n",
    "        self.data = None\n",
    "        self.rank = 0\n",
    "        \n",
    "class AutocompleteSystem(object):\n",
    "    def __init__(self, sentences, times):\n",
    "        self.root = TrieNode()\n",
    "        self.keyword = \"\"\n",
    "        for i, sentence in enumerate(sentences):\n",
    "            self.addRecord(sentence, times[i])\n",
    "\n",
    "    def addRecord(self, sentence, hot):\n",
    "        p = self.root\n",
    "        for c in sentence:\n",
    "            if c not in p.children:\n",
    "                p.children[c] = TrieNode()\n",
    "            p = p.children[c]\n",
    "        p.isEnd = True\n",
    "        p.data = sentence\n",
    "        p.rank -= hot\n",
    "    \n",
    "    def dfs(self, root):\n",
    "        ret = []\n",
    "        if root:\n",
    "            if root.isEnd:\n",
    "                ret.append((root.rank, root.data))\n",
    "            for child in root.children:\n",
    "                ret.extend(self.dfs(root.children[child]))\n",
    "        return ret\n",
    "        \n",
    "    def search(self, sentence):\n",
    "        p = self.root\n",
    "        for c in sentence:\n",
    "            if c not in p.children:\n",
    "                return []\n",
    "            p = p.children[c]\n",
    "        return self.dfs(p) # p is the last character of the sentence\n",
    "    \n",
    "    def input(self, c):\n",
    "        results = []\n",
    "        if c != \"#\":\n",
    "            self.keyword += c\n",
    "            results = self.search(self.keyword)\n",
    "        else:\n",
    "            self.addRecord(self.keyword, 1)\n",
    "            self.keyword = \"\"\n",
    "        return [item[1] for item in sorted(results)[:3]]\n"
   ]
  },
  {
   "cell_type": "markdown",
   "metadata": {},
   "source": [
    "# 1320. Minimum Distance to Type a Word Using Two Fingers"
   ]
  },
  {
   "cell_type": "code",
   "execution_count": null,
   "metadata": {
    "collapsed": true
   },
   "outputs": [],
   "source": [
    "#https://leetcode.com/problems/minimum-distance-to-type-a-word-using-two-fingers/discuss/477684/Python-simple-DP-with-explanation-(270-ms-beats-100)\n",
    "# https://www.youtube.com/watch?v=GRRDl3HxQAI\n",
    "\n",
    "# O(n*27)\n",
    "\n",
    "from functools import lru_cache\n",
    "\n",
    "class Solution:\n",
    "    def minimumDistance(self, A):\n",
    "        \n",
    "        @lru_cache(maxsize=None)\n",
    "        def get_distance(current_pos, next_pos):\n",
    "            if current_pos == -1: return 0\n",
    "            return abs(current_pos // 6 - next_pos // 6) + abs(current_pos % 6 - next_pos % 6)\n",
    "        \n",
    "        @lru_cache(maxsize=None)\n",
    "        def to_num(c):\n",
    "            return ord(c) - ord('A')\n",
    "\n",
    "        # key: (i,j) i is the position of the first finger, j is the positino of the second finger\n",
    "        dp = {(to_num(A[0]), -1): 0} # base case, -1 means the second finger is free\n",
    "        \n",
    "        for n in [to_num(c) for c in A[1:]]:\n",
    "            new_dp = {}\n",
    "            for (f1, f2), d in dp.items():\n",
    "                new_dp[n, f2] = min(new_dp.get((n, f2), math.inf), d + get_distance(f1, n)) # move first finger to n\n",
    "                new_dp[f1, n] = min(new_dp.get((f1, n), math.inf), d + get_distance(f2, n)) # move second finger to n\n",
    "            dp = new_dp\n",
    "            \n",
    "        return min(dp.values())\n",
    "    \n",
    "    \n",
    "# Only need to record the other finger since the last finger is always at word[i-1]\n",
    "# memo[i][c]: min cost to type word[i:n] given the position of the other finger\n",
    "\n",
    "# DFS + memo\n",
    "\n",
    "class Solution:\n",
    "    def minimumDistance(self, word: str) -> int:\n",
    "        kRest = 26\n",
    "        n = len(word)\n",
    "        memo = [[float(\"inf\")] * 27 for _ in range(n)]\n",
    "        def dp(i, cur_p):\n",
    "            if i == n:return 0\n",
    "            if memo[i][cur_p] != float(\"inf\"):\n",
    "                return memo[i][cur_p]\n",
    "            p = kRest if i == 0 else ord(word[i-1]) - ord(\"A\")\n",
    "            c = ord(word[i]) - ord('A')\n",
    "            \n",
    "            memo[i][cur_p] = min(dp(i+1, cur_p) + self.cost(p, c), dp(i+1, p) + self.cost(cur_p, c))\n",
    "            return memo[i][cur_p]\n",
    "        return dp(0, kRest)\n",
    "        \n",
    "    def cost(self, p1, p2):\n",
    "        if p1 == 26:\n",
    "            return 0\n",
    "        return abs(p1//6 - p2//6) + abs(p1%6 - p2%6)\n",
    "    \n",
    "\n",
    "    \n",
    "# Only need to record the other finger since the last finger is always at word[i-1]\n",
    "# dp[i][c]: min cost to type word[:i+1] given the position of the other finger at c\n",
    "# Bottom up DP\n",
    "\n",
    "class Solution:\n",
    "    def minimumDistance(self, word: str) -> int:\n",
    "        kRest = 26\n",
    "        n = len(word)\n",
    "        dp = [[float(\"inf\")] * 27 for _ in range(n + 1)]\n",
    "        dp[0][kRest] = 0\n",
    "        \n",
    "        for i in range(n):       \n",
    "            p = kRest if i == 0 else ord(word[i-1]) - ord(\"A\")\n",
    "            c = ord(word[i]) - ord('A')\n",
    "            for j in range(27):\n",
    "                dp[i + 1][j] = min(dp[i+1][j], dp[i][j] + self.cost(p, c))\n",
    "                dp[i + 1][p] = min(dp[i+1][p], dp[i][j] + self.cost(j, c))\n",
    "            \n",
    "        return min(dp[n])\n",
    "        \n",
    "    def cost(self, p1, p2):\n",
    "        if p1 == 26:\n",
    "            return 0\n",
    "        return abs(p1//6 - p2//6) + abs(p1%6 - p2%6)\n",
    "    "
   ]
  },
  {
   "cell_type": "markdown",
   "metadata": {},
   "source": [
    "# 410. Split Array Largest Sum"
   ]
  },
  {
   "cell_type": "code",
   "execution_count": null,
   "metadata": {
    "collapsed": true
   },
   "outputs": [],
   "source": [
    "class Solution:\n",
    "    def splitArray(self, nums: List[int], m: int) -> int:\n",
    "        l, r = max(nums), sum(nums)\n",
    "        while l <= r:\n",
    "            mid = l + (r - l) // 2\n",
    "            if self.countGroups(nums, mid) <= m: # meaning that current mid is too large\n",
    "                r = mid - 1\n",
    "            else:\n",
    "                l = mid + 1\n",
    "        return l\n",
    "    \n",
    "    def countGroups(self, nums, maxSum):\n",
    "    # split nums into groups with sum no larger than maxSum\n",
    "    # return the number of groups\n",
    "        cnt = 1   # mistake: cnt = 0\n",
    "        total = 0\n",
    "        for i, num in enumerate(nums):\n",
    "            total += num\n",
    "            if total > maxSum:\n",
    "                cnt += 1\n",
    "                total = num\n",
    "        return cnt  "
   ]
  },
  {
   "cell_type": "markdown",
   "metadata": {},
   "source": [
    "# 1376. Time Needed to Inform All Employees"
   ]
  },
  {
   "cell_type": "code",
   "execution_count": null,
   "metadata": {
    "collapsed": true
   },
   "outputs": [],
   "source": [
    "\"\"\"Solution 1: Top down DFS\n",
    "dfs find out the time needed for each employees.\n",
    "The time for a manager = max(manager's employees) + informTime[manager]\"\"\"\n",
    "\n",
    "# DFS Time O(N), Space O(N)\n",
    "from collections import defaultdict\n",
    "class Solution:\n",
    "\n",
    "    def numOfMinutes(self, n, headID, manager, informTime):\n",
    "        graph = defaultdict(list)\n",
    "        for i, m in enumerate(manager):\n",
    "            if m >= 0: # skip the -1\n",
    "                graph[m].append(i)\n",
    "\n",
    "        def dfs(i): # return the number of minutes to inform all employee for person i\n",
    "            if not graph[i]: # if there is no children\n",
    "                return informTime[i]\n",
    "            return max([dfs(j) for j in graph[i]]) + informTime[i]\n",
    "        \n",
    "        return dfs(headID)"
   ]
  },
  {
   "cell_type": "markdown",
   "metadata": {},
   "source": [
    "# 752. Open the Lock"
   ]
  },
  {
   "cell_type": "code",
   "execution_count": null,
   "metadata": {
    "collapsed": true
   },
   "outputs": [],
   "source": [
    "# BFS\n",
    "class Solution:    \n",
    "    def openLock(self, deadends, target):\n",
    "        marker, depth = 'x', -1\n",
    "        visited, q = set(deadends), deque(['0000'])\n",
    "\n",
    "        while q:\n",
    "            size = len(q)\n",
    "            depth += 1\n",
    "            for _ in range(size):\n",
    "                node = q.popleft()\n",
    "                if node == target: \n",
    "                    return depth\n",
    "                if node in visited: \n",
    "                    continue\n",
    "                visited.add(node)\n",
    "                q.extend(self.successors(node))\n",
    "        return -1\n",
    "\n",
    "    def successors(self, src):\n",
    "        res = []\n",
    "        for i, ch in enumerate(src):\n",
    "            num = int(ch)\n",
    "            res.append(src[:i] + str((num - 1) % 10) + src[i+1:]) # 0 >> 9  -1 % 10 = 9\n",
    "            res.append(src[:i] + str((num + 1) % 10) + src[i+1:]) # 9 >> 0\n",
    "        return res"
   ]
  },
  {
   "cell_type": "markdown",
   "metadata": {},
   "source": [
    "# 1007. Minimum Domino Rotations For Equal Row"
   ]
  },
  {
   "cell_type": "code",
   "execution_count": null,
   "metadata": {
    "collapsed": true
   },
   "outputs": [],
   "source": [
    "class Solution:\n",
    "    def minDominoRotations(self, A: List[int], B: List[int]) -> int:\n",
    "        for x in [A[0], B[0]]:\n",
    "            if all(x in d for d in zip(A, B)):\n",
    "                return len(A) - max(A.count(x), B.count(x))\n",
    "        return -1        "
   ]
  },
  {
   "cell_type": "markdown",
   "metadata": {},
   "source": [
    "# 951. Flip Equivalent Binary Trees"
   ]
  },
  {
   "cell_type": "code",
   "execution_count": null,
   "metadata": {
    "collapsed": true
   },
   "outputs": [],
   "source": [
    "class Solution(object):\n",
    "    def flipEquiv(self, root1, root2):\n",
    "        if root1 == root2:\n",
    "            return True\n",
    "      \n",
    "        if not root1 or not root2 or root1.val != root2.val:\n",
    "            return False\n",
    "\n",
    "        return (self.flipEquiv(root1.left, root2.left) and\n",
    "                self.flipEquiv(root1.right, root2.right) or\n",
    "                self.flipEquiv(root1.left, root2.right) and\n",
    "                self.flipEquiv(root1.right, root2.left))"
   ]
  },
  {
   "cell_type": "markdown",
   "metadata": {},
   "source": [
    "# 1218. Longest Arithmetic Subsequence of Given Difference"
   ]
  },
  {
   "cell_type": "code",
   "execution_count": null,
   "metadata": {
    "collapsed": true
   },
   "outputs": [],
   "source": [
    "def longestSubsequence(self, arr: List[int], diff: int) -> int:\n",
    "        res = {}\n",
    "        for num in arr:\n",
    "            res[num] = res.get(num - diff, 0) + 1\n",
    "        return max(res.values())"
   ]
  },
  {
   "cell_type": "markdown",
   "metadata": {},
   "source": [
    "# 299. Bulls and Cows"
   ]
  },
  {
   "cell_type": "code",
   "execution_count": null,
   "metadata": {
    "collapsed": true
   },
   "outputs": [],
   "source": [
    "from collections import Counter\n",
    "class Solution:\n",
    "\n",
    "    def getHint(self, secret, guess):\n",
    "        \"\"\"\n",
    "        :type secret: str\n",
    "        :type guess: str\n",
    "        :rtype: str\n",
    "                \"\"\"\n",
    "        d = Counter()\n",
    "        bull, cow = 0,0\n",
    "\n",
    "        for index,s in enumerate(secret):\n",
    "            if guess[index] == s:\n",
    "                bull += 1\n",
    "            else:\n",
    "                d[s] += 1 # how many s\n",
    "\n",
    "        for index,s in enumerate(guess):\n",
    "            if (s != secret[index]) & (d[s] > 0):\n",
    "        \t    cow += 1\n",
    "        \t    d[s] -= 1 # used \n",
    "        \t    \n",
    "        return str(bull) + \"A\" + str(cow) + \"B\""
   ]
  },
  {
   "cell_type": "markdown",
   "metadata": {},
   "source": [
    "# 1877. Minimize Maximum Pair Sum in Array"
   ]
  },
  {
   "cell_type": "code",
   "execution_count": 2,
   "metadata": {
    "collapsed": true
   },
   "outputs": [],
   "source": [
    "class Solution:\n",
    "    def minPairSum(self, A):\n",
    "        return max(a + b for a, b in zip(sorted(A), sorted(A)[::-1]))"
   ]
  },
  {
   "cell_type": "markdown",
   "metadata": {},
   "source": [
    "# 562. Longest Line of Consecutive One in Matrix"
   ]
  },
  {
   "cell_type": "code",
   "execution_count": null,
   "metadata": {
    "collapsed": true
   },
   "outputs": [],
   "source": [
    "\"\"\"store the maximum number of continuous 1's found so far along the Horizontal, Vertical, Diagonal and Anti-diagonal lines respectively.\"\"\"\n",
    "# O(m*n) O(m*n)\n",
    "class Solution:\n",
    "    def longestLine(self, M):\n",
    "        if not M:\n",
    "            return 0        \n",
    "        m, n = len(M), len(M[0])\n",
    "        \n",
    "        dp = [[[0, 0, 0, 0] for _ in range(n)] for _ in range(m)]\n",
    "        max_len = 0\n",
    "        for row in range(m):\n",
    "            for col in range(n):\n",
    "                if M[row][col] == 1:\n",
    "                    dp[row][col][0] = dp[row][col-1][0] + 1 if col > 0 else 1\n",
    "                    dp[row][col][1] = dp[row-1][col][1] + 1 if row > 0 else 1\n",
    "                    dp[row][col][2] = dp[row-1][col-1][2] + 1 if row > 0 and col > 0 else 1\n",
    "                    dp[row][col][3] = dp[row-1][col+1][3] + 1 if row > 0 and col < len(M[0])-1 else 1\n",
    "\n",
    "                max_len = max(max_len, dp[row][col][0], dp[row][col][1], dp[row][col][2], dp[row][col][3])\n",
    "                \n",
    "        return max_len\n",
    "    \n",
    "# O(m*n) O(m*n)    \n",
    "class Solution:\n",
    "    def longestLine(self, M: List[List[int]]) -> int:\n",
    "        if not M or not M[0]: return 0\n",
    "        max_len = 0\n",
    "        dp = collections.defaultdict(int) # using defaultdict to avoid the condition checking\n",
    "        for i in range(len(M)):\n",
    "            for j in range(len(M[0])):\n",
    "                if M[i][j]:\n",
    "                    dp[i, j, 0] = dp[i, j - 1, 0] + 1\n",
    "                    dp[i, j, 1] = dp[i - 1, j, 1] + 1\n",
    "                    dp[i, j, 2] = dp[i - 1, j - 1, 2] + 1\n",
    "                    dp[i, j, 3] = dp[i - 1, j + 1, 3] + 1\n",
    "                    max_len = max(max_len, dp[i, j, 0], dp[i, j, 1], dp[i, j, 2], dp[i, j, 3])\n",
    "        return max_len\n",
    "    \n",
    "# O(m*n) O(n)\n",
    "class Solution:\n",
    "    def longestLine(self, M):\n",
    "        \"\"\"\n",
    "        :type M: List[List[int]]\n",
    "        :rtype: int\n",
    "        \"\"\"\n",
    "        if not M:\n",
    "            return 0\n",
    "        \n",
    "        m, n = len(M), len(M[0])\n",
    "        \n",
    "        dp = [[[0, 0, 0, 0] for _ in range(n)] for _ in range(2)]\n",
    "        max_len = 0\n",
    "        for row in range(m):\n",
    "            for col in range(n):\n",
    "                if M[row][col] == 1:\n",
    "                    dp[row % 2][col][0] = dp[row % 2][col-1][0] + 1 if col > 0 else 1\n",
    "                    dp[row % 2][col][1] = dp[(row-1) % 2][col][1] + 1 if row > 0 else 1\n",
    "                    dp[row % 2][col][2] = dp[(row-1) % 2][col-1][2] + 1 if row > 0 and col > 0 else 1\n",
    "                    dp[row % 2][col][3] = dp[(row-1) % 2][col+1][3] + 1 if row > 0 and col < len(M[0])-1 else 1\n",
    "                else:\n",
    "                    dp[row % 2][col] = [0] * 4\n",
    "                    \n",
    "                max_len = max(max_len, dp[row % 2][col][0], dp[row % 2][col][1], dp[row % 2][col][2], dp[row % 2][col][3])\n",
    "                \n",
    "        return max_len\n",
    "        "
   ]
  },
  {
   "cell_type": "markdown",
   "metadata": {},
   "source": [
    "# 1074. Number of Submatrices That Sum to Target"
   ]
  },
  {
   "cell_type": "code",
   "execution_count": null,
   "metadata": {
    "collapsed": true
   },
   "outputs": [],
   "source": [
    "# similar to 560. Subarray Sum Equals K\n",
    "# 363. Max Sum of Rectangle No Larger Than K : difference is to maintain a sorted prefix to be efficient\n",
    "from collections import defaultdict\n",
    "class Solution:\n",
    "    def numSubmatrixSumTarget(self, matrix: List[List[int]], target: int) -> int:\n",
    "        r, c = len(matrix), len(matrix[0])\n",
    "  \n",
    "        # compute 2D prefix sum\n",
    "        ps = [[0] * (c + 1) for _ in range(r + 1)]\n",
    "        for i in range(1, r + 1):\n",
    "            for j in range(1, c + 1):\n",
    "                ps[i][j] = ps[i - 1][j] + ps[i][j - 1] - ps[i - 1][j - 1] + matrix[i - 1][j - 1]\n",
    "        \n",
    "        count = 0\n",
    "        # reduce 2D problem to 1D one\n",
    "        # by fixing two rows r1 and r2 and \n",
    "        # computing 1D prefix sum for all matrices using [r1..r2] rows\n",
    "        for r1 in range(1, r + 1):\n",
    "            for r2 in range(r1, r + 1):\n",
    "                h = defaultdict(int)\n",
    "                h[0] = 1               \n",
    "                for col in range(1, c + 1):\n",
    "                    # current 1D prefix sum  \n",
    "                    curr_sum = ps[r2][col] - ps[r1 - 1][col]\n",
    "                    \n",
    "                    # add subarrays which sum up to (curr_sum - target)\n",
    "                    count += h[curr_sum - target]\n",
    "                    \n",
    "                    # save current prefix sum\n",
    "                    h[curr_sum] += 1\n",
    "                    \n",
    "        return count\n",
    "    \n",
    "       \n",
    "from collections import defaultdict\n",
    "class Solution(object):\n",
    "    def numSubmatrixSumTarget(self, matrix, target):\n",
    "        if not matrix or not matrix[0]:\n",
    "            return 0\n",
    "        m, n = len(matrix), len(matrix[0])\n",
    "        cnt = 0\n",
    "        for i in range(m):  # top edge of submatrices\n",
    "            row = [0] * n\n",
    "            for j in range(i, m):  # bottom edge\n",
    "                for k in range(n):\n",
    "                    row[k] += matrix[j][k]\n",
    "                cnt += self.count_1D(row, target) # for every i, j combination, count the pre_sum\n",
    "        return cnt\n",
    "\n",
    "    def count_1D(self, nums, target):\n",
    "        # find the number of continuous subarray that sum to target\n",
    "        res = 0\n",
    "        pre_sums = {0: 1}\n",
    "        total = 0\n",
    "        for i, num in enumerate(nums):\n",
    "            total += num\n",
    "            res += pre_sums.get(total - target, 0)\n",
    "            pre_sums[total] = pre_sums.get(total, 0) + 1\n",
    "        return res\n",
    "    \n",
    "\n",
    "from collections import Counter\n",
    "class Solution:\n",
    "     def numSubmatrixSumTarget(self, matrix: List[List[int]], target: int) -> int:\n",
    "        m, n = len(matrix), len(matrix[0])\n",
    "        rowSums = matrix\n",
    "        for x in range(m):\n",
    "            for y in range(n - 1):\n",
    "                rowSums[x][y+1] += rowSums[x][y]\n",
    "                   \n",
    "        res = 0\n",
    "        for y1 in range(n):\n",
    "            for y2 in range(y1, n):\n",
    "                preSums = Counter({0: 1})\n",
    "                s = 0\n",
    "                # Convert into 1D preSum problem\n",
    "                for x in range(m):\n",
    "                    s += rowSums[x][y2] - (rowSums[x][y1-1] if y1 > 0 else 0) # row sum between y1 and y2 for row x\n",
    "                    res += preSums[s - target]\n",
    "                    preSums[s] += 1\n",
    "        return res"
   ]
  },
  {
   "cell_type": "markdown",
   "metadata": {},
   "source": [
    "# 1438. Longest Continuous Subarray With Absolute Diff Less Than or Equal to Limit"
   ]
  },
  {
   "cell_type": "code",
   "execution_count": null,
   "metadata": {
    "collapsed": true
   },
   "outputs": [],
   "source": [
    "# https://leetcode.com/problems/longest-continuous-subarray-with-absolute-diff-less-than-or-equal-to-limit/discuss/609771/JavaC%2B%2BPython-Deques-O(N)\n",
    "# sliding window\n",
    "class Solution:\n",
    "    def longestSubarray(self, A: List[int], limit: int) -> int:\n",
    "        \n",
    "        maxd = collections.deque()\n",
    "        mind = collections.deque()\n",
    "        i = 0\n",
    "        for a in A:\n",
    "            while maxd and a > maxd[-1]: maxd.pop() # descending\n",
    "            while mind and a < mind[-1]: mind.pop() # ascending\n",
    "            maxd.append(a)\n",
    "            mind.append(a)\n",
    "            if maxd[0] - mind[0] > limit:\n",
    "                if maxd[0] == A[i]: maxd.popleft()\n",
    "                if mind[0] == A[i]: mind.popleft()\n",
    "                i += 1\n",
    "        return len(A) - i # i means how many are poped out, the remainings are in the limit"
   ]
  },
  {
   "cell_type": "markdown",
   "metadata": {},
   "source": [
    "# 363. Max Sum of Rectangle No Larger Than K"
   ]
  },
  {
   "cell_type": "code",
   "execution_count": null,
   "metadata": {
    "collapsed": true
   },
   "outputs": [],
   "source": [
    "# https://leetcode.com/problems/max-sum-of-rectangle-no-larger-than-k/discuss/445540/Python-bisect-solution-(960ms-beat-71.25)\n",
    "\n",
    "# Now this problem is changed to a 1D problem: max subarray sum no more than k.\n",
    "    \n",
    "class Solution:\n",
    "    def maxSumSubmatrix(self, matrix: List[List[int]], k: int) -> int:\n",
    "        def maxSumSubarray(arr):\n",
    "            sub_s_max = float('-inf')\n",
    "            s_curr = 0\n",
    "            prefix_sums = [float('inf')]\n",
    "            # can we use heap?\n",
    "            for x in arr:\n",
    "                bisect.insort(prefix_sums, s_curr) # inserting s_curr in prefix_sums after any existing entries of s_curr.\n",
    "                s_curr += x\n",
    "                i = bisect.bisect_left(prefix_sums, s_curr - k) # Locate the insertion point for x in a to maintain sorted order,  the insertion point will be before (to the left of) any existing entries\n",
    "                sub_s_max = max(sub_s_max, s_curr - prefix_sums[i])\n",
    "            return sub_s_max\n",
    "\n",
    "        m, n = len(matrix), len(matrix[0])\n",
    "        # for each row calculate the prefix sum\n",
    "        for x in range(m):\n",
    "            for y in range(n - 1):\n",
    "                matrix[x][y+1] += matrix[x][y]\n",
    "                \n",
    "        res = float('-inf')\n",
    "        for y1 in range(n):\n",
    "            for y2 in range(y1, n):\n",
    "                # For each pair of columns, calculate the sum of rows.\n",
    "                arr = [matrix[x][y2] - (matrix[x][y1-1] if y1 > 0 else 0) for x in range(m)]\n",
    "                # convert into 1D problem\n",
    "                res = max(res, maxSumSubarray(arr))\n",
    "        return res"
   ]
  },
  {
   "cell_type": "markdown",
   "metadata": {},
   "source": [
    "# 127. Word Ladder"
   ]
  },
  {
   "cell_type": "code",
   "execution_count": null,
   "metadata": {
    "collapsed": true
   },
   "outputs": [],
   "source": [
    "from collections import defaultdict\n",
    "class Solution:\n",
    "    def ladderLength(self, beginWord: str, endWord: str, wordList: List[str]) -> int:\n",
    "        if endWord not in wordList or not endWord or not beginWord or not wordList:\n",
    "            return 0\n",
    "        # all words are of the same length\n",
    "        L = len(beginWord)\n",
    "        all_dict = defaultdict(list)\n",
    "        \n",
    "        # preprocessing the wordList to avoid TLE\n",
    "        for word in wordList:\n",
    "            for i in range(L):\n",
    "                all_dict[word[:i] + \"*\" + word[i+1:]].append(word)\n",
    "                \n",
    "        queue = collections.deque([(beginWord, 1)])\n",
    "        visited = set([beginWord])\n",
    "        while queue:\n",
    "            cur_word, level = queue.popleft()\n",
    "            for i in range(L):\n",
    "                inter_word = cur_word[:i] + \"*\" + cur_word[i+1:]                \n",
    "                for word in all_dict[inter_word]:\n",
    "                    if word == endWord:\n",
    "                        return level + 1\n",
    "                    if word not in visited:\n",
    "                        visited.add(word)\n",
    "                        queue.append((word, level + 1))              \n",
    "        return 0"
   ]
  },
  {
   "cell_type": "markdown",
   "metadata": {},
   "source": [
    "# 211. Add and Search Word - Data structure design"
   ]
  },
  {
   "cell_type": "code",
   "execution_count": null,
   "metadata": {
    "collapsed": true
   },
   "outputs": [],
   "source": [
    "class WordDictionary:\n",
    "    def __init__(self):\n",
    "        self.trie = {}\n",
    "    def addWord(self, word: str) -> None:      \n",
    "        node = self.trie\n",
    "        for w in word:\n",
    "            if w not in node:\n",
    "                node[w] = {}\n",
    "            node = node[w]          \n",
    "        node[\"#\"] = True\n",
    "        \n",
    "    def search(self, word: str) -> bool:\n",
    "        return self.search_node(self.trie, word) # helper function is needed to pass in the current node information\n",
    "       \n",
    "    def search_node(self, node, word):\n",
    "        for i, w in enumerate(word):\n",
    "            if w == \".\":\n",
    "                return any(self.search_node(node[c], word[i+1:]) for c in node if c != \"#\")\n",
    "            if w not in node:\n",
    "                return False\n",
    "            node = node[w]\n",
    "        if \"#\" in node:\n",
    "            return True\n",
    "        return False"
   ]
  },
  {
   "cell_type": "markdown",
   "metadata": {},
   "source": [
    "# 1055. Shortest Way to Form String"
   ]
  },
  {
   "cell_type": "code",
   "execution_count": null,
   "metadata": {
    "collapsed": true
   },
   "outputs": [],
   "source": [
    "# Search in source for every character in t: O(MN)\n",
    "\n",
    "class Solution:\n",
    "    def shortestWay(self, source: str, target: str) -> int:\n",
    "        num = 0\n",
    "        t_p = 0\n",
    "        while t_p < len(target):\n",
    "            s_p = 0\n",
    "            flag = False\n",
    "            while s_p < len(source) and t_p < len(target):\n",
    "                if source[s_p] == target[t_p]:\n",
    "                    s_p += 1\n",
    "                    t_p +=1\n",
    "                    flag = True # once true then always true in the length of source\n",
    "                else:\n",
    "                    s_p +=1\n",
    "                    \n",
    "            if flag == True:\n",
    "                num +=1\n",
    "            else: # if one character is not in source\n",
    "                return -1\n",
    "        return num \n",
    "    \n",
    "    \n",
    "# O(M + N*logM) O(M)  M= len(source), N = len(target)\n",
    "\n",
    "class Solution:\n",
    "    def shortestWay(self, source: str, target: str) -> int:\n",
    "        index = collections.defaultdict(list)\n",
    "        for i, ch in enumerate(source):\n",
    "            index[ch].append(i)\n",
    "\n",
    "        loop_cnt = 1\n",
    "        i = -1\n",
    "        \n",
    "        for ch in target:\n",
    "            if ch not in index:\n",
    "                return -1\n",
    "            \n",
    "            index_for_ch = index[ch]\n",
    "            # bisect_left(A, x) returns the smallest index j s.t. A[j] >= x. If no such index j exists, it returns len(A).\n",
    "            j = bisect.bisect_left(index_for_ch, i)\n",
    "            \n",
    "            if j == len(index_for_ch): # not found\n",
    "                loop_cnt += 1\n",
    "                i = index_for_ch[0] + 1\n",
    "            else:\n",
    "                i = index_for_ch[j] + 1\n",
    "                \n",
    "        return loop_cnt"
   ]
  },
  {
   "cell_type": "markdown",
   "metadata": {},
   "source": [
    "# 1140. Stone Game II"
   ]
  },
  {
   "cell_type": "code",
   "execution_count": null,
   "metadata": {
    "collapsed": true
   },
   "outputs": [],
   "source": [
    "# dp[i, m] = maximum stones the current player can get from piles[i:] with M=m\n",
    "# A[i]= total stones of piles[i:]\n",
    "\n",
    "class Solution:\n",
    "    def stoneGameII(self, A: List[int]) -> int:\n",
    "        \n",
    "        N = len(A)\n",
    "        \n",
    "        for i in range(N - 2, -1, -1):\n",
    "            A[i] += A[i + 1] \n",
    "            \n",
    "        from functools import lru_cache\n",
    "        @lru_cache(None)\n",
    "        \n",
    "        def dp(i, m):\n",
    "            if i + 2 * m >= N: # take all the rest\n",
    "                return A[i]\n",
    "            return A[i] - min(dp(i + x, max(m, x)) for x in range(1, 2 * m + 1)) # there are 2m choices\n",
    "        \n",
    "        return dp(0, 1)"
   ]
  },
  {
   "cell_type": "markdown",
   "metadata": {},
   "source": [
    "# 745. Prefix and Suffix Search"
   ]
  },
  {
   "cell_type": "code",
   "execution_count": null,
   "metadata": {
    "collapsed": true
   },
   "outputs": [],
   "source": [
    "class WordFilter(object):\n",
    "\n",
    "    def __init__(self, words):\n",
    "        from collections import defaultdict\n",
    "        self.prefixes = defaultdict(set)\n",
    "        self.suffixes = defaultdict(set)\n",
    "        self.weights = {}\n",
    "        for index, word in enumerate(words):\n",
    "            prefix, suffix = '', ''\n",
    "            for char in [''] + list(word):\n",
    "                prefix += char\n",
    "                self.prefixes[prefix].add(word)\n",
    "            for char in [''] + list(word[::-1]):\n",
    "                suffix += char\n",
    "                self.suffixes[suffix[::-1]].add(word)\n",
    "            self.weights[word] = index\n",
    "\n",
    "    def f(self, prefix, suffix):\n",
    "        weight = -1\n",
    "        for word in self.prefixes[prefix] & self.suffixes[suffix]:\n",
    "            if self.weights[word] > weight:\n",
    "                weight = self.weights[word]\n",
    "        return weight"
   ]
  },
  {
   "cell_type": "markdown",
   "metadata": {},
   "source": [
    "# 1146. Snapshot Array"
   ]
  },
  {
   "cell_type": "code",
   "execution_count": null,
   "metadata": {
    "collapsed": true
   },
   "outputs": [],
   "source": [
    "# Similar to 981. Time Based Key-Value Store\n",
    "class SnapshotArray(object):\n",
    "\n",
    "    def __init__(self, n):\n",
    "        self.A = [[[-1, 0]] for _ in range(n)]\n",
    "        self.snap_id = 0\n",
    "\n",
    "    def set(self, index, val):\n",
    "        self.A[index].append([self.snap_id, val]) # key record of historical values\n",
    "\n",
    "    def snap(self):\n",
    "        self.snap_id += 1\n",
    "        return self.snap_id - 1\n",
    "\n",
    "    def get(self, index, snap_id): \n",
    "        i = bisect.bisect(self.A[index], [snap_id + 1]) - 1  # snap_id is not continuous\n",
    "        return self.A[index][i][1]"
   ]
  },
  {
   "cell_type": "markdown",
   "metadata": {},
   "source": [
    "# 399. Evaluate Division"
   ]
  },
  {
   "cell_type": "code",
   "execution_count": 1,
   "metadata": {
    "collapsed": true
   },
   "outputs": [],
   "source": [
    "# Build graph and BFS\n",
    "class Solution(object):\n",
    "    def calcEquation(self, equations, values, queries):\n",
    "\n",
    "        graph = defaultdict(list)\n",
    "        \n",
    "        def build_graph(equations, values):           \n",
    "            for vertices, value in zip(equations, values):\n",
    "                f, t = vertices\n",
    "                graph[f].append((t, value))\n",
    "                graph[t].append((f, 1/value))\n",
    "        \n",
    "        def find_path(query):\n",
    "            b, e = query\n",
    "            \n",
    "            if b not in graph or e not in graph:\n",
    "                return -1.0\n",
    "                \n",
    "            q = collections.deque([(b, 1.0)])\n",
    "            visited = set() # one case [\"aa\", \"a\"] if use visited = set(b) \"aa\" -> \"a\"\n",
    "            visited.add(b)\n",
    "            \n",
    "            while q:\n",
    "                front, cur_product = q.popleft()\n",
    "                if front == e:\n",
    "                    return cur_product\n",
    "                \n",
    "                for neighbor, value in graph[front]:\n",
    "                    if neighbor not in visited:\n",
    "                        q.append((neighbor, cur_product*value))\n",
    "                        visited.add(neighbor)\n",
    "            \n",
    "            return -1.0\n",
    "        \n",
    "        build_graph(equations, values)\n",
    "        return [find_path(q) for q in queries]\n",
    "    \n",
    "# Weighted graph\n",
    "# Union find"
   ]
  },
  {
   "cell_type": "markdown",
   "metadata": {},
   "source": [
    "# 362. Design Hit Counter"
   ]
  },
  {
   "cell_type": "code",
   "execution_count": null,
   "metadata": {
    "collapsed": true
   },
   "outputs": [],
   "source": [
    "from collections import defaultdict\n",
    "class HitCounter(object):\n",
    "    def __init__(self):\n",
    "        self.time_records = defaultdict(int)\n",
    "\n",
    "    def hit(self, timestamp):\n",
    "        \"\"\"\n",
    "        Record a hit.\n",
    "        @param timestamp - The current timestamp (in seconds granularity).\n",
    "        :type timestamp: int\n",
    "        :rtype: None\n",
    "        \"\"\"\n",
    "        self.time_records[timestamp] += 1\n",
    "\n",
    "    def getHits(self, timestamp):\n",
    "        \"\"\"\n",
    "        Return the number of hits in the past 5 minutes.\n",
    "        @param timestamp - The current timestamp (in seconds granularity).\n",
    "        :type timestamp: int\n",
    "        :rtype: int\n",
    "        \"\"\"\n",
    "        count = 0\n",
    "        for i in range(300):\n",
    "            count += self.time_records[timestamp - i]\n",
    "        return count\n",
    "    \n",
    "    \n",
    "from collections import deque\n",
    "class HitCounter(object):\n",
    "    def __init__(self):\n",
    "        \"\"\"\n",
    "        Initialize your data structure here.\n",
    "        \"\"\"\n",
    "        self.counter = deque()\n",
    "\n",
    "    def hit(self, timestamp):\n",
    "        \"\"\"\n",
    "        Record a hit.\n",
    "        @param timestamp - The current timestamp (in seconds granularity).\n",
    "        :type timestamp: int\n",
    "        :rtype: void\n",
    "        \"\"\"\n",
    "        self.counter.append(timestamp)\n",
    "        while self.counter and timestamp -self.counter[0] >= 300:\n",
    "            self.counter.popleft()\n",
    "\n",
    "    def getHits(self, timestamp):\n",
    "        \"\"\"\n",
    "        Return the number of hits in the past 5 minutes.\n",
    "        @param timestamp - The current timestamp (in seconds granularity).\n",
    "        :type timestamp: int\n",
    "        :rtype: int\n",
    "        \"\"\"\n",
    "        while self.counter and timestamp -self.counter[0] >= 300:\n",
    "            self.counter.popleft()\n",
    "        return len(self.counter)\n",
    "        "
   ]
  },
  {
   "cell_type": "markdown",
   "metadata": {},
   "source": [
    "# 862. Shortest Subarray with Sum at Least K"
   ]
  },
  {
   "cell_type": "code",
   "execution_count": null,
   "metadata": {
    "collapsed": true
   },
   "outputs": [],
   "source": [
    "# prefix sum with heap\n",
    "\n",
    "import heapq\n",
    "class Solution:\n",
    "    def shortestSubarray(self, A: List[int], K: int) -> int:\n",
    "        q = [(0, -1)]\n",
    "        cum = 0\n",
    "        res = float('inf')\n",
    "        for i, x in enumerate(A):\n",
    "            cum += x\n",
    "            \n",
    "            while q and cum - q[0][0] >= K: # if satisfy condition popout all the solutions ending with current i\n",
    "                res = min(res, i - heapq.heappop(q)[1])\n",
    "                \n",
    "            heapq.heappush(q, (cum, i))\n",
    "        return res if res < float('inf') else -1\n",
    "        "
   ]
  },
  {
   "cell_type": "markdown",
   "metadata": {},
   "source": [
    "# 835. Image Overlap"
   ]
  },
  {
   "cell_type": "code",
   "execution_count": null,
   "metadata": {
    "collapsed": true
   },
   "outputs": [],
   "source": [
    "class Solution:\n",
    "    def largestOverlap(self, A: List[List[int]], B: List[List[int]]) -> int:\n",
    "        n, m = len(A), len(A[0])\n",
    "        \n",
    "        # keep track of the i,j coordinates where we have a 1 in both matrices: O(n**2)\n",
    "        A1s = []\n",
    "        B1s = []\n",
    "        for i in range(n):\n",
    "            for j in range(m):\n",
    "                if A[i][j] == 1:\n",
    "                    A1s.append((i, j))\n",
    "                \n",
    "                if B[i][j] == 1:\n",
    "                    B1s.append((i, j))                   \n",
    "        # for each i,j coordinate that is 1 in both A and B, find the delta between\n",
    "        # the i and j coordinates (here by subtracting bi from ai and bj from aj)\n",
    "        # and keep track of these: O(n**2)\n",
    "        mem = {}\n",
    "        for ai, aj in A1s:\n",
    "            for bi, bj in B1s:\n",
    "                k = (ai-bi, aj-bj)\n",
    "                if k in mem:\n",
    "                    mem[k] += 1\n",
    "                else:\n",
    "                    mem[k] = 1                    \n",
    "        # return our max coordinate if we have on else 0: O(n)\n",
    "        return max(mem.values() or [0])"
   ]
  },
  {
   "cell_type": "markdown",
   "metadata": {},
   "source": [
    "# 1293. Shortest Path in a Grid with Obstacles Elimination"
   ]
  },
  {
   "cell_type": "code",
   "execution_count": null,
   "metadata": {
    "collapsed": true
   },
   "outputs": [],
   "source": [
    "# BFS\n",
    "# Let N be the number of cells in the grid, and K be the quota to eliminate obstacles.\n",
    "# O(NK) O(NK)\n",
    "class Solution:\n",
    "    def shortestPath(self, grid: List[List[int]], k: int) -> int:\n",
    "        m, n = len(grid), len(grid[0])\n",
    "        visited = [[-1]*n for _ in range(m)]\n",
    "        queue = collections.deque([(0, 0, k)])\n",
    "        path = 0\n",
    "        while queue:\n",
    "            for _ in range(len(queue)):\n",
    "                r, c, cur_budget = queue.popleft()\n",
    "                if r == m - 1 and c == n - 1:\n",
    "                    return path\n",
    "                \n",
    "                for (dr, dc) in [(-1, 0), (1, 0), (0, -1), (0, 1)]:\n",
    "                    nr = r + dr\n",
    "                    nc = c + dc\n",
    "                    if 0 <= nr < m and 0 <= nc < n and cur_budget > visited[nr][nc] + grid[nr][nc]:\n",
    "                        visited[nr][nc] = cur_budget - grid[nr][nc]\n",
    "                        queue.append((nr, nc, visited[nr][nc]))\n",
    "                        \n",
    "            path += 1\n",
    "        return -1\n",
    " \n",
    "\n",
    "# https://leetcode.com/problems/shortest-path-in-a-grid-with-obstacles-elimination/discuss/451832/Python-Short-BFS-Solution\n",
    "\n",
    "\"\"\"Very nice solution! This is a generalization of the BFS w/o obstacles. In trivial BFS, we check whether the neighbor \n",
    "is visited or not, and will not move on if visited. That is because if we move on with a visited node, we will for sure\n",
    "get a bigger answer. The intuition is that some other path reached here before with a smaller number of steps, so I do \n",
    "not need to try this node again. For this problem, things changed a bit. Imagine there are two paths p1 and p2 that both\n",
    "reach the node x,y, and p1 reached first. We have the following cases: if p2 reached node x,y with a bigger number of \n",
    "eliminated nodes, then we do not need to move on with p2. If we move on and we can reach the destination, we will for \n",
    "sure get a bigger answer. However, if p2 reached node x,y with a smaller number of eliminated nodes, then we should keep \n",
    "trying because there is a chance that p1 cannot reach the destination due to insufficient number of remaining elimination \n",
    "quota. This solution upgrades my understanding of BFS. This idea will explore more paths than trivial BFS because we might\n",
    "visit the same node again. But we are still able to avoid meaningless paths early. When there is no obstacle, this solution \n",
    "is exactly the same with trivial BFS.\"\"\"\n",
    "\n",
    "class Solution:\n",
    "    def shortestPath(self, grid: List[List[int]], k: int) -> int:\n",
    "        \n",
    "        m, n = len(grid), len(grid[0])\n",
    "        q = collections.deque([[0, 0, 0]])    # row, col, num of obstables met so far\n",
    "        visited = {(0, 0): 0}                 # row, col   =>   num of obstables met so far\n",
    "        steps = 0\n",
    "        \n",
    "        while q:\n",
    "            size = len(q)\n",
    "            for _ in range(size):\n",
    "                r, c, obs = q.popleft()\n",
    "                if obs > k: \n",
    "                    continue\n",
    "                if r == m - 1 and c == n - 1: \n",
    "                    return steps\n",
    "                for r2, c2 in [[r+1, c], [r-1, c], [r, c+1], [r, c-1]]:\n",
    "                    if 0 <= r2 < m and 0 <= c2 < n:\n",
    "                        next_obs = obs + 1 if grid[r2][c2] == 1 else obs\n",
    "                        if next_obs < visited.get((r2, c2), float('inf')):\n",
    "                            visited[(r2, c2)] = next_obs\n",
    "                            q.append([r2, c2, next_obs])\n",
    "            steps += 1\n",
    "        \n",
    "        return -1  "
   ]
  },
  {
   "cell_type": "markdown",
   "metadata": {},
   "source": [
    "# 552. Student Attendance Record II"
   ]
  },
  {
   "cell_type": "code",
   "execution_count": null,
   "metadata": {
    "collapsed": true
   },
   "outputs": [],
   "source": [
    "# DP\n",
    "class Solution:\n",
    "    def checkRecord(self, n):\n",
    "        if n==1:\n",
    "            return 3\n",
    "        if n==0: \n",
    "            return 0\n",
    "        mod=1000000007\n",
    "        \n",
    "        dp=[0 for i in range(n+1)]\n",
    "        dp[0],dp[1],dp[2]=1,2,4\n",
    "        \n",
    "        # wihout \"A\"\n",
    "        for i in range(3,n+1):\n",
    "            dp[i]=(dp[i-1]+dp[i-2]+dp[i-3] )% mod\n",
    "            \n",
    "        res=dp[n] \n",
    "        \n",
    "        # with \"A\"\n",
    "        for i in range(1,n+1):\n",
    "            res+=dp[i-1]*dp[n -i]%mod\n",
    "        res=res%mod\n",
    "        return res"
   ]
  },
  {
   "cell_type": "markdown",
   "metadata": {},
   "source": [
    "# 459. Repeated Substring Pattern"
   ]
  },
  {
   "cell_type": "code",
   "execution_count": null,
   "metadata": {
    "collapsed": true
   },
   "outputs": [],
   "source": [
    "class Solution:\n",
    "    def repeatedSubstringPattern(self, s: str) -> bool:\n",
    "        return s in (s + s)[1: -1]"
   ]
  },
  {
   "cell_type": "markdown",
   "metadata": {},
   "source": [
    "# 679. 24 Game"
   ]
  },
  {
   "cell_type": "code",
   "execution_count": null,
   "metadata": {
    "collapsed": true
   },
   "outputs": [],
   "source": [
    "# DFS\n",
    "class Solution:\n",
    "    def judgePoint24(self, nums: List[int]) -> bool:\n",
    "        if not nums:\n",
    "            return False\n",
    "        return self.dfs(nums)\n",
    "       \n",
    "    def dfs(self, nums):\n",
    "        if len(nums)==1:\n",
    "            return abs(nums[0]-24) < 0.00000001\n",
    "        for i in range(len(nums)):\n",
    "            for j in range(i+1, len(nums)):\n",
    "                remaining = []\n",
    "                for k in range(len(nums)):\n",
    "                    if k!=i and k!=j:\n",
    "                        remaining.append(nums[k])\n",
    "                for permutation in self.possibilities(nums[i], nums[j]):\n",
    "                    if self.dfs(remaining+[permutation]):\n",
    "                        return True\n",
    "        return False\n",
    "                 \n",
    "    \n",
    "    def possibilities(self, a, b):\n",
    "        if a!=0 and b!=0:\n",
    "            return [a+b, a-b, b-a, a*b, a/b, b/a]\n",
    "        elif a!=0:\n",
    "            return [a+b, a-b, b-a, a*b, b/a]\n",
    "        elif b!=0:\n",
    "            return [a+b, a-b, b-a, a*b, a/b]\n",
    "        else:\n",
    "            return [a+b, a-b, b-a, a*b]"
   ]
  },
  {
   "cell_type": "markdown",
   "metadata": {},
   "source": [
    "# 221. Maximal Square"
   ]
  },
  {
   "cell_type": "code",
   "execution_count": null,
   "metadata": {
    "collapsed": true
   },
   "outputs": [],
   "source": [
    "class Solution:\n",
    "    def maximalSquare(self, matrix: List[List[str]]) -> int:        \n",
    "        if not matrix or not matrix[0]:\n",
    "            return 0\n",
    "        \n",
    "        edge = 0\n",
    "        m,n=len(matrix),len(matrix[0])\n",
    "        \n",
    "        dp=[[0 for i in range(n)] for j in range(m)]\n",
    "        for i in range(m):\n",
    "            for j in range(n):\n",
    "                if (i==0 or j==0) and int(matrix[i][j])==1:\n",
    "                    dp[i][j]=int(matrix[i][j])\n",
    " \n",
    "                elif int(matrix[i][j])==1:\n",
    "                    dp[i][j]=(1+min(dp[i-1][j-1],dp[i-1][j],dp[i][j-1]))\n",
    "                edge = max(edge, dp[i][j])\n",
    "      \n",
    "        return edge*edge"
   ]
  },
  {
   "cell_type": "markdown",
   "metadata": {},
   "source": [
    "# 85. Maximal Rectangle"
   ]
  },
  {
   "cell_type": "code",
   "execution_count": null,
   "metadata": {
    "collapsed": true
   },
   "outputs": [],
   "source": [
    "class Solution(object):\n",
    "    def maximalRectangle(self, matrix):\n",
    "        \"\"\"\n",
    "        :type matrix: List[List[str]]\n",
    "        :rtype: int\n",
    "        \"\"\"\n",
    "        if not matrix or not matrix[0]:\n",
    "            return 0\n",
    "        \n",
    "        m, n = len(matrix), len(matrix[0])\n",
    "        hist = [0]*n\n",
    "        max_area = 0\n",
    "        \n",
    "        for i in range(m):\n",
    "            # update hist for each row\n",
    "            for j in range(n):\n",
    "                if matrix[i][j] == \"0\":  # reset to zero no matter what is the previous histgram value\n",
    "                    hist[j] = 0\n",
    "                else:\n",
    "                    hist[j] += 1\n",
    "            max_area = max(max_area, self.maxAreaInHist(hist))\n",
    "        return max_area\n",
    "  \n",
    "\n",
    "    def maxAreaInHist(self, height):     \n",
    "        height.append(0) # make sure the last height is also compared\n",
    "        stack = [-1]\n",
    "        ans = 0\n",
    "        for i in range(len(height)):\n",
    "            while height[i] < height[stack[-1]]:\n",
    "                h = height[stack.pop()]\n",
    "                w = i - stack[-1] - 1\n",
    "                ans = max(ans, h * w)\n",
    "            stack.append(i)\n",
    "            \n",
    "        return ans"
   ]
  },
  {
   "cell_type": "markdown",
   "metadata": {},
   "source": [
    "# 84. Largest Rectangle in Histogram"
   ]
  },
  {
   "cell_type": "code",
   "execution_count": null,
   "metadata": {
    "collapsed": true
   },
   "outputs": [],
   "source": [
    "class Solution:\n",
    "    def largestRectangleArea(self, heights: List[int]) -> int:\n",
    "        heights.append(0) # append in the last corner case to pop out the acsending order stack\n",
    "        stack = [-1]\n",
    "        maxArea = 0\n",
    "        for i in range(len(heights)):\n",
    "            while heights[i] < heights[stack[-1]]:   # matain ascending order\n",
    "                h = heights[stack.pop()] # because it has been pop out\n",
    "                w = i - stack[-1] - 1 # stack[-1] is the left bouundary and i is the right boundary\n",
    "                maxArea = max(maxArea, h * w)\n",
    "            stack.append(i)\n",
    "        return maxArea"
   ]
  },
  {
   "cell_type": "markdown",
   "metadata": {},
   "source": [
    "# 833. Find And Replace in String"
   ]
  },
  {
   "cell_type": "code",
   "execution_count": null,
   "metadata": {
    "collapsed": true
   },
   "outputs": [],
   "source": [
    "# All these operations occur simultaneously\n",
    "# It's guaranteed that there won't be any overlap in replacement \n",
    "# Replace S from right to left because new replacement does not necessarily the same size which will impact the indexes for later replacement\n",
    "\n",
    "class Solution:\n",
    "    def findReplaceString(self, S, indexes, sources, targets):\n",
    "        for i, s, t in sorted(zip(indexes, sources, targets), reverse = True):\n",
    "            if S[i:i + len(s)] == s:\n",
    "                S = S[:i] + t + S[i + len(s):] # S[i:i + len(s)] is replaced by t\n",
    "        return S"
   ]
  },
  {
   "cell_type": "markdown",
   "metadata": {},
   "source": [
    "# 489. Robot Room Cleaner"
   ]
  },
  {
   "cell_type": "code",
   "execution_count": null,
   "metadata": {
    "collapsed": true
   },
   "outputs": [],
   "source": [
    "class Solution:\n",
    "    def cleanRoom(self, robot):\n",
    "        \"\"\"\n",
    "        :type robot: Robot\n",
    "        :rtype: None\n",
    "        \"\"\"\n",
    "        def go_back(): # Moves backward one step while maintaining the orientation.\n",
    "            robot.turnRight()\n",
    "            robot.turnRight()\n",
    "            robot.move()\n",
    "            robot.turnRight()\n",
    "            robot.turnRight()\n",
    "            \n",
    "        def backtrack(cell = (0, 0), d = 0):\n",
    "            # clean the current cell\n",
    "            visited.add(cell)\n",
    "            robot.clean()\n",
    "            # going clockwise : 0: 'up', 1: 'right', 2: 'down', 3: 'left'\n",
    "            # Explore four directions\n",
    "            \n",
    "            for i in range(4):\n",
    "                new_d = (d + i) % 4\n",
    "                new_cell = (cell[0] + directions[new_d][0], cell[1] + directions[new_d][1])\n",
    "                if new_cell not in visited and robot.move():\n",
    "                    backtrack(new_cell, new_d)\n",
    "                    go_back() # back to explore other directions\n",
    "                robot.turnRight() # turn to other directions\n",
    "                \n",
    "        directions = [(-1, 0), (0, 1), (1, 0), (0, -1)]\n",
    "        visited = set()\n",
    "        backtrack()\n",
    "                    "
   ]
  },
  {
   "cell_type": "markdown",
   "metadata": {},
   "source": [
    "# 1048. Longest String Chain"
   ]
  },
  {
   "cell_type": "code",
   "execution_count": null,
   "metadata": {
    "collapsed": true
   },
   "outputs": [],
   "source": [
    "class Solution:  \n",
    "    def longestStrChain(self, words):\n",
    "        dp = {}\n",
    "        for w in sorted(words, key=len):\n",
    "            # \"bdca\" could come from dca, bca, bda, bdc\n",
    "            dp[w] = max(dp.get(w[:i] + w[i + 1:], 0) + 1 for i in range(len(w))) \n",
    "        return max(dp.values())\n",
    "    \n",
    "from collections import defaultdict\n",
    "class Solution:  \n",
    "    def longestStrChain(self, words):\n",
    "        dp = defaultdict(int)\n",
    "        words.sort(key = len)\n",
    "        for w in words:\n",
    "            dp[w] = max(dp[w[:i] + w[i + 1:]] + 1 for i in range(len(w)))\n",
    "        return max(dp.values())"
   ]
  },
  {
   "cell_type": "markdown",
   "metadata": {},
   "source": [
    "# 1610. Maximum Number of Visible Points"
   ]
  },
  {
   "cell_type": "code",
   "execution_count": null,
   "metadata": {
    "collapsed": true
   },
   "outputs": [],
   "source": [
    "# https://www.youtube.com/watch?v=xn_VLwQnzvc&ab_channel=HuaHua\n",
    "# The math.atan2() method returns the arc tangent of y/x, in radians.\n",
    "\n",
    "class Solution:\n",
    "    def visiblePoints(self, points: List[List[int]], angle: int, location: List[int]) -> int:\n",
    "        \n",
    "        arr, extra = [], 0\n",
    "        xx, yy = location\n",
    "        \n",
    "        for x, y in points:\n",
    "            if x == xx and y == yy:\n",
    "                extra += 1\n",
    "                continue\n",
    "            arr.append(math.atan2(y - yy, x - xx))\n",
    "        \n",
    "        arr.sort()\n",
    "        arr = arr + [x + 2.0 * math.pi for x in arr]\n",
    "        angle = math.pi * angle / 180 # convert into radians\n",
    "        \n",
    "        l = ans = 0\n",
    "        for r in range(len(arr)):\n",
    "            while arr[r] - arr[l] > angle:\n",
    "                l += 1\n",
    "            ans = max(ans, r - l + 1)\n",
    "            \n",
    "        return ans + extra"
   ]
  },
  {
   "cell_type": "code",
   "execution_count": null,
   "metadata": {
    "collapsed": true
   },
   "outputs": [],
   "source": [
    "# 1277. Count Square Submatrices with All Ones\n",
    "class Solution:\n",
    "2.     def countSquares(self, matrix: List[List[int]]) -> int:\n",
    "3.         if matrix is None or len(matrix) == 0:\n",
    "4.             return 0\n",
    "5.         \n",
    "6.         rows = len(matrix)\n",
    "7.         cols = len(matrix[0])\n",
    "8.         \n",
    "9.         result = 0\n",
    "10.         \n",
    "11.         for r in range(rows):\n",
    "12.             for c in range(cols):\n",
    "13.                 if matrix[r][c] == 1:   \n",
    "14.                     if r == 0 or c == 0: # Cases with first row or first col\n",
    "15.                         result += 1      # The 1 cells are square on its own               \n",
    "16.                     else:                # Other cells\n",
    "17.                         cell_val = min(matrix[r-1][c-1], matrix[r][c-1], matrix[r-1][c]) + matrix[r][c]\n",
    "18.                         result += cell_val\n",
    "19.                         matrix[r][c] = cell_val #**memoize the updated result**\n",
    "20.         return result  "
   ]
  },
  {
   "cell_type": "markdown",
   "metadata": {},
   "source": [
    "# 1937. Maximum Number of Points with Cost"
   ]
  },
  {
   "cell_type": "code",
   "execution_count": null,
   "metadata": {
    "collapsed": true
   },
   "outputs": [],
   "source": [
    "# https://leetcode.com/problems/maximum-number-of-points-with-cost/discuss/1344908/C%2B%2BJavaPython-3-DP-Explanation-with-pictures.\n",
    "class Solution:    \n",
    "    def maxPoints(self, points: List[List[int]]) -> int:\n",
    "        m, n = len(points), len(points[0])\n",
    "        dp = copy.deepcopy(points) # 对面的女孩看过来\n",
    "        \n",
    "        for i in range(m):\n",
    "            for j in range(n): # 上看\n",
    "                if i - 1 >= 0:\n",
    "                    dp[i][j] = max(dp[i][j], dp[i - 1][j] + points[i][j])\n",
    "            for j in range(n): # 左看\n",
    "                if j - 1 >= 0:\n",
    "                    dp[i][j] = max(dp[i][j], dp[i][j - 1] - 1)\n",
    "            for j in range(n)[::-1]: # 右看\n",
    "                if j + 1 < n:\n",
    "                    dp[i][j] = max(dp[i][j], dp[i][j + 1] - 1)\n",
    "\n",
    "        return max(dp[-1]) # 每个女孩都不简单"
   ]
  },
  {
   "cell_type": "markdown",
   "metadata": {},
   "source": [
    "# 1087. Brace Expansion"
   ]
  },
  {
   "cell_type": "code",
   "execution_count": null,
   "metadata": {
    "collapsed": true
   },
   "outputs": [],
   "source": [
    "class Solution:\n",
    "    def expand(self, S: str) -> List[str]:\n",
    "        self.res = []\n",
    "        self._expand(S, 0, len(S), \"\")\n",
    "        return sorted(self.res)\n",
    "    \n",
    "    def _expand(self, string:str, start:int, size:int, prefix:str):\n",
    "        if start == size:\n",
    "            self.res.append(prefix)\n",
    "            return\n",
    "        \n",
    "        if string[start] == \"{\":\n",
    "            end = string.find(\"}\", start) # return the first \"}\" index\n",
    "            for letter in string[start+1: end].split(\",\"):\n",
    "                self._expand(string, end+1, size, prefix + letter)\n",
    "        else:\n",
    "            self._expand(string, start+1, size, prefix + string[start])"
   ]
  },
  {
   "cell_type": "markdown",
   "metadata": {},
   "source": [
    "# 1254. Number of Closed Islands"
   ]
  },
  {
   "cell_type": "code",
   "execution_count": null,
   "metadata": {
    "collapsed": true
   },
   "outputs": [],
   "source": [
    "class Solution:\n",
    " \n",
    "    def closedIsland(self, grid):\n",
    "        \"\"\"\n",
    "        :type grid: List[List[int]]\n",
    "        :rtype: int\n",
    "        \"\"\"\n",
    "        if not grid or not grid[0]:\n",
    "            return 0\n",
    "        \n",
    "        m, n = len(grid), len(grid[0])\n",
    "        \n",
    "        def dfs(i, j, val):\n",
    "            if 0<=i<m and 0<=j<n and grid[i][j]==0:\n",
    "                grid[i][j] = val\n",
    "                dfs(i, j+1, val)\n",
    "                dfs(i+1, j, val)\n",
    "                dfs(i-1, j, val)\n",
    "                dfs(i, j-1, val)\n",
    "        \n",
    "        for i in range(m):\n",
    "            for j in range(n):\n",
    "                if (i == 0 or j == 0 or i == m-1 or j == n-1) and grid[i][j] == 0:\n",
    "                    dfs(i, j, 1)\n",
    "                \n",
    "        res = 0\n",
    "        for i in range(m):\n",
    "            for j in range(n):\n",
    "                if grid[i][j] == 0:\n",
    "                    dfs(i, j, 1)\n",
    "                    res += 1\n",
    "                    \n",
    "        return res"
   ]
  },
  {
   "cell_type": "markdown",
   "metadata": {},
   "source": [
    "# 465. Optimal Account Balancine"
   ]
  },
  {
   "cell_type": "code",
   "execution_count": null,
   "metadata": {
    "collapsed": true
   },
   "outputs": [],
   "source": [
    "class Solution:\n",
    "    def minTransfers(self, transactions):\n",
    "        \"\"\"\n",
    "        :type transactions: List[List[int]]\n",
    "        :rtype: int\n",
    "        \"\"\"\n",
    "        debt = collections.defaultdict(int)\n",
    "        \n",
    "        for t in transactions:\n",
    "            debt[t[0]]-=t[2]\n",
    "            debt[t[1]]+=t[2]\n",
    "        \n",
    "        def dfs(s):\n",
    "            while(s<len(debt) and debt[s]==0):\n",
    "                s+=1\n",
    "            if s==len(debt): \n",
    "                return 0\n",
    "            \n",
    "            r = float('inf')\n",
    "            for i in range(s+1,len(debt)):\n",
    "                if debt[i]*debt[s]<0: # if opposite sign\n",
    "                    # settle s with i\n",
    "                    debt[i]+=debt[s] \n",
    "                    r=min(r,1+dfs(s+1)) # for different possibility\n",
    "                    # backtrack\n",
    "                    debt[i]-=debt[s]\n",
    "            return r\n",
    "        dfs(0)"
   ]
  },
  {
   "cell_type": "markdown",
   "metadata": {},
   "source": [
    "# 1292. Maximum Side Length of a Square with Sum Less than or Equal to Threshold"
   ]
  },
  {
   "cell_type": "code",
   "execution_count": null,
   "metadata": {
    "collapsed": true
   },
   "outputs": [],
   "source": [
    "# PrefixSum and Binary search  because the restriction of square >> use k to binary search possible solutions\n",
    "class Solution:\n",
    "    \n",
    "    def maxSideLength(self, mat, threshold):\n",
    "        \"\"\"\n",
    "        :type mat: List[List[int]]\n",
    "        :type threshold: int\n",
    "        :rtype: int\n",
    "        \"\"\"\n",
    "        if not mat:\n",
    "            return 0\n",
    "        max_square = 0\n",
    "        dp = [[0] * (len(mat[0]) + 1) for _ in range(len(mat) + 1)]\n",
    "        for i in range(1, len(mat) + 1):\n",
    "            for j in range(1, len(mat[0]) + 1):\n",
    "                dp[i][j] = dp[i - 1][j] + dp[i][j - 1] - dp[i - 1][j - 1] + mat[i - 1][j - 1]\n",
    "                l = 1\n",
    "                r = min(i, j)\n",
    "                while l <= r:\n",
    "                    k = (l + r) // 2\n",
    "                    cur_sum = dp[i][j] - dp[i - k][j] - dp[i][j - k] + dp[i - k][j - k] # move upword and leftword by k positions\n",
    "                    if cur_sum <= threshold:\n",
    "                        max_square = max(max_square, k)\n",
    "                        l = k + 1\n",
    "                    else:\n",
    "                        r = k - 1\n",
    "        return max_square"
   ]
  },
  {
   "cell_type": "markdown",
   "metadata": {},
   "source": [
    "# 593. Valid Square"
   ]
  },
  {
   "cell_type": "code",
   "execution_count": null,
   "metadata": {
    "collapsed": true
   },
   "outputs": [],
   "source": [
    "class Solution(object):\n",
    "    def validSquare(self, p1, p2, p3, p4):\n",
    "        points = [p1, p2, p3, p4]\n",
    "        \n",
    "        dists = collections.Counter()\n",
    "        for i in range(len(points)):\n",
    "            for j in range(i+1, len(points)):\n",
    "                dists[self.getDistance(points[i], points[j])] += 1\n",
    "        # four equal side length and two diagonal length\n",
    "        return len(dists)==2 and 2 in dists.values() and 4 in dists.values()\n",
    "        \n",
    "    def getDistance(self, p1, p2):\n",
    "        return (p1[0] - p2[0])**2 + (p1[1] - p2[1])**2"
   ]
  },
  {
   "cell_type": "markdown",
   "metadata": {},
   "source": [
    "# 743. Network Delay Time"
   ]
  },
  {
   "cell_type": "code",
   "execution_count": null,
   "metadata": {
    "collapsed": true
   },
   "outputs": [],
   "source": [
    "# Weighted graph: Similar to 1376. Time Needed to Inform All Employees\n",
    "# BFS\n",
    "\n",
    "from collections import deque, defaultdict\n",
    "class Solution:\n",
    "    def networkDelayTime(self, times, N, K):\n",
    "        t, graph, q = [0] + [float(\"inf\")] * N, defaultdict(list), deque([(0, K)])\n",
    "        for u, v, w in times:\n",
    "            graph[u].append((v, w))\n",
    "        while q:\n",
    "            time, node = q.popleft()\n",
    "            if time < t[node]:\n",
    "                t[node] = time\n",
    "                for v, w in graph[node]:\n",
    "                    q.append((time + w, v))\n",
    "                    \n",
    "        mx = max(t)\n",
    "        return mx if mx < float(\"inf\") else -1\n",
    "    \n",
    "# Try DFS similar to 1376    \n",
    "from collections import deque, defaultdict\n",
    "class Solution:\n",
    "    def networkDelayTime(self, times, N, K):\n",
    "        t, graph, q = [0] + [float(\"inf\")] * N, defaultdict(list), deque([(0, K)])\n",
    "        for u, v, w in times:\n",
    "            graph[u].append((v, w))\n",
    "            \n",
    "        def dfs(i): # return minimum number of minutes to inform all employee for person i    \n",
    "            if not graph[i]: # if there is no children\n",
    "                return 0\n",
    "            return max([dfs(j) + w for j, w in graph[i]])\n",
    "        \n",
    "        return dfs(K)"
   ]
  },
  {
   "cell_type": "markdown",
   "metadata": {
    "collapsed": true
   },
   "source": [
    "# 939. Minimum Area Rectangle"
   ]
  },
  {
   "cell_type": "code",
   "execution_count": null,
   "metadata": {
    "collapsed": true
   },
   "outputs": [],
   "source": [
    "class Solution(object):\n",
    "    def minAreaRect(self, points):\n",
    "        columns = collections.defaultdict(list)\n",
    "        for x, y in points:\n",
    "            columns[x].append(y)\n",
    "        lastx = {}\n",
    "        ans = float('inf')\n",
    "\n",
    "        for x in sorted(columns):\n",
    "            column = columns[x]\n",
    "            column.sort()\n",
    "            for j, y2 in enumerate(column):\n",
    "                for i in range(j):\n",
    "                    y1 = column[i]\n",
    "                    if (y1, y2) in lastx:\n",
    "                        ans = min(ans, (x - lastx[y1,y2]) * (y2 - y1))\n",
    "                    lastx[y1, y2] = x\n",
    "        return ans if ans < float('inf') else 0"
   ]
  },
  {
   "cell_type": "markdown",
   "metadata": {},
   "source": [
    "# 815. Bus Routes"
   ]
  },
  {
   "cell_type": "code",
   "execution_count": null,
   "metadata": {
    "collapsed": true
   },
   "outputs": [],
   "source": [
    "class Solution:\n",
    "    def numBusesToDestination(self, routes, S, T):\n",
    "        to_routes = collections.defaultdict(set)\n",
    "        for i, route in enumerate(routes):\n",
    "            for j in route:\n",
    "                to_routes[j].add(i)\n",
    "        queue = deque([(S, 0)])\n",
    "        seen = set([S])\n",
    "        \n",
    "        while queue:\n",
    "            stop, bus = queue.popleft() # bus meaning how many buses\n",
    "            if stop == T: \n",
    "                return bus\n",
    "            for i in to_routes[stop]:\n",
    "                for j in routes[i]:\n",
    "                    if j not in seen:\n",
    "                        queue.append((j, bus + 1))\n",
    "                        seen.add(j)\n",
    "                routes[i] = []  # seen route: set to empty to accelearate the speed\n",
    "        return -1"
   ]
  },
  {
   "cell_type": "markdown",
   "metadata": {},
   "source": [
    "# 1345. Jump Game IV"
   ]
  },
  {
   "cell_type": "code",
   "execution_count": null,
   "metadata": {
    "collapsed": true
   },
   "outputs": [],
   "source": [
    "class Solution:\n",
    "    def minJumps(self, arr: List[int]) -> int:        \n",
    "        size = len(arr)\n",
    "        if size == 1:\n",
    "            return 0\n",
    "\n",
    "        value_index_dict = defaultdict(list)\n",
    "        \n",
    "        for index, num in enumerate(arr):\n",
    "            value_index_dict[num].append(index)\n",
    "        \n",
    "        visited = set()\n",
    "        traversal_queue = deque([(0, 0)])        \n",
    "        min_step = -1\n",
    "        \n",
    "        # BFS traversal\n",
    "        while traversal_queue:           \n",
    "            for _ in range(len(traversal_queue)):                \n",
    "                cur_index, cur_step = traversal_queue.popleft()\n",
    "                if cur_index == size - 1:\n",
    "                    return cur_step\n",
    "                cur_value = arr[cur_index]\n",
    "                visited.add(cur_index)\n",
    "\n",
    "                # Exploer next level by the jump rule\n",
    "                for next_index in ( [cur_index+1, cur_index-1] + value_index_dict[cur_value] ):\n",
    "                    if (size > next_index >= 0) and (next_index not in visited) :                        \n",
    "                        traversal_queue.append((next_index, cur_step+1))\n",
    "                \n",
    "                # All shortest possible path with index of cur_value has been visited by now.\n",
    "                del value_index_dict[cur_value]\n",
    "\n",
    "        return min_step  \n",
    "    \n",
    "# BFS: more concise way\n",
    "\n",
    "from collections import deque\n",
    "class Solution:\n",
    "    def minJumps(self, arr: List[int]) -> int:        \n",
    "        size = len(arr)\n",
    "        if size == 1:\n",
    "            return 0\n",
    "\n",
    "        index = defaultdict(list)     \n",
    "        for i, num in enumerate(arr):\n",
    "            index[num].append(i)\n",
    "        \n",
    "        visited = {0}\n",
    "        q = deque([0])        \n",
    "        min_step = -1\n",
    "        \n",
    "        # BFS traversal\n",
    "        steps = 0\n",
    "        while q: \n",
    "            for _ in range(len(q)):\n",
    "                cur_index = q.popleft()\n",
    "                if cur_index == size - 1:\n",
    "                    return steps\n",
    "                \n",
    "                cur_value = arr[cur_index]\n",
    "\n",
    "                for next_index in [cur_index+1, cur_index-1] + index[cur_value]:\n",
    "                    if (size > next_index >= 0) and (next_index not in visited): \n",
    "                        q.append(next_index) \n",
    "                        visited.add(next_index)                                       \n",
    "                del index[cur_value]\n",
    "                \n",
    "            steps += 1\n",
    "\n",
    "        return min_step  \n",
    "        "
   ]
  },
  {
   "cell_type": "markdown",
   "metadata": {},
   "source": [
    "# 57. Insert Interval"
   ]
  },
  {
   "cell_type": "code",
   "execution_count": null,
   "metadata": {
    "collapsed": true
   },
   "outputs": [],
   "source": [
    "# Update the newInterval for every interval comparision\n",
    "# 56. Merge Intervals\n",
    "class Solution:\n",
    "    def insert(self, intervals: List[List[int]], newInterval: List[int]) -> List[List[int]]:\n",
    "        res, n = [], newInterval\n",
    "        for index, i in enumerate(intervals):\n",
    "            if i[1] < n[0]:\n",
    "                res.append(i)\n",
    "            elif n[1] < i[0]:\n",
    "                res.append(n)\n",
    "                return res + intervals[index:]  # can return earlier\n",
    "            else:  # overlap case\n",
    "                n[0] = min(n[0], i[0])\n",
    "                n[1] = max(n[1], i[1])\n",
    "        res.append(n)\n",
    "        return res\n",
    "    \n",
    "class Solution:\n",
    "    def insert(self, intervals: List[List[int]], newInterval: List[int]) -> List[List[int]]:\n",
    "        intervals.append(newInterval)\n",
    "        intervals.sort(key=lambda x: x[0])\n",
    "        \n",
    "        merged = []\n",
    "        for interval in intervals:\n",
    "            if not merged or merged[-1][1] < interval[0]:\n",
    "                merged.append(interval)\n",
    "            else:\n",
    "                merged[-1][1] = max(merged[-1][1], interval[1])\n",
    "        return merged"
   ]
  },
  {
   "cell_type": "markdown",
   "metadata": {},
   "source": [
    "# 1352. Product of the Last K Numbers"
   ]
  },
  {
   "cell_type": "code",
   "execution_count": null,
   "metadata": {
    "collapsed": true
   },
   "outputs": [],
   "source": [
    "class ProductOfNumbers:\n",
    "    def __init__(self):\n",
    "        self.A = [1]\n",
    "\n",
    "    def add(self, a):\n",
    "        if a == 0:\n",
    "            self.A = [1]\n",
    "        else:\n",
    "            self.A.append(self.A[-1] * a)\n",
    "\n",
    "    def getProduct(self, k):\n",
    "        if k >= len(self.A): return 0\n",
    "        return self.A[-1] // self.A[-k - 1]"
   ]
  },
  {
   "cell_type": "markdown",
   "metadata": {},
   "source": [
    "# 681. Next Closest Time"
   ]
  },
  {
   "cell_type": "code",
   "execution_count": null,
   "metadata": {
    "collapsed": true
   },
   "outputs": [],
   "source": [
    "class Solution(object):\n",
    "    def nextClosestTime(self, time):\n",
    "        \"\"\"\n",
    "        :type time: str\n",
    "        :rtype: str\n",
    "        \"\"\"\n",
    "        hour, minute = time.split(\":\")\n",
    "        \n",
    "        # Generate all possible 2 digit values\n",
    "        # There are at most 16 sorted values here\n",
    "        nums = sorted(set(hour + minute))\n",
    "        \n",
    "        # At most 16 combinations\n",
    "        two_digit_values = [a+b for a in nums for b in nums]\n",
    "\n",
    "        # Check if the next valid minute is within the hour\n",
    "        i = two_digit_values.index(minute)\n",
    "        if i + 1 < len(two_digit_values) and two_digit_values[i+1] < \"60\":\n",
    "            return hour + \":\" + two_digit_values[i+1]\n",
    "\n",
    "        # Check if the next valid hour is within the day\n",
    "        i = two_digit_values.index(hour)\n",
    "        if i + 1 < len(two_digit_values) and two_digit_values[i+1] < \"24\":\n",
    "            return two_digit_values[i+1] + \":\" + two_digit_values[0]\n",
    "        \n",
    "        # Return the earliest time of the next day\n",
    "        return two_digit_values[0] + \":\" + two_digit_values[0]"
   ]
  },
  {
   "cell_type": "markdown",
   "metadata": {},
   "source": [
    "# 394. Decode String"
   ]
  },
  {
   "cell_type": "code",
   "execution_count": null,
   "metadata": {
    "collapsed": true
   },
   "outputs": [],
   "source": [
    "#https://leetcode.com/problems/decode-string/discuss/163479/Python-short-and-simple-stack-solution-beats-100-with-explanation\n",
    "class Solution:\n",
    "    def decodeString(self, s):\n",
    "        stack = []\n",
    "        stack.append([\"\", 1])        \n",
    "        num = \"\"\n",
    "        for ch in s:\n",
    "            # the digit is always together with \"[\"         \n",
    "            if ch.isdigit():\n",
    "                num += ch\n",
    "            elif ch == '[':\n",
    "                stack.append([\"\", int(num)])\n",
    "                num = \"\"               \n",
    "            elif ch == ']':\n",
    "                st, k = stack.pop()\n",
    "                stack[-1][0] += st*k               \n",
    "            else:\n",
    "                stack[-1][0] += ch               \n",
    "        return stack[0][0]"
   ]
  },
  {
   "cell_type": "markdown",
   "metadata": {},
   "source": [
    "# 253. Meeting Rooms II"
   ]
  },
  {
   "cell_type": "code",
   "execution_count": null,
   "metadata": {
    "collapsed": true
   },
   "outputs": [],
   "source": [
    "class Solution:\n",
    "    def minMeetingRooms(self, intervals: List[List[int]]) -> int:\n",
    "        meetings = []\n",
    "        min_rooms = temp = 0\n",
    "        for interval in intervals:\n",
    "            meetings.append((interval[0], 1))\n",
    "            meetings.append((interval[1], -1))\n",
    "            \n",
    "        for _, delta in sorted(meetings):\n",
    "            temp += delta\n",
    "            min_rooms = max(min_rooms, temp)\n",
    "            \n",
    "        return min_rooms"
   ]
  },
  {
   "cell_type": "markdown",
   "metadata": {},
   "source": [
    "# 1094. Car Pooling"
   ]
  },
  {
   "cell_type": "code",
   "execution_count": null,
   "metadata": {
    "collapsed": true
   },
   "outputs": [],
   "source": [
    "class Solution:\n",
    "    def carPooling(self, trips: List[List[int]], capacity: int) -> bool:\n",
    "        timestamp = []\n",
    "        ans = 0\n",
    "        for trip in trips:\n",
    "            timestamp.append((trip[1], trip[0])) # pick up\n",
    "            timestamp.append((trip[2], -trip[0])) # drop off\n",
    "        timestamp.sort()\n",
    "        for time, used_capacity in timestamp:\n",
    "            ans += used_capacity\n",
    "            if ans > capacity:\n",
    "                return False\n",
    "        return True"
   ]
  },
  {
   "cell_type": "markdown",
   "metadata": {},
   "source": [
    "# 528. Random Pick with Weight"
   ]
  },
  {
   "cell_type": "code",
   "execution_count": null,
   "metadata": {
    "collapsed": true
   },
   "outputs": [],
   "source": [
    "class Solution:\n",
    "    def __init__(self, w: List[int]):\n",
    "        self.pre_sum = []\n",
    "        pre_sum = 0\n",
    "        for weight in w:\n",
    "            pre_sum += weight\n",
    "            self.pre_sum.append(pre_sum)\n",
    "        self.total_sum = pre_sum\n",
    "        \n",
    "    def pickIndex(self) -> int:\n",
    "        target = self.total_sum * random.random()\n",
    "        for i, pre_sum in enumerate(self.pre_sum):\n",
    "            if target < pre_sum:  # to find the first prefix sum that is larger than our target offset.\n",
    "                return i\n",
    "            \n",
    "# Binary search to find the first prefix sum that is larger than our target offset.\n",
    "    def pickIndex(self) -> int:\n",
    "        target = self.total_sum * random.random()\n",
    "        lo, hi = 0, len(self.pre_sum)\n",
    "        while lo < hi:\n",
    "            mid = lo + (hi - lo)//2\n",
    "            if self.pre_sum[mid] < target:\n",
    "                lo = mid + 1\n",
    "            else:\n",
    "                hi = mid\n",
    "        return lo"
   ]
  },
  {
   "cell_type": "markdown",
   "metadata": {},
   "source": [
    "# 418. Sentence Screen Fitting"
   ]
  },
  {
   "cell_type": "code",
   "execution_count": null,
   "metadata": {
    "collapsed": true
   },
   "outputs": [],
   "source": [
    "# Similar to 68. Text Justification\n",
    "# https://leetcode.com/problems/sentence-screen-fitting/discuss/90869/Python-with-explanation\n",
    "class Solution:\n",
    "    def wordsTyping(self, sentence, rows, cols):\n",
    "        s = ' '.join(sentence) + ' '\n",
    "        start = 0 # the index in s\n",
    "        for i in range(rows):\n",
    "            start += cols - 1\n",
    "            if s[start % len(s)] == ' ':\n",
    "                start += 1\n",
    "            elif s[(start + 1) % len(s)] == ' ':\n",
    "                start += 2\n",
    "            else:\n",
    "                while start > 0 and s[ (start - 1) % len(s) ] != ' ':\n",
    "                    start -= 1\n",
    "        return start//len(s)"
   ]
  },
  {
   "cell_type": "markdown",
   "metadata": {},
   "source": [
    "# 68 Text Justification"
   ]
  },
  {
   "cell_type": "code",
   "execution_count": null,
   "metadata": {
    "collapsed": true
   },
   "outputs": [],
   "source": [
    "class Solution:\n",
    "    def fullJustify(self, words: List[str], maxWidth: int) -> List[str]:\n",
    "        number_of_letters = 0\n",
    "        cur = []\n",
    "        ans = []\n",
    "        for word in words:\n",
    "            if number_of_letters + len(cur) + len(word) > maxWidth:\n",
    "                for i in range(maxWidth - number_of_letters):\n",
    "                    index = 0 if len(cur) == 1 else i % (len(cur) - 1)\n",
    "                    cur[index] += \" \"\n",
    "                    \n",
    "                ans.append(\"\".join(cur))\n",
    "                # reset\n",
    "                cur = []\n",
    "                number_of_letters = 0\n",
    "                \n",
    "            cur.append(word)\n",
    "            number_of_letters += len(word)\n",
    "                \n",
    "        return ans + [' '.join(cur).ljust(maxWidth)]"
   ]
  },
  {
   "cell_type": "code",
   "execution_count": null,
   "metadata": {
    "collapsed": true
   },
   "outputs": [],
   "source": []
  },
  {
   "cell_type": "markdown",
   "metadata": {},
   "source": [
    "# 1062. Longest Repeating Substring"
   ]
  },
  {
   "cell_type": "code",
   "execution_count": null,
   "metadata": {
    "collapsed": true
   },
   "outputs": [],
   "source": [
    "# Binary Search + Hashset of Hashes of Already Seen Strings\n",
    "\n",
    "class Solution:\n",
    "    def search(self, L: int, n: int, S: str) -> str:\n",
    "        \"\"\"\n",
    "        Search a substring of given length\n",
    "        that occurs at least 2 times.\n",
    "        @return start position if the substring exits and -1 otherwise.\n",
    "        \"\"\"\n",
    "        seen = set()\n",
    "        for start in range(0, n - L + 1):\n",
    "            tmp = S[start:start + L]\n",
    "            if tmp in seen:\n",
    "                return start\n",
    "            seen.add(tmp)\n",
    "        return -1\n",
    "        \n",
    "    def longestRepeatingSubstring(self, S: str) -> str:\n",
    "        n = len(S)\n",
    "        \n",
    "        # binary search, L = repeating string length\n",
    "        left, right = 1, n\n",
    "        while left <= right:\n",
    "            L = left + (right - left) // 2\n",
    "            if self.search(L, n, S) != -1: # if there is repeating substring then try to search longer\n",
    "                left = L + 1\n",
    "            else:\n",
    "                right = L - 1\n",
    "               \n",
    "        return right"
   ]
  },
  {
   "cell_type": "markdown",
   "metadata": {},
   "source": [
    "# 939. Minimum Area Rectangle"
   ]
  },
  {
   "cell_type": "code",
   "execution_count": null,
   "metadata": {
    "collapsed": true
   },
   "outputs": [],
   "source": [
    "# with sides parallel to the x and y axes.\n",
    "# O(N^2) O(N^2)\n",
    "class Solution(object):\n",
    "    def minAreaRect(self, points):\n",
    "        columns = collections.defaultdict(list)\n",
    "        for x, y in points:\n",
    "            columns[x].append(y)\n",
    "        lastx = {}\n",
    "        ans = float('inf')\n",
    "\n",
    "        for x in sorted(columns):\n",
    "            column = columns[x]\n",
    "            column.sort()\n",
    "            for j, y2 in enumerate(column):\n",
    "                for i in range(j):\n",
    "                    y1 = column[i]\n",
    "                    if (y1, y2) in lastx:\n",
    "                        ans = min(ans, (x - lastx[y1,y2]) * (y2 - y1))\n",
    "                    lastx[y1, y2] = x\n",
    "        return ans if ans < float('inf') else 0"
   ]
  },
  {
   "cell_type": "markdown",
   "metadata": {},
   "source": [
    "# 1284. Minimum Number of Flips to Convert Binary Matrix to Zero Matrix"
   ]
  },
  {
   "cell_type": "code",
   "execution_count": null,
   "metadata": {
    "collapsed": true
   },
   "outputs": [],
   "source": [
    "#https://leetcode.com/problems/minimum-number-of-flips-to-convert-binary-matrix-to-zero-matrix/discuss/446409/Python-BFS-with-flatten-matrix\n",
    "\n",
    "# BFS + memo\n",
    "# Time: O(m * n * 2 ^ (m * n)), Space: O(2 ^ (m * n)) ??\n",
    "\n",
    "from copy import deepcopy\n",
    "from collections import deque\n",
    "class Solution:\n",
    "    def minFlips(self, mat: List[List[int]]) -> int:\n",
    "        #mat = [[1,0,0],[1,0,0]]\n",
    "        m = len(mat)\n",
    "        n = len(mat[0])\n",
    "        flatten = []\n",
    "        for x in mat:\n",
    "            flatten.extend(x) # don't use append: will be a list of list\n",
    "        stack = deque([(flatten,0)]) # add a list in the stack instead of tuple for later modification\n",
    "        \n",
    "        visited = set(tuple(flatten))\n",
    "        while stack:\n",
    "            matrix,t = stack.popleft()\n",
    "            if sum(matrix)==0:\n",
    "                return t\n",
    "            for i in range(m):\n",
    "                for j in range(n):\n",
    "                    temp = deepcopy(matrix) # deep copy\n",
    "                    \n",
    "                    for x,y in [(i+1,j),(i-1,j),(i,j+1),(i,j-1),(i,j)]: # four neighbors and self\n",
    "                        if x>=0 and x<m and y>=0 and y<n:                            \n",
    "                            temp[x*n+y] ^= 1 # because the temp is the flatten format of matrix: a list\n",
    "                    if tuple(temp) not in visited:\n",
    "                        visited.add(tuple(temp))\n",
    "                        stack.append((temp,t+1))\n",
    "        return -1"
   ]
  },
  {
   "cell_type": "markdown",
   "metadata": {},
   "source": [
    "# Preorder and inorder"
   ]
  },
  {
   "cell_type": "code",
   "execution_count": null,
   "metadata": {
    "collapsed": true
   },
   "outputs": [],
   "source": [
    "# Preorder\n",
    "# Solution 1:\n",
    "def preorderTraversal(self, root):\n",
    "    if root is None:\n",
    "        return []\n",
    "    stack = [root]  # can we use deque([]) here, the answer is yes!\n",
    "    preorder = []\n",
    "    while stack:\n",
    "        node = stack.pop()  # last in first out\n",
    "        preorder.append(node.val)\n",
    "        if node.right:  # that is why appending node.right first\n",
    "            stack.append(node.right)\n",
    "        if node.left:\n",
    "            stack.append(node.left)\n",
    "    return preorder\n",
    "\n",
    "\n",
    "# Solutino 2:\n",
    "    class Solution:\n",
    "        def preorderTraversal(self, root: TreeNode) -> List[int]:\n",
    "            p, stack = root, []\n",
    "            res = []\n",
    "            while p or stack:\n",
    "                while p:\n",
    "                    stack.append(p)\n",
    "                    res.append(p.val)\n",
    "                    p = p.left\n",
    "\n",
    "                p = stack.pop()\n",
    "                p = p.right\n",
    "            return res\n",
    "\n",
    "\n",
    "\n",
    "\n",
    "# Inorder\n",
    "    class Solution:\n",
    "        def inorderTraversal(self, root: TreeNode) -> List[int]:\n",
    "            p, stack = root, []\n",
    "            res = []\n",
    "            while p or stack:\n",
    "                while p:\n",
    "                    stack.append(p)\n",
    "                    p = p.left\n",
    "\n",
    "                p = stack.pop()\n",
    "                res.append(p.val)  # res append operation different with preorder traversal\n",
    "                p = p.right\n",
    "            return res\n",
    "\n",
    "\n",
    "class Solution:\n",
    "    \"\"\"\n",
    "    @param root: The root of binary tree.\n",
    "    @return: Preorder in ArrayList which contains node values.\n",
    "    \"\"\"\n",
    "\n",
    "    def inorderTraversal(self, root):\n",
    "        self.results = []\n",
    "        self.traverse(root)\n",
    "        return self.results\n",
    "\n",
    "    def traverse(self, root):\n",
    "        if root is None:\n",
    "            return\n",
    "        self.traverse(root.left)\n",
    "        self.results.append(root.val)\n",
    "        self.traverse(root.right)"
   ]
  },
  {
   "cell_type": "markdown",
   "metadata": {},
   "source": [
    "# Phone interview"
   ]
  },
  {
   "cell_type": "code",
   "execution_count": null,
   "metadata": {
    "collapsed": true
   },
   "outputs": [],
   "source": [
    "class Node:\n",
    "   left\n",
    "   right\n",
    "   key (int)\n",
    "   count\n",
    "\n",
    "“count” # of Nodes in the subtree\n",
    "\n",
    "                                    4 (6)\n",
    "                               /             \\\n",
    "                            3 (3)         5 (2)\n",
    "                         /     \\            /    \n",
    "                   1 (1)    2 (1)     6 (1)   \n",
    "\n",
    "def FindNthNode(root, N):\n",
    "“”” inorder traversal, return Node”””\n",
    "\n",
    "\n",
    "# Inorder\n",
    "# Solution 1:\n",
    "    class Solution:\n",
    "        def inorderTraversal(self, root: TreeNode, N) -> List[int]:\n",
    "            if root.left.count = N - 1:\n",
    "                return root\n",
    "            elif root.left.count < N - 1:\n",
    "                return inorderTraversal(root.right, N - root.left.count - 1)\n",
    "            else:\n",
    "                return inorderTraversal(root.left, N)"
   ]
  }
 ],
 "metadata": {
  "kernelspec": {
   "display_name": "Python 3",
   "language": "python",
   "name": "python3"
  },
  "language_info": {
   "codemirror_mode": {
    "name": "ipython",
    "version": 3
   },
   "file_extension": ".py",
   "mimetype": "text/x-python",
   "name": "python",
   "nbconvert_exporter": "python",
   "pygments_lexer": "ipython3",
   "version": "3.6.10"
  }
 },
 "nbformat": 4,
 "nbformat_minor": 2
}
