{
 "cells": [
  {
   "cell_type": "markdown",
   "metadata": {},
   "source": [
    "# [Data structure time complexity](http://java-questions.com/ds-time-complexity.html)"
   ]
  },
  {
   "cell_type": "markdown",
   "metadata": {},
   "source": [
    "## Linked List:\n",
    "- Inserting: O(1), if done at the head, O(n) if anywhere else since we have to reach that position by traveseing the linkedlist linearly.\n",
    "- Deleting: O(1), if done at the head, O(n) if anywhere else since we have to reach that position by traveseing the linkedlist linearly.\n",
    "- Searching: O(n)"
   ]
  },
  {
   "cell_type": "markdown",
   "metadata": {},
   "source": [
    "## Heap/PriorityQueue (min/max): \n",
    "    \n",
    "- Find Min/Find Max: O(1)   To access the smallest item without popping it, use heap[0]\n",
    "- Insert(heappush): O(log n)\n",
    "- Delete Min/Delete Max(heappop): O(log n)\n",
    "- Extract Min/Extract Max: O(log n)\n",
    "- Lookup, Delete (if at all provided): O(n), we will have to scan all the elements as they are not ordered like BST\n",
    "- heapq.heapify(x) : O(n) Transform list x into a heap, in-place, in linear time."
   ]
  },
  {
   "cell_type": "markdown",
   "metadata": {},
   "source": [
    "## Queue/Deque/Circular Queue:\n",
    "- Insert: O(1)\n",
    "- Remove: O(1)\n",
    "- Size: O(1)"
   ]
  },
  {
   "cell_type": "markdown",
   "metadata": {},
   "source": [
    "## HashMap/Hashtable/HashSet(python dictionary/set):\n",
    "Insert/Delete: O(1) \n",
    "Re-size/hash: O(n)\n",
    "Contains: O(1)"
   ]
  },
  {
   "cell_type": "markdown",
   "metadata": {},
   "source": [
    "## [Array](https://dbader.org/blog/python-arrays)\n",
    "Python includes several array-like data structures in its standard library that each have slightly different characteristics. If you’re wondering how to declare an array in Python, this list will help pick the right data structure.\n",
    "\n",
    "## Linked List\n",
    "\n",
    "## Tree (Tree, Binary Tree, Binary Search Tree, Red-Black Tree, etc.)\n",
    "\n",
    "## Heap\n",
    "\n",
    "## Hash Table\n",
    "\n",
    "## [Stack (LIFO)](https://en.wikipedia.org/wiki/Stack_(abstract_data_type)):\n",
    "In computer science, a stack is an abstract data type that serves as a collection of elements, with two principal operations:\n",
    "\n",
    "- push, which adds an element to the collection, and\n",
    "- pop, which removes the most recently added element that was not yet removed.\n",
    "\n",
    "This data structure makes it possible to implement a stack as a singly linked list and a pointer to the top element. A stack may be implemented to have a bounded capacity. If the stack is full and does not contain enough space to accept an entity to be pushed, the stack is then considered to be in an overflow state. The pop operation removes an item from the top of the stack.\n",
    "\n",
    "- [The list Built-in](https://www.edureka.co/blog/stack-in-python/):\n",
    "Python’s built-in list type makes a decent stack data structure as it supports push and pop operations in amortized O(1) time. (If you do an operation say a million times, you don't really care about the worst-case or the best-case of that operation - what you care about is how much time is taken in total when you repeat the operation a million times.)\n",
    "\n",
    "Python’s lists are implemented as dynamic arrays internally which means they occasionally need to resize the storage space for elements stored in them whenever they are added or removed. The storage space is allocated more than required, so that not every push or pop requires resizing and you get an amortized O(1) time complexity for these operations.\n",
    "\n",
    "Although this makes their performance less consistent than the stable O(1) inserts and deletes provided by a linked list-based implementation. On the other hand, lists provide fast O(1) time random access to elements on the stack which can be an added benefit.\n",
    "\n",
    "- The collections.deque Class:\n",
    "\n",
    "The deque class implements a double-ended queue which supports addition and removal of elements from either end in O(1) time (non-amortized).\n",
    "\n",
    "Because deques support adding and removing elements from both ends equally well, they can serve both as queues and as stacks.\n",
    "\n",
    "Python’s deque objects are implemented as doubly-linked lists which gives them proper and consistent performance insertion and deletion of elements, but poor O(n) performance as they randomly access elements in the middle of the stack.\n",
    "\n",
    "collections.deque is a favourable choice if you’re looking for a stack data structure in Python’s standard library with the performance characteristics of a linked-list implementation.\n",
    "\n",
    "## [Queue](https://www.geeksforgeeks.org/queue-in-python/):\n",
    "A Queue is a linear data structure that stores a collection of elements. The queue operates on first in first out (FIFO) algorithm.\n",
    "\n",
    "- List is a Python’s built-in data structure that can be used as a queue. Instead of enqueue() and dequeue(), append() and pop() function is used. However, lists are quite slow for this purpose because inserting or deleting an element at the beginning requires shifting all of the other elements by one, requiring O(n) time.\n",
    "\n",
    "- Implementation using collections.deque\n",
    "\n",
    "\n",
    "Queue in Python can be implemented using deque class from the collections module. Deque is preferred over list in the cases where we need quicker append and pop operations from both the ends of container, as deque provides an O(1) time complexity for append and pop operations as compared to list which provides O(n) time complexity. Instead of enqueue and deque, append() and popleft() functions are used.\n",
    "\n",
    "\n",
    "\n",
    "## Trie\n",
    "\n",
    "Graph (both directed and undirected)\n",
    "\n",
    "Algorithms"
   ]
  },
  {
   "cell_type": "code",
   "execution_count": null,
   "metadata": {
    "collapsed": true
   },
   "outputs": [],
   "source": []
  }
 ],
 "metadata": {
  "kernelspec": {
   "display_name": "Python 3",
   "language": "python",
   "name": "python3"
  },
  "language_info": {
   "codemirror_mode": {
    "name": "ipython",
    "version": 3
   },
   "file_extension": ".py",
   "mimetype": "text/x-python",
   "name": "python",
   "nbconvert_exporter": "python",
   "pygments_lexer": "ipython3",
   "version": "3.6.10"
  }
 },
 "nbformat": 4,
 "nbformat_minor": 2
}
